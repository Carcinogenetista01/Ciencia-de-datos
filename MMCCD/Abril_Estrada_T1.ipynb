{
 "cells": [
  {
   "metadata": {},
   "cell_type": "markdown",
   "source": "# Factorizacion LU",
   "id": "968057c6b10c3f4b"
  },
  {
   "metadata": {},
   "cell_type": "markdown",
   "source": [
    "## Códigos en Python\n",
    "Escribe en Python un codigo que obtenga la factorización LU otro que obtenga la factorizacion PLU y otro que obtenga la factorizacion de Cholesky de una matriz A. En caso de que la factorizacion no pueda realizarse sobre la matriz A, tu codigo debe arrojar que es lo que la matriz A no cumple."
   ],
   "id": "e840ed0ae6089de7"
  },
  {
   "metadata": {
    "ExecuteTime": {
     "end_time": "2024-09-20T01:40:21.325670Z",
     "start_time": "2024-09-20T01:40:21.311702Z"
    }
   },
   "cell_type": "code",
   "source": [
    "import numpy as np\n",
    "import matplotlib.pyplot as plt"
   ],
   "id": "5d8b9c216dab9f5c",
   "execution_count": 176,
   "outputs": []
  },
  {
   "metadata": {
    "ExecuteTime": {
     "end_time": "2024-09-20T01:40:21.342831Z",
     "start_time": "2024-09-20T01:40:21.337643Z"
    }
   },
   "cell_type": "code",
   "source": [
    "def lu_fact(A: np.ndarray, epsilon: float = 1e-15) -> tuple[np.ndarray, np.ndarray]:\n",
    "    m, n = np.shape(A)\n",
    "    if m != n:\n",
    "        raise InvalidInputMatrix('La matriz no es cuadrada.')\n",
    "\n",
    "    L = np.eye(n)  # Inicializamos L como la matriz identidad\n",
    "    U = np.copy(A)  # Copiamos A en U\n",
    "    \n",
    "    for j in range(n - 1):\n",
    "        if abs(U[j, j]) < epsilon:\n",
    "            raise InvalidInputMatrix('La matriz no es invertible.')\n",
    "        \n",
    "        for i in range(j + 1, n):\n",
    "            L[i, j] = U[i, j] / U[j, j]  # Guardamos los factores de eliminación en L\n",
    "            U[i] = U[i] - L[i, j] * U[j]  # Realizamos la eliminación en U (hace cero debajo de la diagonal)\n",
    "    \n",
    "    return L, U\n"
   ],
   "id": "f3cb8148c075b5c3",
   "execution_count": 177,
   "outputs": []
  },
  {
   "metadata": {
    "ExecuteTime": {
     "end_time": "2024-09-20T01:40:21.358361Z",
     "start_time": "2024-09-20T01:40:21.352Z"
    }
   },
   "cell_type": "code",
   "source": [
    "def swap_rows(M: np.ndarray, row1: int, row2: int) -> np.ndarray:\n",
    "    # Intercambio de filas\n",
    "    M[[row1, row2]] = M[[row2, row1]]\n",
    "    return M\n",
    "\n",
    "def max_index(column: np.ndarray, start: int) -> int:\n",
    "    return np.argmax(np.abs(column[start:])) + start\n",
    "\n",
    "def plu_fact(A: np.ndarray, epsilon: float = 1e-15) -> tuple[np.ndarray, np.ndarray, np.ndarray]:\n",
    "    m, n = np.shape(A)\n",
    "    if m != n:\n",
    "        raise InvalidInputMatrix('La matriz no es cuadrada.')\n",
    "    \n",
    "    P = np.eye(n)\n",
    "    L = np.zeros((n, n))\n",
    "    U = np.copy(A)\n",
    "    \n",
    "    for j in range(n - 1):\n",
    "        # Encontrar el índice de la fila con el mayor valor absoluto en la columna j\n",
    "        index = max_index(U[:, j], j)\n",
    "        \n",
    "        if abs(U[index, j]) < epsilon:\n",
    "            raise InvalidInputMatrix('La matriz no es invertible.')\n",
    "        \n",
    "        # Intercambiar filas en P, L y U\n",
    "        P = swap_rows(P, j, index)\n",
    "        L = swap_rows(L, j, index)\n",
    "        U = swap_rows(U, j, index)\n",
    "        \n",
    "        for i in range(j + 1, n):\n",
    "            L[i, j] = U[i, j] / U[j, j]\n",
    "            U[i] = U[i] - L[i, j] * U[j]\n",
    "    \n",
    "    # Añadir la identidad a L\n",
    "    L = L + np.eye(n)\n",
    "    \n",
    "    return P, L, U\n"
   ],
   "id": "bead3e6f6fc6a790",
   "execution_count": 178,
   "outputs": []
  },
  {
   "metadata": {
    "ExecuteTime": {
     "end_time": "2024-09-20T01:40:21.364705Z",
     "start_time": "2024-09-20T01:40:21.359772Z"
    }
   },
   "cell_type": "code",
   "source": [
    "class InvalidInputMatrix(Exception):\n",
    "    pass\n",
    "\n",
    "def cholesky_fact(A: np.ndarray, epsilon: float = 1e-15) -> np.ndarray:\n",
    "    m, n = np.shape(A)\n",
    "    if m != n:\n",
    "        raise InvalidInputMatrix('La matriz no es cuadrada.')\n",
    "    \n",
    "    # Inicializar matriz U (triangular superior)\n",
    "    U = np.zeros_like(A)\n",
    "    \n",
    "    for i in range(n):\n",
    "        for j in range(i, n):\n",
    "            if i == j:\n",
    "                suma = np.sum(U[i, :i]**2)\n",
    "                diag_value = A[i, i] - suma\n",
    "                if diag_value < epsilon:\n",
    "                    raise InvalidInputMatrix('La matriz no es definida positiva.')\n",
    "                U[i, i] = np.sqrt(diag_value)\n",
    "            else:\n",
    "                suma = np.sum(U[i, :i] * U[j, :i])\n",
    "                U[j, i] = (A[i, j] - suma) / U[i, i]\n",
    "    \n",
    "    return U.T  # Se devuelve la matriz triangular superior\n"
   ],
   "id": "5b1d21aa01d06819",
   "execution_count": 179,
   "outputs": []
  },
  {
   "metadata": {},
   "cell_type": "markdown",
   "source": "# Error en la factorizacion",
   "id": "772d937fa5322553"
  },
  {
   "metadata": {},
   "cell_type": "markdown",
   "source": "## A) y B)",
   "id": "f8fd04061cb89a22"
  },
  {
   "metadata": {
    "ExecuteTime": {
     "end_time": "2024-09-20T16:55:41.800578Z",
     "start_time": "2024-09-20T16:55:22.297388Z"
    }
   },
   "cell_type": "code",
   "source": [
    "# calcular el error de descomposición LU\n",
    "def lu_error(A: np.ndarray, L: np.ndarray, U: np.ndarray) -> float:\n",
    "    return np.linalg.norm(A - L @ U)\n",
    "\n",
    "#  calcular el error de descomposición PLU\n",
    "def plu_error(A: np.ndarray, P: np.ndarray, L: np.ndarray, U: np.ndarray) -> float:\n",
    "    return np.linalg.norm(P @ A - L @ U)\n",
    "\n",
    "#calcular el error de descomposición de Cholesky\n",
    "def cholesky_error(A: np.ndarray, U: np.ndarray) -> float:\n",
    "    return np.linalg.norm(A - U.T @ U)\n",
    "\n",
    "scale = 25\n",
    "N = np.arange(2, 503, 10)\n",
    "\n",
    "# Inicialización de los arrays para los errores\n",
    "lu_errors_arr = np.array([])\n",
    "plu_errors_arr = np.array([])\n",
    "cholesky_errors_arr = np.array([])\n",
    "\n",
    "# Bucle para calcular los errores en cada descomposición\n",
    "for n in N:\n",
    "    # Generamos una matriz aleatoria de tamaño (n, n)\n",
    "    M = scale * np.random.rand(n, n)\n",
    "    \n",
    "    # Descomposición LU\n",
    "    L, U = lu_fact(M)  # Asegúrate de que tu función lu_fact retorne L y U\n",
    "    lu_errors_arr = np.append(lu_errors_arr, lu_error(M, L, U))\n",
    "    \n",
    "    # Descomposición PLU\n",
    "    P, L, U = plu_fact(M)  # Asegúrate de que plu_fact retorne P, L, y U\n",
    "    plu_errors_arr = np.append(plu_errors_arr, plu_error(M, P, L, U))\n",
    "    \n",
    "    # Descomposición de Cholesky (requiere una matriz simétrica y definida positiva)\n",
    "    A = M @ M.T  # Asegura que sea simétrica positiva para Cholesky\n",
    "    U = cholesky_fact(A)  # La factorización de Cholesky devuelve U (matriz triangular superior)\n",
    "    cholesky_errors_arr = np.append(cholesky_errors_arr, cholesky_error(A, U))\n",
    "\n",
    "# Imprimir resultados de errores\n",
    "print(\"Errores LU:\", lu_errors_arr)\n",
    "print(\"Errores PLU:\", plu_errors_arr)\n",
    "print(\"Errores Cholesky:\", cholesky_errors_arr)\n"
   ],
   "id": "4f233a36b47d1b2a",
   "execution_count": 215,
   "outputs": []
  },
  {
   "metadata": {},
   "cell_type": "markdown",
   "source": "## C)",
   "id": "f8f2bbafbdeca77b"
  },
  {
   "metadata": {
    "ExecuteTime": {
     "end_time": "2024-09-20T18:58:01.882913Z",
     "start_time": "2024-09-20T18:58:01.635828Z"
    }
   },
   "cell_type": "code",
   "source": [
    "plt.figure(figsize=(10,20))\n",
    "\n",
    "# Graficar los errores para LU, PLU y Cholesky\n",
    "plt.plot(N, plu_errors_arr,'b--o', label='LU', markersize=6, linewidth=1.5)\n",
    "plt.plot(N, lu_errors_arr, 'r--s', label='PLU', markersize=6, linewidth=1.5)\n",
    "plt.plot(N, cholesky_errors_arr, 'g--^', label='Cholesky', markersize=6, linewidth=1.5)\n",
    "\n",
    "# Etiquetas de los ejes\n",
    "plt.xlabel('$dim(M)=n_i$', fontsize=14)\n",
    "plt.ylabel('Error (Norma de Frobenius)', fontsize=14)\n",
    "\n",
    "# Título de la gráfica\n",
    "plt.title('Errores de Factorización en Función de la Dimensión (Escala Logarítmica)', fontsize=16)\n",
    "\n",
    "# Mostrar la cuadrícula con mayor detalle\n",
    "plt.grid(alpha=0.6)\n",
    "\n",
    "# Añadir la leyenda para identificar las curvas\n",
    "plt.legend(fontsize=12)\n",
    "\n",
    "# Mostrar la gráfica\n",
    "plt.show()\n"
   ],
   "id": "cad6dddc1f7b45e8",
   "execution_count": 221,
   "outputs": []
  },
  {
   "metadata": {},
   "cell_type": "markdown",
   "source": "## D)",
   "id": "fd4d1f606ad6cdaf"
  },
  {
   "metadata": {
    "ExecuteTime": {
     "end_time": "2024-09-20T18:58:01.632159Z",
     "start_time": "2024-09-20T18:48:18.773706Z"
    }
   },
   "cell_type": "code",
   "source": [
    "# Definir las matrices de errores \n",
    "lu_errors_matrix = np.zeros((25, len(N)))\n",
    "plu_errors_matrix = np.zeros((25, len(N)))\n",
    "cholesky_errors_matrix = np.zeros((25, len(N)))\n",
    "\n",
    "# Definir factor de escala\n",
    "scale = 25\n",
    "\n",
    "# Iterar sobre cada dimensión n_i en N\n",
    "for j, n in enumerate(N):\n",
    "    for i in range(25):  # Generar 25 matrices aleatorias para cada dimensión n_i\n",
    "        # Matriz aleatoria de dimensión n x n\n",
    "        M = scale * np.random.rand(n, n)\n",
    "        \n",
    "        try:\n",
    "            # Calcular factorizaciones y errores para LU\n",
    "            L, U = lu_fact(M)\n",
    "            lu_errors_matrix[i, j] = lu_error(M, L, U)\n",
    "            \n",
    "            # Calcular factorizaciones y errores para PLU\n",
    "            P, L, U = plu_fact(M)\n",
    "            plu_errors_matrix[i, j] = plu_error(M, P, L, U)\n",
    "            \n",
    "            # Calcular factorización y error para Cholesky (Matriz positiva definida)\n",
    "            A = M @ M.T  # A = M * M^T para garantizar que sea positiva definida\n",
    "            U = cholesky_fact(A)\n",
    "            cholesky_errors_matrix[i, j] = cholesky_error(A, U)\n",
    "        \n",
    "        except InvalidInputMatrix:\n",
    "            # En caso de error, asignar NaN\n",
    "            lu_errors_matrix[i, j] = np.nan\n",
    "            plu_errors_matrix[i, j] = np.nan\n",
    "            cholesky_errors_matrix[i, j] = np.nan\n",
    "\n",
    "# Calcular la media y desviación estándar para cada dimensión n_i\n",
    "lu_mean = np.nanmean(lu_errors_matrix, axis=0)\n",
    "lu_std = np.nanstd(lu_errors_matrix, axis=0)\n",
    "\n",
    "plu_mean = np.nanmean(plu_errors_matrix, axis=0)\n",
    "plu_std = np.nanstd(plu_errors_matrix, axis=0)\n",
    "\n",
    "cholesky_mean = np.nanmean(cholesky_errors_matrix, axis=0)\n",
    "cholesky_std = np.nanstd(cholesky_errors_matrix, axis=0)\n",
    "\n",
    "# Graficar la media de los errores con barras de error (desviación estándar)\n",
    "plt.figure(figsize=(10, 6))\n",
    "\n",
    "# Usar una escala logarítmica para los valores de error en el eje Y\n",
    "plt.yscale('log')\n",
    "\n",
    "# Graficar las medias y desviaciones estándar de LU\n",
    "plt.errorbar(N, lu_mean, yerr=lu_std, fmt='b--o', label='LU', markersize=6, linewidth=1.5)\n",
    "\n",
    "# Graficar las medias y desviaciones estándar de PLU\n",
    "plt.errorbar(N, plu_mean, yerr=plu_std, fmt='r--s', label='PLU', markersize=6, linewidth=1.5)\n",
    "\n",
    "# Graficar las medias y desviaciones estándar de Cholesky\n",
    "plt.errorbar(N, cholesky_mean, yerr=cholesky_std, fmt='g--^', label='Cholesky', markersize=6, linewidth=1.5)\n",
    "\n",
    "# Etiquetas de los ejes\n",
    "plt.xlabel('$dim(M)=n_i$', fontsize=14)\n",
    "plt.ylabel('Error Promedio (Norma de Frobenius)', fontsize=14)\n",
    "\n",
    "# Título de la gráfica\n",
    "plt.title('Media y Desviación Estándar de los Errores en Función de la Dimensión', fontsize=16)\n",
    "\n",
    "# Mostrar la cuadrícula\n",
    "plt.grid(alpha=0.6)\n",
    "\n",
    "# Añadir la leyenda para identificar las curvas\n",
    "plt.legend(fontsize=12)\n",
    "\n",
    "# Mostrar la gráfica\n",
    "plt.show()\n",
    "\n",
    "\n",
    "# Imprimir los resultados para cada método\n",
    "print(\"Media y desviación estándar de LU\")\n",
    "print(lu_mean)\n",
    "print(lu_std)\n",
    "\n",
    "print(\"\\nMedia y desviación estándar de PLU\")\n",
    "print(plu_mean)\n",
    "print(plu_std)\n",
    "\n",
    "print(\"\\nMedia y desviación estándar de Cholesky\")\n",
    "print(cholesky_mean)\n",
    "print(cholesky_std)\n"
   ],
   "id": "c3f6c6569b4d6a93",
   "execution_count": 220,
   "outputs": []
  },
  {
   "metadata": {},
   "cell_type": "markdown",
   "source": "## E) ",
   "id": "86043ccbc6cf7153"
  },
  {
   "metadata": {
    "ExecuteTime": {
     "end_time": "2024-09-20T19:28:20.447665Z",
     "start_time": "2024-09-20T19:28:20.189732Z"
    }
   },
   "cell_type": "code",
   "source": [
    "\n",
    "# Graficar la media de los errores para LU, PLU y Cholesky en función de la dimensión\n",
    "plt.figure(figsize=(10, 6))\n",
    "\n",
    "# Graficar las medias de los errores\n",
    "plt.plot(N, lu_mean, 'b--o', label='LU (Media de Errores)', markersize=6, linewidth=1.5)\n",
    "plt.plot(N, plu_mean, 'r--s', label='PLU (Media de Errores)', markersize=6, linewidth=1.5)\n",
    "plt.plot(N, cholesky_mean, 'g--^', label='Cholesky (Media de Errores)', markersize=6, linewidth=1.5)\n",
    "\n",
    "# Etiquetas de los ejes\n",
    "plt.xlabel('$dim(M)=n_i$', fontsize=14)\n",
    "plt.ylabel('Error Promedio (Norma de Frobenius)', fontsize=14)\n",
    "\n",
    "# Título de la gráfica\n",
    "plt.title('Media de Errores de Factorización en Función de la Dimensión', fontsize=16)\n",
    "\n",
    "# Mostrar la cuadrícula\n",
    "plt.grid(alpha=0.6)\n",
    "\n",
    "# Añadir la leyenda para identificar las curvas\n",
    "plt.legend(fontsize=12)\n",
    "\n",
    "# Mostrar la gráfica\n",
    "plt.show()\n"
   ],
   "id": "1fb450e2cd2bce47",
   "execution_count": 233,
   "outputs": []
  },
  {
   "metadata": {},
   "cell_type": "markdown",
   "source": [
    "### Análisis de la Estabilidad de Métodos Numéricos Según Promedio de Errores\n",
    "\n",
    "#### 1. Método **PLU** (Descomposición con pivoteo):\n",
    "- **Estabilidad**: PLU es el más estable de los métodos debido a la inclusión de pivoteo, que ayuda a manejar mejor matrices mal condicionadas.\n",
    "- **Comportamiento del error**: El crecimiento del error es controlado y más lento, lo que se refleja en un promedio de error más bajo conforme aumenta la dimensión.\n",
    "- **Conclusión**: El pivoteo limita la propagación de errores, haciendo que PLU sea más robusto frente a matrices complejas o de gran tamaño.\n",
    "\n",
    "#### 2. Método **LU** (Descomposición sin pivoteo):\n",
    "- **Inestabilidad**: LU es más propenso a la inestabilidad numérica, ya que no cuenta con un pivoteo que corrija las entradas problemáticas de la matriz.\n",
    "- **Comportamiento del error**: El error crece más rápido que en PLU debido a la falta de control sobre los valores pequeños o mal condicionados.\n",
    "- **Conclusión**: LU muestra un incremento mayor en los errores con el aumento de la dimensión, reflejando su menor estabilidad.\n",
    "\n",
    "#### 3. Método **Cholesky**:\n",
    "- **Requerimientos estrictos**: Solo funciona con matrices simétricas y definidas positivas, lo que lo hace más sensible a cualquier desviación de estas condiciones.\n",
    "- **Inestabilidad**: Cualquier violación de las condiciones requeridas lleva a una rápida acumulación de errores.\n",
    "- **Comportamiento del error**: El promedio de error crece de forma más agresiva que en PLU, siendo comparable o incluso mayor que LU en ciertas dimensiones.\n",
    "- **Conclusión**: Cholesky es menos predecible y más propenso a errores en grandes dimensiones, especialmente si las condiciones de la matriz no se cumplen rigurosamente.\n",
    "\n",
    "#### **Conclusión General**:\n",
    "- **PLU** es el más estable debido a su técnica de pivoteo.\n",
    "- **LU** y **Cholesky** muestran un crecimiento de error más rápido, siendo Cholesky el más inestable cuando las condiciones ideales no se cumplen.\n"
   ],
   "id": "7c1900607cef8a15"
  },
  {
   "metadata": {},
   "cell_type": "markdown",
   "source": "## F)",
   "id": "ea53f06ec13414c0"
  },
  {
   "metadata": {
    "ExecuteTime": {
     "end_time": "2024-09-20T19:00:21.422418Z",
     "start_time": "2024-09-20T19:00:21.201245Z"
    }
   },
   "cell_type": "code",
   "source": [
    "# Graficar la desviación estándar de los errores para LU y PLU en función de la dimensión\n",
    "plt.figure(figsize=(10, 6))\n",
    "\n",
    "# Graficar las desviaciones estándar\n",
    "plt.plot(N, lu_std, 'b--o', label='LU (Desviación Estándar)', markersize=6, linewidth=1.5)\n",
    "plt.plot(N, plu_std, 'r--s', label='PLU (Desviación Estándar)', markersize=6, linewidth=1.5)\n",
    "\n",
    "# Etiquetas de los ejes\n",
    "plt.xlabel('$dim(M)=n_i$', fontsize=14)\n",
    "plt.ylabel('Desviación Estándar del Error', fontsize=14)\n",
    "\n",
    "# Título de la gráfica\n",
    "plt.title('Desviación Estándar de los Errores en Función de la Dimensión', fontsize=16)\n",
    "\n",
    "# Mostrar la cuadrícula\n",
    "plt.grid(alpha=0.6)\n",
    "\n",
    "# Añadir la leyenda para identificar las curvas\n",
    "plt.legend(fontsize=12)\n",
    "\n",
    "# Mostrar la gráfica\n",
    "plt.show()\n"
   ],
   "id": "ab983ccd50c4de54",
   "execution_count": 223,
   "outputs": []
  },
  {
   "metadata": {},
   "cell_type": "markdown",
   "source": [
    "### Análisis de la Desviación Estándar de los Errores en LU y PLU\n",
    "\n",
    "#### **LU**:\n",
    "- La desviación estándar de los errores en la factorización LU **aumenta significativamente** conforme crece la dimensión. Esto indica que el método LU se vuelve menos predecible y más inestable para matrices de mayor tamaño.\n",
    "- La falta de pivoteo en LU amplifica los errores numéricos, lo que genera mayor variabilidad en los resultados.\n",
    "\n",
    "#### **PLU**:\n",
    "- En comparación, la desviación estándar de los errores en PLU **permanece mucho más baja** y estable conforme crece la dimensión. El pivoteo permite controlar los errores numéricos y evita que se propaguen, lo que reduce la variabilidad en los errores.\n",
    "- Aunque hay un pequeño incremento en la desviación estándar para dimensiones más grandes, este es mucho menos pronunciado que en LU, lo que confirma que **PLU es más estable** en general.\n",
    "\n",
    "#### **Conclusión**:\n",
    "- **PLU** muestra una desviación estándar considerablemente menor, lo que indica que es más confiable para el uso en matrices de mayor dimensión. La estabilidad que proporciona el pivoteo en PLU lo convierte en una opción superior frente a LU, especialmente en problemas de gran escala.\n"
   ],
   "id": "5bba3fdce595a99"
  },
  {
   "metadata": {},
   "cell_type": "markdown",
   "source": "## G",
   "id": "f5a6399ca4e500a2"
  },
  {
   "metadata": {
    "ExecuteTime": {
     "end_time": "2024-09-20T19:31:28.329611Z",
     "start_time": "2024-09-20T19:31:28.302279Z"
    }
   },
   "cell_type": "code",
   "source": [
    "# Calcular la media total de los errores para cada algoritmo\n",
    "lu_mean_total = np.nanstd(lu_mean)  # Promedio de errores LU\n",
    "plu_mean_total = np.nanstd(plu_mean)  # Promedio de errores PLU\n",
    "cholesky_mean_total = np.nanstd(cholesky_mean)  # Promedio de errores Cholesky\n",
    "\n",
    "# Imprimir los resultados\n",
    "print(f\"Promedio total del error - LU: {lu_mean_total}\")\n",
    "print(f\"Promedio total del error - PLU: {plu_mean_total}\")\n",
    "print(f\"Promedio total del error - Cholesky: {cholesky_mean_total}\")\n",
    "\n",
    "# Comparar los promedios para ver cuál tiene mayor exactitud\n",
    "if lu_mean_total < plu_mean_total and lu_mean_total < cholesky_mean_total:\n",
    "    print(\"El algoritmo LU tiene la mayor exactitud (menor promedio de error).\")\n",
    "elif plu_mean_total < lu_mean_total and plu_mean_total < cholesky_mean_total:\n",
    "    print(\"El algoritmo PLU tiene la mayor exactitud (menor promedio de error).\")\n",
    "else:\n",
    "    print(\"El algoritmo Cholesky tiene la mayor exactitud (menor promedio de error).\")\n"
   ],
   "id": "3fc674519f681bc7",
   "execution_count": 236,
   "outputs": []
  },
  {
   "metadata": {},
   "cell_type": "markdown",
   "source": [
    "### Análisis de la Exactitud de los Algoritmos LU, PLU y Cholesky\n",
    "\n",
    "La **exactitud** de un algoritmo se refiere a qué tan cercana es la solución obtenida a la solución teórica o exacta. Un **menor promedio de error** implica una mayor exactitud, ya que la diferencia con respecto a la solución teórica es mínima.\n",
    "\n",
    "#### **Promedios de Error**:\n",
    "- **LU**: 2.009312893552313e-09\n",
    "- **PLU**: 4.639852032964125e-12\n",
    "- **Cholesky**: 5.967195135740046e-09\n",
    "\n",
    "#### **Análisis**:\n",
    "- **PLU** es el algoritmo con la **mayor exactitud**, ya que tiene el menor promedio de error (4.639852032964125e-12). Esto indica que las soluciones que proporciona son las más cercanas a la solución teórica.\n",
    "- **LU** tiene un promedio de error mayor que PLU, lo que significa que es **menos exacto**, ya que sus soluciones tienden a desviarse más de la solución teórica.\n",
    "- **Cholesky** presenta el mayor promedio de error entre los tres algoritmos, lo que indica que es el **menos exacto**, con soluciones que se desvían significativamente de la solución teórica.\n",
    "\n",
    "#### **Conclusión**:\n",
    "- Basado en el promedio total del error, el algoritmo **PLU** es el más exacto, ya que proporciona las soluciones más cercanas a las soluciones teóricas. Los métodos **LU** y **Cholesky** son menos exactos, con Cholesky mostrando el mayor desvío respecto a la solución correcta.\n"
   ],
   "id": "ac79c9450baa986a"
  },
  {
   "metadata": {},
   "cell_type": "markdown",
   "source": "## H)",
   "id": "75357aee66a57fb3"
  },
  {
   "metadata": {
    "ExecuteTime": {
     "end_time": "2024-09-20T19:30:53.384053Z",
     "start_time": "2024-09-20T19:30:53.345183Z"
    }
   },
   "cell_type": "code",
   "source": [
    "# Calcular la desviación estándar total de los errores para cada algoritmo\n",
    "lu_std_total = np.nanstd(lu_errors_matrix)  # Desviación estándar total para LU\n",
    "plu_std_total = np.nanstd(plu_errors_matrix)  # Desviación estándar total para PLU\n",
    "cholesky_std_total = np.nanstd(cholesky_errors_matrix)  # Desviación estándar total para Cholesky\n",
    "\n",
    "# Imprimir los resultados\n",
    "print(f\"Desviación estándar total - LU: {lu_std_total}\")\n",
    "print(f\"Desviación estándar total - PLU: {plu_std_total}\")\n",
    "print(f\"Desviación estándar total - Cholesky: {cholesky_std_total}\")\n",
    "\n",
    "# Comparar los promedios para ver cuál tiene mayor precisión\n",
    "if lu_std_total < plu_std_total and lu_std_total < cholesky_std_total:\n",
    "    print(\"El algoritmo LU es el más preciso (menor desviación estándar promedio).\")\n",
    "elif plu_std_total < lu_std_total and plu_std_total < cholesky_std_total:\n",
    "    print(\"El algoritmo PLU es el más preciso (menor desviación estándar promedio).\")\n",
    "else:\n",
    "    print(\"El algoritmo Cholesky es el más preciso (menor desviación estándar promedio).\")\n"
   ],
   "id": "61e0f916c54ca82b",
   "execution_count": 235,
   "outputs": []
  },
  {
   "metadata": {},
   "cell_type": "markdown",
   "source": [
    "### Análisis de la Precisión de los Algoritmos LU, PLU y Cholesky\n",
    "\n",
    "La **precisión** de un algoritmo se refiere a qué tan repetitivas son las mediciones o soluciones obtenidas, independientemente de su exactitud.\n",
    " Una desviación estándar más pequeña indica una mayor precisión, ya que el error tiende a mantenerse constante entre diferentes ejecuciones.\n",
    "\n",
    "#### **Promedios de Desviación Estándar**:\n",
    "- **LU**: 5.384704256132522e-09\n",
    "- **PLU**: 8.693358903865608e-14\n",
    "- **Cholesky**: 4.512469881853291e-11\n",
    "\n",
    "#### **Análisis**:\n",
    "- **PLU** es el algoritmo con la **mayor precisión**, ya que tiene el promedio más bajo de desviación estándar. Esto implica que sus errores son muy consistentes y repetitivos en cada ejecución, lo que garantiza que el método es confiable en términos de producir resultados similares.\n",
    "- **Cholesky** es el segundo más preciso, pero su desviación estándar promedio es significativamente mayor que PLU, lo que sugiere que hay más variabilidad en los errores.\n",
    "- **LU** es el algoritmo **menos preciso** de los tres, con la desviación estándar promedio más alta. Esto significa que sus resultados son los menos consistentes y pueden variar considerablemente entre ejecuciones.\n",
    "\n",
    "#### **Conclusión**:\n",
    "- Basado en el promedio de la desviación estándar, el algoritmo **PLU** es el más preciso, ya que muestra la menor variabilidad en sus errores. Esto asegura que los resultados que genera son repetitivos y confiables.\n"
   ],
   "id": "ddddcaff3c736f8c"
  },
  {
   "metadata": {},
   "cell_type": "markdown",
   "source": "# Estabilidad en LU",
   "id": "e8e0f4df23c2029b"
  },
  {
   "metadata": {},
   "cell_type": "markdown",
   "source": "## A) y B)",
   "id": "414aa4c79b2b5ab9"
  },
  {
   "metadata": {
    "ExecuteTime": {
     "end_time": "2024-09-20T19:08:35.992665Z",
     "start_time": "2024-09-20T19:06:07.761796Z"
    }
   },
   "cell_type": "code",
   "source": [
    "# Definir las matrices de errores (25xlen(N)) preasignadas\n",
    "lu_errors_matrix = np.zeros((25, len(N)))\n",
    "plu_errors_matrix = np.zeros((25, len(N)))\n",
    "# Definir el factor de escala para generar matrices aleatorias\n",
    "scale = 25\n",
    "\n",
    "# Iterar sobre cada dimensión n_i en N\n",
    "for j, n in enumerate(N):\n",
    "    for i in range(25):  # Generar 25 matrices aleatorias para cada dimensión n_i\n",
    "        # Matriz aleatoria de dimensión n x n\n",
    "        M = scale * np.random.rand(n, n)\n",
    "        \n",
    "        # Ajustar el segundo renglón de M para que sea igual al primero, excepto M[1,1]\n",
    "        M[1, :] = M[0, :]  # Igualar el segundo renglón al primero\n",
    "        \n",
    "        # Escalar epsilon en función de M[0, 1]\n",
    "        epsilon = 1e-15 * np.abs(M[0, 1])  \n",
    "        M[1, 1] = M[0, 1] + epsilon  # Modificar la segunda entrada del segundo renglón\n",
    "        \n",
    "        # Verificar si la matriz es invertible antes de las factorizaciones\n",
    "        if np.linalg.det(M) < 1e-10:  # Evitar matrices cercanas a ser singulares\n",
    "            lu_errors_matrix[i, j] = np.nan\n",
    "            plu_errors_matrix[i, j] = np.nan\n",
    "            continue\n",
    "\n",
    "        try:\n",
    "            # Calcular factorizaciones y errores para LU\n",
    "            L, U = lu_fact(M)\n",
    "            lu_errors_matrix[i, j] = lu_error(M, L, U)\n",
    "            \n",
    "            # Calcular factorizaciones y errores para PLU\n",
    "            P, L, U = plu_fact(M)\n",
    "            plu_errors_matrix[i, j] = plu_error(M, P, L, U)\n",
    "        \n",
    "        except InvalidInputMatrix:\n",
    "            # En caso de error, asignar NaN\n",
    "            lu_errors_matrix[i, j] = np.nan\n",
    "            plu_errors_matrix[i, j] = np.nan\n",
    "# Calcular la media y desviación estándar para cada dimensión n_i\n",
    "lu_mean = np.nanmean(lu_errors_matrix, axis=0)\n",
    "lu_std = np.nanstd(lu_errors_matrix, axis=0)\n",
    "\n",
    "plu_mean = np.nanmean(plu_errors_matrix, axis=0)\n",
    "plu_std = np.nanstd(plu_errors_matrix, axis=0)\n",
    "\n",
    "\n",
    "# Graficar la media de los errores con barras de error (desviación estándar)\n",
    "plt.figure(figsize=(10, 6))\n",
    "\n",
    "# Graficar las medias y desviaciones estándar de LU\n",
    "plt.errorbar(N, lu_mean, yerr=lu_std, fmt='b--o', label='LU', markersize=6, linewidth=1.5)\n",
    "\n",
    "# Graficar las medias y desviaciones estándar de PLU\n",
    "plt.errorbar(N, plu_mean, yerr=plu_std, fmt='r--s', label='PLU', markersize=6, linewidth=1.5)\n",
    "\n",
    "# Etiquetas de los ejes\n",
    "plt.xlabel('$dim(M)=n_i$', fontsize=14)\n",
    "plt.ylabel('Error Promedio (Norma de Frobenius)', fontsize=14)\n",
    "\n",
    "# Título de la gráfica\n",
    "plt.title('Media y Desviación Estándar de los Errores en Función de la Dimensión', fontsize=16)\n",
    "\n",
    "# Mostrar la cuadrícula\n",
    "plt.grid(alpha=0.6)\n",
    "\n",
    "# Añadir la leyenda para identificar las curvas\n",
    "plt.legend(fontsize=12)\n",
    "\n",
    "# Mostrar la gráfica\n",
    "plt.show()\n",
    "\n",
    "# Imprimir los resultados para cada método\n",
    "print(\"Media y desviación estándar de LU\")\n",
    "print(lu_mean)\n",
    "print(lu_std)\n",
    "\n",
    "print(\"\\nMedia y desviación estándar de PLU\")\n",
    "print(plu_mean)\n",
    "print(plu_std)\n",
    "\n"
   ],
   "id": "36ad2e3b8b3f914",
   "execution_count": 226,
   "outputs": []
  },
  {
   "metadata": {},
   "cell_type": "markdown",
   "source": "",
   "id": "e9c8cee988af6a48"
  },
  {
   "metadata": {},
   "cell_type": "markdown",
   "source": [
    "### Análisis Comparativo de la Media y Desviación Estándar entre LU y PLU\n",
    "\n",
    "#### Gráfica de Media y Desviación Estándar de LU y PLU\n",
    "\n",
    "A partir de los datos de **media de errores** y **desviación estándar**, podemos realizar un análisis de por qué el algoritmo **PLU** es más acertado que **LU**.\n",
    "\n",
    "#### 1. **Exactitud (Media de errores)**:\n",
    "- **PLU** presenta una media de errores consistentemente más baja que **LU**. Esto sugiere que las soluciones generadas por **PLU** son más cercanas a la solución teórica o exacta, es decir, **PLU es más exacto**.\n",
    "- En comparación, la media de errores de **LU** es significativamente mayor, especialmente a medida que aumenta la dimensión, lo que indica que el algoritmo **LU tiende a producir soluciones menos precisas** conforme el problema se vuelve más grande y complejo.\n",
    "\n",
    "#### 2. **Precisión (Desviación estándar)**:\n",
    "- La **desviación estándar** en **PLU** es considerablemente más baja que en **LU**. Esto implica que **PLU es mucho más consistente** en los errores que produce, lo que significa que sus resultados son más predecibles y repetitivos.\n",
    "- **LU**, por otro lado, muestra una desviación estándar mucho mayor, lo que indica una **alta variabilidad en los errores**. Esta falta de consistencia en las soluciones de LU sugiere que es menos confiable, especialmente en problemas de alta dimensión.\n",
    "\n",
    "#### 3. **Comportamiento conforme aumenta la dimensión**:\n",
    "- En ambas métricas (media y desviación estándar), **LU** presenta un crecimiento mucho más abrupto conforme aumenta la dimensión, lo que indica que su desempeño empeora de manera considerable a medida que el tamaño de la matriz aumenta.\n",
    "- **PLU**, sin embargo, **mantiene tanto su media de errores como su desviación estándar bastante estables**, lo que refuerza su superioridad en términos de exactitud y precisión.\n",
    "\n",
    "#### 4. **Conclusión**:\n",
    "- **PLU es más acertado que LU** porque muestra un **menor promedio de errores** (mayor exactitud) y una **menor desviación estándar** (mayor precisión). Esto se debe a su capacidad para controlar mejor los errores numéricos mediante el uso del **pivoteo**, lo que hace que las soluciones obtenidas sean más cercanas a las correctas y más consistentes.\n",
    "- **LU**, al no utilizar pivoteo, es más propenso a la amplificación de errores y genera soluciones menos predecibles y menos precisas, especialmente en problemas de mayor tamaño.\n"
   ],
   "id": "217a32729e0a4ef9"
  }
 ],
 "metadata": {
  "kernelspec": {
   "display_name": "Python 3",
   "language": "python",
   "name": "python3"
  },
  "language_info": {
   "codemirror_mode": {
    "name": "ipython",
    "version": 2
   },
   "file_extension": ".py",
   "mimetype": "text/x-python",
   "name": "python",
   "nbconvert_exporter": "python",
   "pygments_lexer": "ipython2",
   "version": "2.7.6"
  }
 },
 "nbformat": 4,
 "nbformat_minor": 5
}
