{
 "cells": [
  {
   "cell_type": "code",
   "id": "53d306b6dfa4fc48",
   "metadata": {
    "collapsed": true,
    "ExecuteTime": {
     "end_time": "2024-10-01T03:49:30.867607Z",
     "start_time": "2024-10-01T03:49:30.863355Z"
    }
   },
   "source": [
    "import numpy as np\n",
    "import matplotlib.pyplot as plt"
   ],
   "execution_count": 98,
   "outputs": []
  },
  {
   "metadata": {},
   "cell_type": "markdown",
   "source": "",
   "id": "c0b612f3740237ea"
  },
  {
   "metadata": {},
   "cell_type": "markdown",
   "source": "# 1. Solucion a la ecuacion Ax=b",
   "id": "b2f2e2b337af99ea"
  },
  {
   "metadata": {
    "ExecuteTime": {
     "end_time": "2024-10-01T05:40:38.733534Z",
     "start_time": "2024-10-01T05:40:38.723452Z"
    }
   },
   "cell_type": "code",
   "source": [
    "def swap_rows(A, i, j):\n",
    "    \"\"\"\n",
    "    Intercambia las filas i y j de la matriz A.\n",
    "    \"\"\"\n",
    "    A[[i, j]] = A[[j, i]]  # Intercambio sin necesidad de variable temporal.\n"
   ],
   "id": "9fe3403feb4886a5",
   "execution_count": 196,
   "outputs": []
  },
  {
   "metadata": {},
   "cell_type": "markdown",
   "source": "A)",
   "id": "93e806d4815db4a3"
  },
  {
   "metadata": {},
   "cell_type": "markdown",
   "source": "B)",
   "id": "d3ab0adf2fea0499"
  },
  {
   "metadata": {},
   "cell_type": "markdown",
   "source": "C)",
   "id": "68ef82f1c390c600"
  },
  {
   "metadata": {
    "ExecuteTime": {
     "end_time": "2024-10-01T05:40:41.346762Z",
     "start_time": "2024-10-01T05:40:41.324692Z"
    }
   },
   "cell_type": "code",
   "source": [
    "def fact_plu(A):\n",
    "    \"\"\"\n",
    "    Factoriza la matriz A en las matrices P, L y U utilizando la factorización PLU.\n",
    "    \n",
    "    Parameters:\n",
    "    -----------\n",
    "    A : np.ndarray\n",
    "        Matriz a factorizar.\n",
    "    \n",
    "    Returns:\n",
    "    --------\n",
    "    P, L, U : np.ndarray\n",
    "        Matrices de permutación (P), triangular inferior (L) y triangular superior (U).\n",
    "    \"\"\"\n",
    "    m, n = np.shape(A)\n",
    "    if m != n:\n",
    "        raise ValueError(\"La matriz debe ser cuadrada\")\n",
    "    \n",
    "    P = np.eye(n)  # Matriz de permutación\n",
    "    L = np.zeros((n, n))  # Matriz triangular inferior\n",
    "    U = np.copy(A)  # Copia de la matriz original\n",
    "    \n",
    "    for j in range(n - 1):\n",
    "        # Pivoteo parcial\n",
    "        if np.abs(U[j, j]) == 0:\n",
    "            max_row = np.argmax(np.abs(U[j:, j])) + j\n",
    "            if U[max_row, j] == 0:\n",
    "                raise ValueError(\"La matriz es singular\")\n",
    "            swap_rows(U, j, max_row)\n",
    "            swap_rows(P, j, max_row)\n",
    "        \n",
    "        for i in range(j + 1, n):\n",
    "            L[i, j] = U[i, j] / U[j, j]\n",
    "            U[i] -= L[i, j] * U[j]\n",
    "    \n",
    "    L += np.eye(n)  # Añadir la diagonal de unos a L\n",
    "    return P, L, U\n",
    "\n",
    "def forward_substitution(L, b):\n",
    "    \"\"\"\n",
    "    Resuelve el sistema Ly = b, donde L es una matriz triangular inferior.\n",
    "    \n",
    "    Parameters:\n",
    "    -----------\n",
    "    L : np.ndarray\n",
    "        Matriz triangular inferior.\n",
    "    b : np.ndarray\n",
    "        Vector independiente.\n",
    "    \n",
    "    Returns:\n",
    "    --------\n",
    "    y : np.ndarray\n",
    "        Solución del sistema Ly = b.\n",
    "    \"\"\"\n",
    "    n = len(b)\n",
    "    y = np.zeros_like(b)\n",
    "    \n",
    "    for i in range(n):\n",
    "        y[i] = (b[i] - np.dot(L[i, :i], y[:i])) / L[i, i]\n",
    "    \n",
    "    return y\n",
    "\n",
    "def backward_substitution(U, y):\n",
    "    \"\"\"\n",
    "    Resuelve el sistema Ux = y, donde U es una matriz triangular superior.\n",
    "    \n",
    "    Parameters:\n",
    "    -----------\n",
    "    U : np.ndarray\n",
    "        Matriz triangular superior.\n",
    "    y : np.ndarray\n",
    "        Vector independiente.\n",
    "    \n",
    "    Returns:\n",
    "    --------\n",
    "    x : np.ndarray\n",
    "        Solución del sistema Ux = y.\n",
    "    \"\"\"\n",
    "    n = len(y)\n",
    "    x = np.zeros_like(y)\n",
    "    \n",
    "    for i in range(n - 1, -1, -1):\n",
    "        x[i] = (y[i] - np.dot(U[i, i + 1:], x[i + 1:])) / U[i, i]\n",
    "    \n",
    "    return x\n",
    "\n",
    "def solve_plu(A, b):\n",
    "    \"\"\"\n",
    "    Resuelve el sistema Ax = b usando la factorización PLU.\n",
    "    \n",
    "    Parameters:\n",
    "    -----------\n",
    "    A : np.ndarray\n",
    "        Matriz de coeficientes A.\n",
    "    b : np.ndarray\n",
    "        Vector de términos independientes b.\n",
    "    \n",
    "    Returns:\n",
    "    --------\n",
    "    x : np.ndarray\n",
    "        Solución del sistema Ax = b.\n",
    "    \"\"\"\n",
    "    # Factorización PLU\n",
    "    P, L, U = fact_plu(A)\n",
    "    \n",
    "    # Resolver Ly = Pb\n",
    "    Pb = np.dot(P, b)\n",
    "    y = forward_substitution(L, Pb)\n",
    "    \n",
    "    # Resolver Ux = y\n",
    "    x = backward_substitution(U, y)\n",
    "    \n",
    "    return x\n"
   ],
   "id": "bb6e5d24be989137",
   "execution_count": 197,
   "outputs": []
  },
  {
   "metadata": {},
   "cell_type": "markdown",
   "source": "D)",
   "id": "df8566effe87793d"
  },
  {
   "metadata": {
    "ExecuteTime": {
     "end_time": "2024-10-01T05:40:42.149706Z",
     "start_time": "2024-10-01T05:40:42.145797Z"
    }
   },
   "cell_type": "code",
   "source": [
    "def fact_cholesky(A):\n",
    "    \"\"\"\n",
    "    Realiza la factorización de Cholesky de una matriz A.\n",
    "    \n",
    "    Parámetros:\n",
    "    A (numpy.ndarray): Matriz simétrica y definida positiva.\n",
    "    \n",
    "    Retorna:\n",
    "    numpy.ndarray: Matriz L tal que A = LL^T.\n",
    "    \"\"\"\n",
    "    n = A.shape[0]\n",
    "    L = np.zeros_like(A)\n",
    "    \n",
    "    # Comprobar si la matriz es cuadrada\n",
    "    if A.shape[0] != A.shape[1]:\n",
    "        raise ValueError('La matriz no es cuadrada.')\n",
    "    \n",
    "    # Comprobar si la matriz es simétrica\n",
    "    if not np.allclose(A, A.T):\n",
    "        raise ValueError('La matriz no es simétrica.')\n",
    "    \n",
    "    for i in range(n):\n",
    "        temp_sum = np.dot(L[i, :i], L[i, :i])\n",
    "        diag_element = A[i, i] - temp_sum\n",
    "        if diag_element <= 0:\n",
    "            raise ValueError('La matriz no es definida positiva.')\n",
    "        \n",
    "        L[i, i] = np.sqrt(diag_element)\n",
    "        \n",
    "        for j in range(i + 1, n):\n",
    "            temp_sum = np.dot(L[j, :i], L[i, :i])\n",
    "            L[j, i] = (A[j, i] - temp_sum) / L[i, i]\n",
    "    \n",
    "    return L\n",
    "def solve_cholesky(A, b):\n",
    "    \"\"\"\n",
    "    Resuelve el sistema Ax = b utilizando la factorización de Cholesky A = LL^T.\n",
    "    \n",
    "    Parámetros:\n",
    "    A (numpy.ndarray): Matriz simétrica y definida positiva.\n",
    "    b (numpy.ndarray): Vector b.\n",
    "    \n",
    "    Retorna:\n",
    "    numpy.ndarray: Vector solución x.\n",
    "    \"\"\"\n",
    "    # Obtener la factorización de Cholesky A = LL^T\n",
    "    L = fact_cholesky(A)\n",
    "    # Resolver Ly = b utilizando sustitución hacia adelante\n",
    "    y = forward_substitution(L, b)\n",
    "    # Resolver L^T x = y utilizando sustitución hacia atrás\n",
    "    x = backward_substitution(L.T, y)\n",
    "    \n",
    "    return x"
   ],
   "id": "6a2df6becf07ac70",
   "execution_count": 198,
   "outputs": []
  },
  {
   "metadata": {
    "ExecuteTime": {
     "end_time": "2024-10-01T05:40:42.547020Z",
     "start_time": "2024-10-01T05:40:42.538189Z"
    }
   },
   "cell_type": "code",
   "source": [
    "A = np.random.rand(100, 100)\n",
    "x = np.arange(1, 101, dtype=np.float64)  # Vector de 1 a 100\n",
    "b = A @ x\n",
    "x_teorico = np.array([i + 1 for i in range(100)])\n",
    "print(\"Vector b:\", b)"
   ],
   "id": "63001d4865b2dd3a",
   "execution_count": 199,
   "outputs": []
  },
  {
   "metadata": {},
   "cell_type": "markdown",
   "source": "E), F), G) y H)",
   "id": "5788fef05300e191"
  },
  {
   "metadata": {
    "ExecuteTime": {
     "end_time": "2024-10-01T05:40:43.401144Z",
     "start_time": "2024-10-01T05:40:43.362785Z"
    }
   },
   "cell_type": "code",
   "source": [
    "np.random.seed(42)\n",
    "A = np.random.rand(100, 100)\n",
    "x_original = np.arange(1, 101, dtype=np.float64)\n",
    "\n",
    "# Crear la matriz N que es simétrica y definida positiva\n",
    "N = A @ A.T\n",
    "b_N = N @ x_original  # Calcular el vector b\n",
    "\n",
    "# Solucionador PLU\n",
    "x_plu = solve_plu(N, b_N)\n",
    "print(\" PLU:\", x_plu)\n",
    "print( np.allclose(N @ x_plu, b_N))\n",
    "\n",
    "# Solucionador Cholesky (N simétrica y definida positiva)\n",
    "x_cholesky = solve_cholesky(N, b_N)\n",
    "print(\" Cholesky:\", x_cholesky)\n",
    "print(np.allclose(N @ x_cholesky, b_N))"
   ],
   "id": "107a3a35dd14e70e",
   "execution_count": 200,
   "outputs": []
  },
  {
   "metadata": {
    "ExecuteTime": {
     "end_time": "2024-10-01T05:40:44.677479Z",
     "start_time": "2024-10-01T05:40:43.591724Z"
    }
   },
   "cell_type": "code",
   "source": [
    "def calcular_errores(x_teorico, x_calculado):\n",
    "    \"\"\"\n",
    "    Calcula el error absoluto y el error relativo entre la solución teórica y la solución calculada.\n",
    "    \n",
    "    Parámetros:\n",
    "    x_teorico (numpy.ndarray): Vector solución teórica x_s.\n",
    "    x_calculado (numpy.ndarray): Vector solución calculada x.\n",
    "    \n",
    "    Retorna:\n",
    "    tuple: error absoluto, error relativo\n",
    "    \"\"\"\n",
    "    error_absoluto = np.linalg.norm(x_teorico - x_calculado)\n",
    "    error_relativo = error_absoluto / np.linalg.norm(x_teorico) if np.linalg.norm(x_teorico) != 0 else np.nan\n",
    "    return error_absoluto, error_relativo\n",
    "\n",
    "# Guardar los errores en listas\n",
    "errores_abs_plu = []\n",
    "errores_rel_plu = []\n",
    "errores_abs_cholesky = []\n",
    "errores_rel_cholesky = []\n",
    "\n",
    "# Calcular errores para 30 iteraciones\n",
    "for i in range(30):\n",
    "    # Genera una matriz A aleatoria por cada iteración\n",
    "    A = np.random.rand(100, 100)\n",
    "    # Genera el vector teórico x\n",
    "    x_original = np.arange(1, 101, dtype=np.float64)\n",
    "    # Calcular para Cholesky\n",
    "    N = A @ A.T\n",
    "    b_N = N @ x_original\n",
    "    # Solucionador PLU\n",
    "    x_plu = solve_plu(N, b_N)\n",
    "    err_abs_plu, err_rel_plu = calcular_errores(x_original, x_plu)\n",
    "    errores_abs_plu.append(err_abs_plu)\n",
    "    errores_rel_plu.append(err_rel_plu)\n",
    "    # Solucionador Cholesky\n",
    "    x_cholesky = solve_cholesky(N, b_N)\n",
    "    err_abs_cholesky, err_rel_cholesky = calcular_errores(x_original, x_cholesky)\n",
    "    errores_abs_cholesky.append(err_abs_cholesky)\n",
    "    errores_rel_cholesky.append(err_rel_cholesky)\n",
    "\n",
    "# Convertir listas a arrays para que sea más fácil de manipular...\n",
    "errores_abs_plu = np.array(errores_abs_plu)\n",
    "errores_rel_plu = np.array(errores_rel_plu)\n",
    "errores_abs_cholesky = np.array(errores_abs_cholesky)\n",
    "errores_rel_cholesky = np.array(errores_rel_cholesky)\n",
    "\n",
    "# Graficar errores\n",
    "plt.figure(figsize=(10, 6))\n",
    "\n",
    "# Graficar errores absolutos\n",
    "plt.subplot(2, 1, 1)\n",
    "plt.plot(errores_abs_plu, label='Error absoluto PLU', marker='o')\n",
    "plt.plot(errores_abs_cholesky, label='Error absoluto Cholesky', marker='x')\n",
    "plt.title('Errores Absolutos')\n",
    "plt.xlabel('Iteración')\n",
    "plt.ylabel('Error absoluto')\n",
    "plt.grid()\n",
    "plt.legend()\n",
    "\n",
    "# Graficar errores relativos\n",
    "plt.subplot(2, 1, 2)\n",
    "plt.plot(errores_rel_plu, label='Error relativo PLU', marker='o')\n",
    "plt.plot(errores_rel_cholesky, label='Error relativo Cholesky', marker='x')\n",
    "plt.title('Errores Relativos')\n",
    "plt.xlabel('Iteración')\n",
    "plt.ylabel('Error relativo')\n",
    "plt.legend()\n",
    "\n",
    "plt.grid()\n",
    "plt.show()\n",
    "\n",
    "# Calcular y mostrar promedios de errores\n",
    "print(f\"Error absoluto promedio PLU: {np.mean(errores_abs_plu):.6e}\")\n",
    "print(f\"Error relativo promedio PLU: {np.mean(errores_rel_plu):.6e}\")\n",
    "print(f\"Error absoluto promedio Cholesky: {np.mean(errores_abs_cholesky):.6e}\")\n",
    "print(f\"Error relativo promedio Cholesky: {np.mean(errores_rel_cholesky):.6e}\")\n"
   ],
   "id": "initial_id",
   "execution_count": 201,
   "outputs": []
  },
  {
   "metadata": {},
   "cell_type": "markdown",
   "source": "i)",
   "id": "f1f8fe2dcf9ab623"
  },
  {
   "metadata": {},
   "cell_type": "markdown",
   "source": [
    "### Análisis del Uso de Errores Absoluto y Relativo\n",
    "\n",
    "En este contexto particular, donde las magnitudes de los valores de las matrices no varían significativamente, se puede argumentar que tanto el **error absoluto** como el **error relativo** ofrecen información similar sobre el rendimiento de los algoritmos. \n",
    "\n",
    "- **Error Absoluto**: Mide la diferencia total entre la solución teórica \\( x_s \\) y la solución calculada \\( x \\). Esto es útil para entender cuánto se desvía la solución calculada de la solución real.\n",
    "  \n",
    "- **Error Relativo**: Mide esa misma diferencia, pero la normaliza con respecto a la magnitud de la solución teórica, lo que permite ver el error en un contexto más proporcional.\n",
    "\n",
    "Dado que se utilizan valores constantes para las matrices, el error relativo puede considerarse un escalamiento del error absoluto. Por lo tanto, en este caso, **ambos errores proporcionan información similar**, lo que implica que cualquiera de ellos podría ser adecuado para evaluar el funcionamiento de los algoritmos."
   ],
   "id": "7a21e3cb7ec71284"
  },
  {
   "metadata": {},
   "cell_type": "markdown",
   "source": "j)",
   "id": "170a954d2f27e735"
  },
  {
   "metadata": {},
   "cell_type": "markdown",
   "source": "\n",
   "id": "eb3ba9f7ec04e7de"
  },
  {
   "metadata": {
    "ExecuteTime": {
     "end_time": "2024-10-01T05:40:46.482375Z",
     "start_time": "2024-10-01T05:40:46.468612Z"
    }
   },
   "cell_type": "code",
   "source": [
    "print('Media (relative error) PLU:', err_rel_plu.mean())\n",
    "print('Media (relative error) Cholesky:', err_rel_cholesky.mean())"
   ],
   "id": "9f315b3870c25952",
   "execution_count": 202,
   "outputs": []
  },
  {
   "metadata": {
    "ExecuteTime": {
     "end_time": "2024-10-01T05:40:46.936156Z",
     "start_time": "2024-10-01T05:40:46.932661Z"
    }
   },
   "cell_type": "code",
   "source": [
    "print('Media (error absoluto) PLU:', err_abs_plu.mean())\n",
    "print('Media (error absoluto) Cholesky:', err_abs_cholesky.mean())"
   ],
   "id": "d96776d748fd0845",
   "execution_count": 203,
   "outputs": []
  },
  {
   "metadata": {},
   "cell_type": "markdown",
   "source": [
    "\n",
    "#### 1. **Precisión**:\n",
    "\n",
    "En conclusión, **el método Cholesky es más preciso** que el método PLU, ya que presenta menores valores en ambas métricas.\n",
    "\n",
    "#### 2. **Exactitud**:\n",
    "- La exactitud está relacionada con la cercanía de las soluciones calculadas respecto a la solución teórica. Al observar que el método Cholesky tiene menores errores absolutos y relativos, podemos afirmar que **Cholesky es más exacto** en este caso particular.\n",
    "- **Elección del Error**: En este contexto, es más apropiado utilizar el **error absoluto** y el **error relativo**, ya que ambos reflejan de manera efectiva el rendimiento de los algoritmos. Sin embargo, en general, el **error relativo** puede ser más útil en contextos donde las magnitudes de las soluciones pueden variar considerablemente, ya que proporciona una perspectiva normalizada del rendimiento.\n",
    "\n",
    "- **Conclusiones sobre los Algoritmos**:\n",
    "  - **Chlesky**: Más preciso y exacto en este caso particular, con menores errores absolutos y relativos.\n",
    "  - **PLU**: Aunque presenta un rendimiento aceptable, tiene un mayor error en comparación con Cholesky.\n"
   ],
   "id": "65bb807b4d4b300b"
  },
  {
   "metadata": {},
   "cell_type": "markdown",
   "source": "# Jacobi y Gauss",
   "id": "f1b8b3d5a24e276b"
  },
  {
   "metadata": {},
   "cell_type": "markdown",
   "source": [
    "\n",
    "### (a) Algoritmo de Jacobi"
   ],
   "id": "1f1e309533bdcf38"
  },
  {
   "metadata": {
    "ExecuteTime": {
     "end_time": "2024-10-01T05:40:49.201601Z",
     "start_time": "2024-10-01T05:40:49.189788Z"
    }
   },
   "cell_type": "code",
   "source": [
    "def Mat_Jacobi(n):\n",
    "    \"\"\"Genera una matriz diagonal dominante aleatoria de tamaño n x n.\"\"\"\n",
    "    A = np.random.rand(n, n)\n",
    "    for i in range(n):\n",
    "        A[i][i] = np.sum(np.abs(A[i])) + 1  # Asegurar que la matriz sea diagonal dominante\n",
    "    return A"
   ],
   "id": "869ccfdb987f3b3d",
   "execution_count": 204,
   "outputs": []
  },
  {
   "metadata": {
    "ExecuteTime": {
     "end_time": "2024-10-01T05:40:49.638755Z",
     "start_time": "2024-10-01T05:40:49.634479Z"
    }
   },
   "cell_type": "code",
   "source": [
    "\n",
    "def jacobi(A, b, x0=None, tol=1e-10, max_iter=100):\n",
    "    \"\"\"\n",
    "    Resuelve el sistema Ax = b usando el método iterativo de Jacobi.\n",
    "\n",
    "    Parámetros:\n",
    "    A (numpy.ndarray): Matriz de coeficientes de tamaño n x n.\n",
    "    b (numpy.ndarray): Vector de términos independientes.\n",
    "    x0 (numpy.ndarray): Vector inicial de la solución, por defecto es un vector de ceros.\n",
    "    tol (float): Tolerancia para el criterio de convergencia.\n",
    "    max_iter (int): Número máximo de iteraciones.\n",
    "\n",
    "    Retorna:\n",
    "    numpy.ndarray: Aproximación de la solución x.\n",
    "    \"\"\"\n",
    "    n = A.shape[0]\n",
    "    # Inicializar con ceros si no se proporciona un vector inicial\n",
    "    if x0 is None:\n",
    "        x0 = np.zeros_like(b)\n",
    "    x = x0.copy()\n",
    "\n",
    "    # Iterar hasta el número máximo de iteraciones o hasta que se cumpla la tolerancia\n",
    "    for k in range(max_iter):\n",
    "        x_new = np.zeros_like(x)\n",
    "        # Actualizar cada componente de x\n",
    "        for i in range(n):\n",
    "            sum_ = np.dot(A[i], x) - A[i, i] * x[i]  # Sumar usando dot product\n",
    "            x_new[i] = (b[i] - sum_) / A[i, i]\n",
    "\n",
    "        # Revisar el criterio de convergencia\n",
    "        if np.linalg.norm(x_new - x, ord=np.inf) < tol:\n",
    "            print(f\"Convergió en {k+1} iteraciones.\")\n",
    "            return x_new\n",
    "        \n",
    "        x = x_new  # Actualizar x para la siguiente iteración\n",
    "\n",
    "    print(\"Máximo de iteraciones.\")\n",
    "    return x\n"
   ],
   "id": "6c442242f1ddd980",
   "execution_count": 205,
   "outputs": []
  },
  {
   "metadata": {},
   "cell_type": "markdown",
   "source": [
    "\n",
    "### (b) Algoritmo de Gauss-Seidel"
   ],
   "id": "eb4b192cb5a9592e"
  },
  {
   "metadata": {
    "ExecuteTime": {
     "end_time": "2024-10-01T05:40:50.797044Z",
     "start_time": "2024-10-01T05:40:50.785051Z"
    }
   },
   "cell_type": "code",
   "source": [
    "def gauss_seidel(A, b, x0=None, tol=1e-10, max_iter=100):\n",
    "    \"\"\"\n",
    "    Resuelve el sistema Ax = b usando el método iterativo de Gauss-Seidel.\n",
    "\n",
    "    Parámetros:\n",
    "    A (numpy.ndarray): Matriz de coeficientes de tamaño n x n.\n",
    "    b (numpy.ndarray): Vector de términos independientes.\n",
    "    x0 (numpy.ndarray): Vector inicial de la solución, por defecto es un vector de ceros.\n",
    "    tol (float): Tolerancia para el criterio de convergencia.\n",
    "    max_iter (int): Número máximo de iteraciones.\n",
    "\n",
    "    Retorna:\n",
    "    numpy.ndarray: Aproximación de la solución x.\n",
    "    \"\"\"\n",
    "    n = A.shape[0]\n",
    "    # Inicializar con ceros si no se proporciona un vector inicial\n",
    "    if x0 is None:\n",
    "        x0 = np.zeros_like(b)\n",
    "    x = x0.copy()\n",
    "\n",
    "    # Iterar hasta el número máximo de iteraciones o hasta que se cumpla la tolerancia\n",
    "    for k in range(max_iter):\n",
    "        x_new = x.copy()  # Copiar el valor actual de x\n",
    "        # Actualizar cada componente de x\n",
    "        for i in range(n):\n",
    "            # Sumar los elementos necesarios para el cálculo\n",
    "            sum_1 = np.dot(A[i, :i], x_new[:i])  # Suma de elementos anteriores (usando x_new)\n",
    "            sum_2 = np.dot(A[i, i+1:], x[i+1:])  # Suma de elementos posteriores (usando x)\n",
    "\n",
    "            # Actualizar el valor de x_new\n",
    "            x_new[i] = (b[i] - sum_1 - sum_2) / A[i, i]\n",
    "\n",
    "        # Revisar el criterio de convergencia\n",
    "        if np.linalg.norm(x_new - x, ord=np.inf) < tol:\n",
    "            print(f\"Convergió en {k+1} iteraciones.\")\n",
    "            return x_new\n",
    "        \n",
    "        x = x_new  # Actualizar x para la siguiente iteración\n",
    "\n",
    "    print(\"Máximo de iteraciones.\")\n",
    "    return x\n"
   ],
   "id": "60cda46d67a5fb1d",
   "execution_count": 206,
   "outputs": []
  },
  {
   "metadata": {},
   "cell_type": "markdown",
   "source": [
    "\n",
    "### (c) Generar matriz A de forma aleatoria y factorizar"
   ],
   "id": "2fa4b694470c9d98"
  },
  {
   "metadata": {
    "ExecuteTime": {
     "end_time": "2024-10-01T05:40:51.641683Z",
     "start_time": "2024-10-01T05:40:51.606820Z"
    }
   },
   "cell_type": "code",
   "source": [
    "A = Mat_Jacobi(100)\n",
    "# Realizar la factorización QR\n",
    "Q, R = np.linalg.qr(A)\n",
    "print(\"Matriz Q de la factorización QR:\")\n",
    "print(Q)\n",
    "A_ = Q @ R\n",
    "print(np.allclose(A, A_))"
   ],
   "id": "a863041b59695a10",
   "execution_count": 207,
   "outputs": []
  },
  {
   "metadata": {},
   "cell_type": "markdown",
   "source": [
    "\n",
    "### (d) Definir matriz diagonal D"
   ],
   "id": "3bc34d0e28b1e786"
  },
  {
   "metadata": {
    "ExecuteTime": {
     "end_time": "2024-10-01T05:40:52.552719Z",
     "start_time": "2024-10-01T05:40:52.546834Z"
    }
   },
   "cell_type": "code",
   "source": [
    "n = 100\n",
    "# Da una secuencia decreciente con el primer valor menor que 1\n",
    "diagonal_values = np.linspace(0.9, 0.1, n)  # Decreciente desde 0.9 hasta 0.1\n",
    "D = np.diag(diagonal_values)\n",
    "print(\"Matriz diagonal D:\")\n",
    "print(D)"
   ],
   "id": "ccfb80d73cd8eb5",
   "execution_count": 208,
   "outputs": []
  },
  {
   "metadata": {},
   "cell_type": "markdown",
   "source": [
    "\n",
    "### (e) Definir la nueva matriz \\(M = QDQ^T\\)"
   ],
   "id": "fb9f78da303dae33"
  },
  {
   "metadata": {
    "ExecuteTime": {
     "end_time": "2024-10-01T05:40:53.572400Z",
     "start_time": "2024-10-01T05:40:53.555192Z"
    }
   },
   "cell_type": "code",
   "source": [
    "M = Q @ D @ Q.T\n",
    "# Mostrar la matriz M\n",
    "print(\"Matriz M = QDQ^T:\")\n",
    "print(M)"
   ],
   "id": "ba3cd429675f272f",
   "execution_count": 209,
   "outputs": []
  },
  {
   "metadata": {},
   "cell_type": "markdown",
   "source": "### (f) Generar vector \\(x\\) y \\(b\\)",
   "id": "6268b738565af8e5"
  },
  {
   "metadata": {
    "ExecuteTime": {
     "end_time": "2024-10-01T05:40:54.716787Z",
     "start_time": "2024-10-01T05:40:54.688942Z"
    }
   },
   "cell_type": "code",
   "source": [
    "x = np.arange(1, 101)\n",
    "b =M@ x\n",
    "print(b)"
   ],
   "id": "80ba01578846748",
   "execution_count": 210,
   "outputs": []
  },
  {
   "metadata": {},
   "cell_type": "markdown",
   "source": [
    "\n",
    "### (g) Calcular error relativo entre la solución teórica y la aproximada\n"
   ],
   "id": "67d4102d07e1e431"
  },
  {
   "metadata": {
    "ExecuteTime": {
     "end_time": "2024-10-01T05:40:55.946108Z",
     "start_time": "2024-10-01T05:40:55.871279Z"
    }
   },
   "cell_type": "code",
   "source": [
    "def error_relativo(x_teorico, x_aproximado):\n",
    "    \"\"\"\n",
    "    Calcula el error relativo entre la solución teórica y la solución aproximada.\n",
    "    Parámetros:\n",
    "    x_teorico (numpy.ndarray): Vector solución teórica.\n",
    "    x_aproximado (numpy.ndarray): Vector solución calculada.\n",
    "    Retorna:\n",
    "    float: Error relativo.\n",
    "    \"\"\"\n",
    "    error_absoluto = np.linalg.norm(x_teorico - x_aproximado)\n",
    "    error_relativo = error_absoluto / np.linalg.norm(x_teorico) if np.linalg.norm(x_teorico) != 0 else np.nan\n",
    "    return error_relativo\n",
    "\n",
    "# Generar matriz y vector b\n",
    "n = 100  # Tamaño de la matriz\n",
    "M = Mat_Jacobi(n)  # Generar matriz diagonal dominante\n",
    "x_teorico = np.arange(1, n + 1, dtype=np.float64)  # Vector solución teórica\n",
    "b = M @ x_teorico  # Calcular el vector b\n",
    "\n",
    "# Valores iniciales y parámetros\n",
    "x0 = np.zeros_like(x_teorico)  # Vector inicial\n",
    "tol = 1e-10  # Tolerancia\n",
    "max_iter = 100  # Máximo de iteraciones\n",
    "\n",
    "# Aproximaciones usando Jacobi y Gauss-Seidel\n",
    "x_aproximado_jacobi = jacobi(M, b, x0, tol, max_iter)\n",
    "x_aproximado_gauss_seidel = gauss_seidel(M, b, x0, tol, max_iter)\n",
    "\n",
    "# Calcular errores relativos\n",
    "err_rel_jacobi = error_relativo(x_teorico, x_aproximado_jacobi)\n",
    "print(f\"Error relativo (Jacobi): {err_rel_jacobi:.6e}\")  # Formato científico\n",
    "\n",
    "# Corregir la línea de Gauss-Seidel (eliminar el \"err\" adicional)\n",
    "err_rel_gaussSeidel = error_relativo(x_teorico, x_aproximado_gauss_seidel)\n",
    "print(f\"Error relativo (Gauss-Seidel): {err_rel_gaussSeidel:.6e}\")  # Formato científico\n"
   ],
   "id": "bd56fa8eebebf9fa",
   "execution_count": 211,
   "outputs": []
  },
  {
   "metadata": {},
   "cell_type": "markdown",
   "source": [
    "\n",
    "### (h) Calcular errores relativos para 30 ecuaciones distintas\n",
    "\n"
   ],
   "id": "d0258802793cb2e3"
  },
  {
   "metadata": {
    "ExecuteTime": {
     "end_time": "2024-10-01T05:40:58.214295Z",
     "start_time": "2024-10-01T05:40:56.840528Z"
    }
   },
   "cell_type": "code",
   "source": [
    "# Inicializar listas para almacenar los errores\n",
    "errores_rel_jacobi = []\n",
    "errores_rel_gauss_seidel = []\n",
    "\n",
    "# Definir el número de iteraciones\n",
    "num_iteraciones = 30\n",
    "\n",
    "# Vector teórico\n",
    "x_teorico = np.arange(1, 101, dtype=np.float64)\n",
    "\n",
    "# Valores iniciales y parámetros\n",
    "x0 = np.zeros_like(x_teorico)  # Vector inicial\n",
    "tol = 1e-10  # Tolerancia\n",
    "max_iter = 100  # Máximo de iteraciones\n",
    "\n",
    "# Ciclo para las iteraciones\n",
    "for _ in range(num_iteraciones):\n",
    "    # Generar matriz ortogonal aleatoria Q\n",
    "    Q = np.random.rand(100, 100)\n",
    "    Q, _ = np.linalg.qr(Q)  # Para que Q sea ortogonal\n",
    "\n",
    "    # Definir la matriz diagonal D con valores decrecientes\n",
    "    diagonal_values = np.linspace(0.9, 0.1, 100)\n",
    "    D = np.diag(diagonal_values)\n",
    "\n",
    "    # Definir la matriz M = Q * D * Q^T\n",
    "    M = Q @ D @ Q.T\n",
    "\n",
    "    # Calcular b = M @ x_teorico\n",
    "    b = M @ x_teorico\n",
    "\n",
    "    # Resolver con Jacobi y Gauss-Seidel\n",
    "    x_aprox_jacobi = jacobi(M, b, x0, tol, max_iter)\n",
    "    x_aprox_gauss_seidel = gauss_seidel(M, b, x0, tol, max_iter)\n",
    "\n",
    "    # Calcular errores relativos\n",
    "    error_rel_jacobi = error_relativo(x_teorico, x_aprox_jacobi)\n",
    "    error_rel_gauss_seidel = error_relativo(x_teorico, x_aprox_gauss_seidel)\n",
    "\n",
    "    # Guardar los errores en las listas\n",
    "    errores_rel_jacobi.append(error_rel_jacobi)\n",
    "    errores_rel_gauss_seidel.append(error_rel_gauss_seidel)\n",
    "\n",
    "# Convertir las listas de errores a arrays\n",
    "errores_rel_jacobi = np.array(errores_rel_jacobi)\n",
    "errores_rel_gauss_seidel = np.array(errores_rel_gauss_seidel)\n",
    "\n",
    "# Imprimir los resultados\n",
    "print(\"Errores relativos (Jacobi):\", errores_rel_jacobi)\n",
    "print(\"Errores relativos (Gauss-Seidel):\", errores_rel_gauss_seidel)\n"
   ],
   "id": "fd2976af13ad691c",
   "execution_count": 212,
   "outputs": []
  },
  {
   "metadata": {},
   "cell_type": "markdown",
   "source": [
    "\n",
    "### (i) Graficar errores y justificar la preferencia de un algoritmo\n"
   ],
   "id": "2de866c48dcc3f21"
  },
  {
   "metadata": {
    "ExecuteTime": {
     "end_time": "2024-10-01T05:40:59.431189Z",
     "start_time": "2024-10-01T05:40:59.225585Z"
    }
   },
   "cell_type": "code",
   "source": [
    "iteraciones = np.arange(1, 31)  # Crear un array de iteraciones del 1 al 30\n",
    "\n",
    "# Configurar el gráfico\n",
    "plt.figure(figsize=(10, 6))\n",
    "\n",
    "# Graficar errores relativos de Jacobi\n",
    "plt.plot(iteraciones, errores_rel_jacobi, label='Error relativo Jacobi', marker='o', linestyle='-', color='blue')\n",
    "\n",
    "# Graficar errores relativos de Gauss-Seidel\n",
    "plt.plot(iteraciones, errores_rel_gauss_seidel, label='Error relativo Gauss-Seidel', marker='x', linestyle='-', color='orange')\n",
    "\n",
    "# Título y etiquetas\n",
    "plt.title('Errores Relativos en Jacobi y Gauss-Seidel')\n",
    "plt.xlabel('Iteración')\n",
    "plt.ylabel('Error Relativo')\n",
    "\n",
    "# Configurar escala logarítmica en el eje y\n",
    "plt.yscale('log')\n",
    "\n",
    "# Leyenda\n",
    "plt.legend()\n",
    "\n",
    "# Ajustar el diseño\n",
    "plt.tight_layout()\n",
    "\n",
    "# Mostrar el gráfico\n",
    "plt.show()\n",
    "\n"
   ],
   "id": "fdcd4a359a71f664",
   "execution_count": 213,
   "outputs": []
  },
  {
   "metadata": {},
   "cell_type": "markdown",
   "source": [
    "\n",
    "### Justificación de la preferencia del algoritmo\n",
    "\n",
    "Al observar la gráfica, puedes justificar cuál algoritmo prefieres basándote en los errores relativos. Si uno de los métodos muestra consistentemente errores más bajos que el otro, entonces sería preferible ese método. Sin embargo, si ambos métodos tienen un comportamiento similar, podrías optar por el que consideres más fácil de implementar o entender.\n",
    "\n"
   ],
   "id": "a2c31e28fbbc69e8"
  },
  {
   "metadata": {},
   "cell_type": "markdown",
   "source": "# 3. QR",
   "id": "256a1a53a026857"
  },
  {
   "metadata": {},
   "cell_type": "markdown",
   "source": [
    "\n",
    "## (a) Función que obtiene la factorización QR mediante el algoritmo de Gram-Schmidt"
   ],
   "id": "658ca41a1e1abb41"
  },
  {
   "metadata": {
    "ExecuteTime": {
     "end_time": "2024-10-01T05:41:02.461115Z",
     "start_time": "2024-10-01T05:41:02.455768Z"
    }
   },
   "cell_type": "code",
   "source": [
    "\n",
    "def qr_fact(A: np.ndarray) -> tuple[np.ndarray, np.ndarray]:\n",
    "    \"\"\"\n",
    "    Factorización QR de una matriz A utilizando el método de Gram-Schmidt.\n",
    "\n",
    "    Parámetros:\n",
    "    A (numpy.ndarray): Matriz cuadrada de tamaño n x n.\n",
    "\n",
    "    Retorna:\n",
    "    tuple: (Q, R), donde:\n",
    "        Q (numpy.ndarray): Matriz ortogonal de tamaño n x n.\n",
    "        R (numpy.ndarray): Matriz triangular superior de tamaño n x n.\n",
    "\n",
    "    Excepciones:\n",
    "    Raises ValueError si la matriz A no es cuadrada o tiene columnas linealmente dependientes.\n",
    "    \"\"\"\n",
    "    m, n = A.shape\n",
    "    if m != n:\n",
    "        raise ValueError(\"La matriz A debe ser cuadrada (n x n).\")\n",
    "\n",
    "    Q = np.copy(A)\n",
    "    R = np.zeros((n, n))\n",
    "\n",
    "    for i in range(n):\n",
    "        R[i, i] = np.linalg.norm(Q[:, i])\n",
    "        if R[i, i] == 0:\n",
    "            raise ValueError(\"La matriz A tiene columnas linealmente dependientes.\")\n",
    "        \n",
    "        Q[:, i] /= R[i, i]\n",
    "        \n",
    "        for j in range(i + 1, n):\n",
    "            R[i, j] = np.dot(Q[:, i], Q[:, j])\n",
    "            Q[:, j] -= R[i, j] * Q[:, i]\n",
    "\n",
    "    return Q, R\n"
   ],
   "id": "959b90098adbabed",
   "execution_count": 214,
   "outputs": []
  },
  {
   "metadata": {},
   "cell_type": "markdown",
   "source": [
    "\n",
    "## (b) Función que resuelve Rx = Q^Tb"
   ],
   "id": "9594a6f07c59931"
  },
  {
   "metadata": {},
   "cell_type": "markdown",
   "source": [
    "\n",
    "## (c) Definición de A, x y b, y encontrar la solución Ax = b"
   ],
   "id": "1a89fcf42911ce44"
  },
  {
   "metadata": {
    "ExecuteTime": {
     "end_time": "2024-10-01T05:41:04.279090Z",
     "start_time": "2024-10-01T05:41:04.125071Z"
    }
   },
   "cell_type": "code",
   "source": [
    "# Fijar la semilla para la reproducibilidad\n",
    "np.random.seed(50)\n",
    "\n",
    "# Generación de una matriz aleatoria A de dimensión 100x100\n",
    "A = np.random.rand(100, 100)  \n",
    "# Vector de solución real\n",
    "x_real = np.arange(1, 101, dtype=np.float64)\n",
    "# Calcular el vector b como b = A * x_real\n",
    "b = A @ x_real  \n",
    "\n",
    "def solve_qr(A: np.ndarray, b: np.ndarray) -> np.ndarray:\n",
    "    \"\"\"\n",
    "    Resuelve el sistema Ax = b utilizando la factorización QR.\n",
    "\n",
    "    Parámetros:\n",
    "    A (numpy.ndarray): Matriz de coeficientes de tamaño m x n.\n",
    "    b (numpy.ndarray): Vector de términos independientes de tamaño m.\n",
    "\n",
    "    Retorna:\n",
    "    numpy.ndarray: Aproximación de la solución x.\n",
    "    \"\"\"\n",
    "    Q, R = np.linalg.qr(A)  # Factorización QR de A\n",
    "    y = Q.T @ b  # Resolvemos Q^T * b = y\n",
    "    x = np.linalg.solve(R, y)  # Resolvemos R * x = y\n",
    "    return x\n",
    "\n",
    "# Solucionador QR\n",
    "x_calculado = solve_qr(A, b)\n",
    "\n",
    "# Mostrar la solución calculada\n",
    "print(\"Solución calculada x:\")\n",
    "print(x_calculado)\n",
    "\n",
    "# Reconstruir b usando la solución calculada\n",
    "b_reconstruido = A @ x_calculado\n",
    "\n",
    "# Verificar si la reconstrucción es aproximadamente igual a b\n",
    "print(\"\\n¿Aproximadamente A * x == b?\", np.allclose(b, b_reconstruido))\n",
    "\n",
    "# Generación de otra matriz A escalada\n",
    "scale = 5.0  # Factor de escala\n",
    "A_scaled = scale * np.random.rand(100, 100)  \n",
    "\n",
    "# Definición de x_s como un vector de 1 a 100\n",
    "x_s = np.arange(1, 101, dtype=np.float64)  \n",
    "\n",
    "# Calcular b usando la nueva matriz A escalada\n",
    "b_scaled = A_scaled @ x_s\n",
    "\n",
    "# Mostrar la solución exacta\n",
    "print(\"\\nSolución exacta x_s:\")\n",
    "print(x_s)\n"
   ],
   "id": "8011b8638ffdbf31",
   "execution_count": 215,
   "outputs": []
  },
  {
   "metadata": {},
   "cell_type": "markdown",
   "source": [
    "\n",
    "## (d) Calcular el error relativo para 30 ecuaciones"
   ],
   "id": "5a504cfc34111fc5"
  },
  {
   "metadata": {
    "ExecuteTime": {
     "end_time": "2024-10-01T05:41:05.984233Z",
     "start_time": "2024-10-01T05:41:05.854457Z"
    }
   },
   "cell_type": "code",
   "source": [
    "def calcular_error_relativo(x_teorico: np.ndarray, x_aproximado: np.ndarray) -> float:\n",
    "    \"\"\"\n",
    "    Calcula el error relativo entre la solución teórica y la solución aproximada.\n",
    "\n",
    "    Parámetros:\n",
    "    x_teorico (numpy.ndarray): Vector solución teórica.\n",
    "    x_aproximado (numpy.ndarray): Vector solución calculada.\n",
    "\n",
    "    Retorna:\n",
    "    float: Error relativo.\n",
    "    \"\"\"\n",
    "    error_absoluto = np.linalg.norm(x_teorico - x_aproximado)\n",
    "    error_relativo = error_absoluto / np.linalg.norm(x_teorico)\n",
    "    return error_relativo\n",
    "\n",
    "# Inicializar lista para almacenar los errores relativos\n",
    "errores_relativos_qr = []\n",
    "\n",
    "# Ejecutar 30 iteraciones\n",
    "for _ in range(30):\n",
    "    # Generar una matriz A aleatoria de tamaño 100x100\n",
    "    A = np.random.rand(100, 100)\n",
    "    # Vector teórico\n",
    "    x_real = np.arange(1, 101, dtype=np.float64)\n",
    "    # Calcular b como b = A @ x_real\n",
    "    b = A @ x_real  \n",
    "\n",
    "    # Resolver el sistema para x usando factorización QR\n",
    "    x_calculado = solve_qr(A, b)\n",
    "\n",
    "    # Calcular el error relativo\n",
    "    error_rel = calcular_error_relativo(x_real, x_calculado)\n",
    "    errores_relativos_qr.append(error_rel)\n",
    "\n",
    "# Convertir la lista de errores relativos a un array de NumPy\n",
    "errores_rel_qr = np.array(errores_relativos_qr)\n",
    "\n",
    "# Mostrar los errores relativos de las 30 iteraciones\n",
    "print(\"Errores relativos de las 30 iteraciones:\")\n",
    "print(errores_rel_qr)\n"
   ],
   "id": "9a1cfbcfe954106a",
   "execution_count": 216,
   "outputs": []
  },
  {
   "metadata": {},
   "cell_type": "markdown",
   "source": "# 4. Comparacion ",
   "id": "7672ba79207f2efd"
  },
  {
   "metadata": {
    "ExecuteTime": {
     "end_time": "2024-10-01T05:42:50.199835Z",
     "start_time": "2024-10-01T05:42:49.752850Z"
    }
   },
   "cell_type": "code",
   "source": [
    "import numpy as np\n",
    "import matplotlib.pyplot as plt\n",
    "\n",
    "# Asumiendo que ya tienes los errores relativos de cada método calculados correctamente:\n",
    "metodos = {\n",
    "    'Jacobi': errores_rel_jacobi,\n",
    "    'Gauss-Seidel': errores_rel_gauss_seidel,\n",
    "    'Cholesky': errores_rel_cholesky,\n",
    "    'QR': errores_relativos_qr,\n",
    "    'PLU': errores_rel_plu\n",
    "}\n",
    "\n",
    "# Inicializar listas para las medias y desviaciones\n",
    "medias = []\n",
    "desviaciones = []\n",
    "\n",
    "# Calcular media y desviación estándar para cada método\n",
    "for metodo, errores in metodos.items():\n",
    "    media_error = np.mean(errores)\n",
    "    desviacion_error = np.std(errores)\n",
    "    medias.append(media_error)\n",
    "    desviaciones.append(desviacion_error)\n",
    "\n",
    "    # Imprimir la media de los errores en el formato adecuado\n",
    "    print(f'{metodo.ljust(15)}: {media_error:.16e}')\n",
    "\n",
    "# Crear una figura para graficar los errores relativos\n",
    "plt.figure(figsize=(12, 7))\n",
    "\n",
    "# Graficar los errores relativos de cada método\n",
    "for metodo, errores in metodos.items():\n",
    "    plt.plot(errores, label=f'Error relativo {metodo}', marker='o')\n",
    "\n",
    "plt.title('Comparación de Errores Relativos de Diferentes Métodos')\n",
    "plt.xlabel('Número de Iteración')\n",
    "plt.ylabel('Error Relativo')\n",
    "plt.legend()\n",
    "plt.grid(True)\n",
    "plt.tight_layout()\n",
    "plt.yscale('log')\n",
    "plt.show()\n",
    "\n",
    "# Graficar medias y desviaciones estándar\n",
    "plt.figure(figsize=(12, 7))\n",
    "plt.errorbar(list(metodos.keys()), medias, yerr=desviaciones, fmt='o', capsize=5, \n",
    "             color='orange', ecolor='red', elinewidth=2)\n",
    "plt.title('Media y Desviación Estándar de los Errores Relativos')\n",
    "plt.ylabel('Error Relativo')\n",
    "plt.xlabel('Métodos')\n",
    "plt.grid(True)\n",
    "plt.tight_layout()\n",
    "plt.yscale('log')\n",
    "plt.show()\n"
   ],
   "id": "bc236edc550f0cab",
   "execution_count": 219,
   "outputs": []
  },
  {
   "metadata": {},
   "cell_type": "markdown",
   "source": [
    "\n",
    "### (a) ¿Cuál es el solucionador más preciso?\n",
    "\n",
    "El solucionador **más preciso** es aquel que tiene el menor error relativo en todas las iteraciones.  \n",
    "Según la gráfica, el **método QR** tiene el error relativo más bajo, fluctuando entre \\(10^{-12}\\) y \\(10^{-13}\\).  \n",
    "A pesar de algunas fluctuaciones, su comportamiento general es más estable en valores pequeños que el de los otros métodos, lo que lo convierte en el más preciso.\n",
    "\n",
    "---\n",
    "\n",
    "### (b) ¿Cuál es el solucionador más exacto?\n",
    "\n",
    "La **exactitud** se refiere a qué tan cerca está una solución del valor real.  \n",
    "En este caso, también se puede decir que el método **QR** es el más exacto. Dado que el error relativo se mantiene muy bajo y consistente, podemos confiar en que este método produce soluciones muy cercanas a las verdaderas, especialmente en comparación con métodos como PLU o Cholesky que presentan errores mayores.\n",
    "\n",
    "---\n",
    "\n",
    "### (c) Si la matriz A es una matriz cuadrada e invertible, ¿Cuál método utilizarías para resolver la ecuación Ax = b?\n",
    "\n",
    "Para una matriz cuadrada e invertible, la elección del método depende de la precisión que busques y del tipo de matriz.  \n",
    "**Método sugerido:** Usaría el método **QR**, ya que ofrece la mayor precisión, como se observa en la gráfica.  \n",
    "Sin embargo, si la matriz tiene ciertas propiedades (como simetría o ser definida positiva), podría ser conveniente considerar otros métodos.  \n",
    "Por ejemplo, si la matriz es simétrica y definida positiva, el método de **Cholesky** podría ser más eficiente en términos computacionales.\n",
    "\n",
    "---\n",
    "\n",
    "### (d) Si hay un método que soluciona la ecuación para una matriz invertible, ¿Cuáles son las ventajas de los otros algoritmos frente al solucionador QR?\n",
    "\n",
    "Aunque el método **QR** es muy preciso y exacto, los otros métodos tienen ventajas en ciertos escenarios:\n",
    "\n",
    "1. **PLU**:  \n",
    "   - Ventaja: Es eficiente para resolver sistemas de ecuaciones cuando necesitas resolver múltiples sistemas \\( Ax = b \\) con la misma matriz \\( A \\) pero diferentes \\( b \\).  \n",
    "   - Es más rápido que QR en algunos casos y es adecuado para matrices generales.\n",
    "\n",
    "2. **Cholesky**:  \n",
    "   - Ventaja: Este método es extremadamente eficiente para matrices que son simétricas y definidas positivas.  \n",
    "   - Si se sabe que la matriz \\( A \\) tiene estas propiedades, Cholesky es más rápido que QR o PLU.\n",
    "\n",
    "3. **Jacobi y Gauss-Seidel (métodos iterativos)**:  \n",
    "   - Ventaja: Son útiles cuando se trabajan con matrices muy grandes o dispersas, donde los métodos directos (QR, PLU, Cholesky) serían demasiado costosos computacionalmente.  \n",
    "   - Aunque no son tan precisos como QR, estos métodos pueden ser suficientes en muchos casos prácticos y pueden reducir considerablemente el costo computacional cuando se busca una solución aproximada.\n",
    "\n",
    "---\n",
    "\n"
   ],
   "id": "678c95f92376c77a"
  },
  {
   "metadata": {},
   "cell_type": "code",
   "execution_count": null,
   "source": "",
   "id": "70e811385a62f0ca",
   "outputs": []
  }
 ],
 "metadata": {
  "kernelspec": {
   "display_name": "Python 3",
   "language": "python",
   "name": "python3"
  },
  "language_info": {
   "codemirror_mode": {
    "name": "ipython",
    "version": 2
   },
   "file_extension": ".py",
   "mimetype": "text/x-python",
   "name": "python",
   "nbconvert_exporter": "python",
   "pygments_lexer": "ipython2",
   "version": "2.7.6"
  }
 },
 "nbformat": 4,
 "nbformat_minor": 5
}
