{
 "cells": [
  {
   "cell_type": "markdown",
   "metadata": {},
   "source": [
    "***Autor: Carlos Emiliano Mendoza Hernández***"
   ]
  },
  {
   "cell_type": "markdown",
   "metadata": {},
   "source": [
    "Bibliotecas"
   ]
  },
  {
   "cell_type": "code",
   "execution_count": 1,
   "metadata": {},
   "source": [
    "import numpy as np\n",
    "import matplotlib.pyplot as plt\n",
    "import seaborn as sns\n",
    "sns.set_theme()\n",
    "scale = 10 # to scale matrixes"
   ],
   "outputs": []
  },
  {
   "cell_type": "markdown",
   "metadata": {},
   "source": [
    "Clase generadora de excepciones para los códigos"
   ]
  },
  {
   "cell_type": "code",
   "execution_count": 2,
   "metadata": {},
   "source": [
    "class InvalidInputMatrix(Exception):\n",
    "    \"\"\"\n",
    "    Exception raised for errors in the input matrix.\n",
    "    \"\"\"\n",
    "    def __init__(self, message):\n",
    "        super().__init__(message)"
   ],
   "outputs": []
  },
  {
   "cell_type": "markdown",
   "metadata": {},
   "source": [
    "### **1. Solución a la ecuación $\\mathbf{Ax=b}$**"
   ]
  },
  {
   "cell_type": "markdown",
   "metadata": {},
   "source": [
    "- Dada la ecuación $\\mathbf{Lx=b}$, donde $\\mathbf{L}$ es una matriz triangular inferior. Programa una función en Python que encuentre $\\mathbf{x}$ dadas $\\mathbf{L}$ y $\\mathbf{b}$. "
   ]
  },
  {
   "cell_type": "code",
   "execution_count": 3,
   "metadata": {},
   "source": [
    "def solve_lx_b(L: np.ndarray, b: np.ndarray) -> np.ndarray:\n",
    "    \"\"\"\n",
    "    Solves the system of linear equations Lx = b, where L is a lower triangular matrix.\n",
    "    \n",
    "    Example\n",
    "    -------\n",
    "    >>> L = np.array([[2., 0., 0., 0.], \n",
    "                      [1., 5., 0., 0.],\n",
    "                      [4., 5., 2., 0.],\n",
    "                      [2., 4., 4., 1.]])\n",
    "    >>> b = np.array([[9., 10., 5., 6.]]).T\n",
    "    >>> solve_lx_b(L, b)\n",
    "    array([[ 4.5 ],\n",
    "           [ 1.1 ],\n",
    "           [-9.25],\n",
    "           [29.6 ]])\n",
    "\n",
    "    Parameters\n",
    "    ----------\n",
    "    L (ndarray) : A lower triangular square matrix\n",
    "    b (ndarray) : A column vector of the same length as the number of rows in L\n",
    "\n",
    "    Returns\n",
    "    ----------\n",
    "    x (ndarray) : A column vector that solves the system of linear equations Lx = b\n",
    "    \"\"\"\n",
    "    m, n = np.shape(L)\n",
    "    if m != n:\n",
    "        raise InvalidInputMatrix(\"Matrix L is not square\")\n",
    "    n = np.size(b)\n",
    "    if n != m:\n",
    "        raise InvalidInputMatrix(\"Matrix L and vector b have incompatible dimensions\")\n",
    "    x = np.zeros((n,1))\n",
    "    x[0,0] = b[0,0]/L[0,0]\n",
    "    for i in range (1,n):\n",
    "        x[i,0] = (b[i,0]-L[i,0:i]@x[0:i,0])/L[i,i]\n",
    "    return x"
   ],
   "outputs": []
  },
  {
   "cell_type": "markdown",
   "metadata": {},
   "source": [
    "- Considera ahora la ecuación $\\mathbf{Ux=b}$ donde $\\mathbf{U}$ es una matriz triangular superior. Programa en Python una función que encuentre $\\mathbf{x}$ dadas $\\mathbf{U}$ y $\\mathbf{b}$."
   ]
  },
  {
   "cell_type": "code",
   "execution_count": 4,
   "metadata": {},
   "source": [
    "def solve_ux_b(U: np.ndarray, b: np.ndarray) -> np.ndarray:\n",
    "    \"\"\"\n",
    "    Solves the system of linear equations Ux = b, where U is an upper triangular matrix.\n",
    "    \n",
    "    Example\n",
    "    -------\n",
    "    >>> U = np.array([[2., 1., 4., 2.], \n",
    "                      [0., 5., 5., 4.],\n",
    "                      [0., 0., 2., 4.],\n",
    "                      [0., 0., 0., 1.]])\n",
    "    >>> b = np.array([[9., 10., 5., 6.]]).T\n",
    "    >>> solve_ux_b(U, b)\n",
    "    array([[14.15],\n",
    "           [ 6.7 ],\n",
    "           [-9.5 ],\n",
    "           [ 6.  ]])\n",
    "\n",
    "    Parameters\n",
    "    ----------\n",
    "    U (ndarray) : An upper triangular square matrix\n",
    "    b (ndarray) : A column vector of the same length as the number of rows in U\n",
    "\n",
    "    Returns\n",
    "    ----------\n",
    "    x (ndarray) : A column vector that solves the system of linear equations Ux = b\n",
    "    \"\"\"\n",
    "    m, n = np.shape(U)\n",
    "    if m != n:\n",
    "        raise InvalidInputMatrix(\"Matrix U is not square\")\n",
    "    n = np.size(b)\n",
    "    if n != m:\n",
    "        raise InvalidInputMatrix(\"Matrix U and vector b have incompatible dimensions\")\n",
    "    x = np.zeros((n,1))\n",
    "    x[n-1,0] = b[n-1,0]/U[n-1,n-1]\n",
    "    for i in range (n-2,-1,-1):\n",
    "        x[i,0] = (b[i,0]-U[i,i+1:n]@x[i+1:n,0])/U[i,i]\n",
    "    return x"
   ],
   "outputs": []
  },
  {
   "cell_type": "markdown",
   "metadata": {},
   "source": [
    "- Dada una matriz $\\mathbf{A} \\in \\mathbb{R}^{n \\times n}$ invertible, existe la solución a la ecuación $\\mathbf{Ax=b}$. Si $\\mathbf{A=LU}$, la solución a la ecuación $\\mathbf{Ax=b}$ puede encontrarse solucionando primero la ecuación $\\mathbf{Ly=b}$ y luego la ecuación $\\mathbf{Ux=y}$. Utilizando esto, programa en Python una función que encuentre $\\mathbf{x}$ dados $\\mathbf{A}$ y $\\mathbf{B}$, después de encontrar la factorización PLU de $\\mathbf{A}$."
   ]
  },
  {
   "cell_type": "markdown",
   "metadata": {},
   "source": [
    "Funciones auxiliares de PLU"
   ]
  },
  {
   "cell_type": "code",
   "execution_count": 5,
   "metadata": {},
   "source": [
    "def swap_rows(A: np.ndarray, i: int, j: int) -> np.ndarray:\n",
    "    \"\"\"\n",
    "    Swaps rows i and j of a matrix A.\n",
    "    \"\"\"\n",
    "    B = np.copy(A)\n",
    "    A[i] = B[j]\n",
    "    A[j] = B[i]\n",
    "    return A"
   ],
   "outputs": []
  },
  {
   "cell_type": "code",
   "execution_count": 6,
   "metadata": {},
   "source": [
    "def max_index(v: np.ndarray, j: int) -> int:\n",
    "    \"\"\"\n",
    "    Returns the index of the maximum value in a vector v starting from index j.\n",
    "    \"\"\"\n",
    "    v = np.abs(v)\n",
    "    index = np.argmax(v[j:])\n",
    "    index += j\n",
    "    return index"
   ],
   "outputs": []
  },
  {
   "cell_type": "markdown",
   "metadata": {},
   "source": [
    "PLU"
   ]
  },
  {
   "cell_type": "code",
   "execution_count": 7,
   "metadata": {},
   "source": [
    "def plu_fact(A: np.ndarray, epsilon: float=1e-15) -> tuple[np.ndarray, np.ndarray, np.ndarray]:\n",
    "    \"\"\" \n",
    "    PLU decomposition of a square matrix A\n",
    "\n",
    "    Example\n",
    "    --------\n",
    "    >>> A = np.array([[0., -1., 4.], [2., 1., 1.], [1., 1., -2.]])\n",
    "    >>> plu_fact(A)\n",
    "    (array([[ 0. , 1. , 0.],\n",
    "            [ 1. , 0. , 0.],\n",
    "            [ 0. , 0. , 1.]]),\n",
    "    array([[ 1. ,  0. ,  0. ],\n",
    "           [ 0. ,  1. ,  0. ],\n",
    "           [ 0.5, -0.5,  1. ]]),\n",
    "    array([[ 2. ,  1. ,  1. ],\n",
    "           [ 0. , -1. ,  4. ],\n",
    "           [ 0. ,  0. , -0.5]]))\n",
    "\n",
    "    Parameters\n",
    "    ----------\n",
    "    A (ndarray) : nxn coefficient matrix\n",
    "\n",
    "    Returns\n",
    "    -------\n",
    "    P (ndarray) : Permutation matrix\n",
    "    L (ndarray) : Lower triangular matrix\n",
    "    U (ndarray) : Upper triangular matrix\n",
    "    \"\"\"\n",
    "    m, n = np.shape(A)\n",
    "    if m != n:\n",
    "        raise InvalidInputMatrix('The matrix is not square.')\n",
    "    P = np.eye(n)\n",
    "    L = np.zeros((n, n))\n",
    "    U = np.copy(A)\n",
    "    for j in range(n-1):\n",
    "        index = max_index(U[:,j], j)\n",
    "        if abs(U[index, j]) < epsilon:\n",
    "            raise InvalidInputMatrix('The matrix is non invertible.')\n",
    "        P = swap_rows(P, j, index)\n",
    "        L = swap_rows(L, j, index)\n",
    "        U = swap_rows(U, j, index)\n",
    "        for i in range(j+1,n):\n",
    "            L[i,j] = (U[i,j])/(U[j,j])\n",
    "            U[i] = U[i] - L[i,j]*U[j]\n",
    "    L = L + np.eye(n)\n",
    "    return P, L, U"
   ],
   "outputs": []
  },
  {
   "cell_type": "markdown",
   "metadata": {},
   "source": [
    "Los sistemas a resolver son\n",
    "$$\\mathbf{Ly=Pb}$$\n",
    "$$\\mathbf{\\mathbf{Ux=y}}$$"
   ]
  },
  {
   "cell_type": "code",
   "execution_count": 8,
   "metadata": {},
   "source": [
    "def solve_sle_plu(A: np.ndarray, b: np.ndarray, epsilon: float=1e-15) -> np.ndarray:\n",
    "    \"\"\"\n",
    "    Solves the system of linear equations Ax = b using PLU factorization\n",
    "\n",
    "    Example\n",
    "    --------\n",
    "    >>> A = np.array([[0., -1., 4.], [2., 1., 1.], [1., 1., -2.]])\n",
    "    >>> b = np.array([1., 2., 3.])\n",
    "    >>> solve_sle_plu(A, b)\n",
    "    array([ 14., -21.,  -5.])\n",
    "\n",
    "    Parameters\n",
    "    ----------\n",
    "    A (ndarray) : nxn coefficient matrix\n",
    "    b (ndarray) : nx1 constant matrix\n",
    "\n",
    "    Returns\n",
    "    -------\n",
    "    x (ndarray) : nx1 solution vector\n",
    "    \"\"\"\n",
    "    m, n = np.shape(A)\n",
    "    if m != n:\n",
    "        raise InvalidInputMatrix(\"Matrix A is not square\")\n",
    "    n = np.size(b)\n",
    "    if n != m:\n",
    "        raise InvalidInputMatrix(\"Matrix A and vector b have incompatible dimensions\")\n",
    "    P, L, U = plu_fact(A, epsilon)\n",
    "    y = solve_lx_b(L, P@b)\n",
    "    x = solve_ux_b(U, y)\n",
    "    return x"
   ],
   "outputs": []
  },
  {
   "cell_type": "markdown",
   "metadata": {},
   "source": [
    "- Realiza lo mismo que en el inciso anterior suponiendo que A es simétrica y definida positiva, es decir, utiliza Cholesky para encontrar $A=LL^T$."
   ]
  },
  {
   "cell_type": "code",
   "execution_count": 9,
   "metadata": {},
   "source": [
    "def cholesky_fact(A: np.ndarray, epsilon: float=1e-15) -> np.ndarray:\n",
    "    \"\"\" \n",
    "    Cholesky decomposition of a symmetric positive definite matrix A\n",
    "\n",
    "    Example\n",
    "    --------\n",
    "    >>> A = np.array([[4., -1., 1.], [-1., 4.25, 2.75], [1., 2.75, 3.5]])\n",
    "    >>> cholesky_fact(A)\n",
    "    array([[ 2. ,  0. ,  0. ],\n",
    "           [-0.5,  2. ,  0. ],\n",
    "           [ 0.5,  1.5,  1. ]])\n",
    "\n",
    "    Parameters\n",
    "    ----------\n",
    "    A (ndarray) : nxn coefficient matrix\n",
    "\n",
    "    Returns\n",
    "    -------\n",
    "    L (ndarray) : Lower triangular matrix\n",
    "    \"\"\"\n",
    "    if not np.allclose(A, A.T):\n",
    "        raise InvalidInputMatrix('The matrix is not symmetric.')\n",
    "    m, n = np.shape(A)\n",
    "    if m != n:\n",
    "        raise InvalidInputMatrix('The matrix is not square.')\n",
    "    L = np.zeros((n, n))\n",
    "    for j in range(n):\n",
    "        for i in range(j, n):\n",
    "            if i == j:\n",
    "                root = A[i, i] - np.sum(L[i,:j]**2)\n",
    "                if root < 0:\n",
    "                    raise InvalidInputMatrix('The matrix is non positive definite.')\n",
    "                root = np.sqrt(root)\n",
    "                if root < epsilon:\n",
    "                    raise InvalidInputMatrix('The matrix is non invertible.')\n",
    "                L[i, i] = root\n",
    "            elif i > j:\n",
    "                L[i, j] = (1/L[j, j])*(A[i, j] - np.sum(L[i,:j]*L[j,:j]))\n",
    "    return L"
   ],
   "outputs": []
  },
  {
   "cell_type": "markdown",
   "metadata": {},
   "source": [
    "Los sistemas a resolver son\n",
    "$$\\mathbf{Ly=b}$$\n",
    "$$\\mathbf{L^T=y}$$"
   ]
  },
  {
   "cell_type": "code",
   "execution_count": 10,
   "metadata": {},
   "source": [
    "def solve_sle_cholesky(A: np.ndarray, b: np.ndarray) -> np.ndarray:\n",
    "    \"\"\"\n",
    "    Solves the system of linear equations Ax = b using Cholesky factorization\n",
    "\n",
    "    Example\n",
    "    --------\n",
    "    >>> A = np.array([[4., 12., -16.], [12., 37., -43.], [-16., -43., 98.]])\n",
    "    >>> b = np.array([1., 2., 3.])\n",
    "    >>> solve_sle_cholesky(A, b)\n",
    "    array([28.58333333, -7.66666667,  1.33333333])\n",
    "\n",
    "    Parameters\n",
    "    ----------\n",
    "    A (ndarray) : nxn coefficient matrix\n",
    "    b (ndarray) : nx1 constant matrix\n",
    "\n",
    "    Returns\n",
    "    -------\n",
    "    x (ndarray) : nx1 solution vector\n",
    "    \"\"\"\n",
    "    m, n = np.shape(A)\n",
    "    if m != n:\n",
    "        raise InvalidInputMatrix(\"Matrix A is not square\")\n",
    "    n = np.size(b)\n",
    "    if n != m:\n",
    "        raise InvalidInputMatrix(\"Matrix A and vector b have incompatible dimensions\")\n",
    "    L = cholesky_fact(A)\n",
    "    y = solve_lx_b(L, b)\n",
    "    x = solve_ux_b(L.T, y)\n",
    "    return x"
   ],
   "outputs": []
  },
  {
   "cell_type": "markdown",
   "metadata": {},
   "source": [
    "- Considera una matriz $\\mathbf{A}$ generada de forma aleatoria de dimensión $100\\times100$ y un vector $\\mathbf{x}\\in\\mathbb{R}^{100}$ tal que $x_i=i$ para $1\\leq i\\leq100$. Obtén un vector $\\mathbf{b=Ax}$"
   ]
  },
  {
   "cell_type": "code",
   "execution_count": 11,
   "metadata": {},
   "source": [
    "M = scale*np.random.rand(100,100)\n",
    "A = M@M.T\n",
    "x_s = np.array([[i+1 for i in range(100)]], dtype=float).T\n",
    "b = A@x_s"
   ],
   "outputs": []
  },
  {
   "cell_type": "markdown",
   "metadata": {},
   "source": [
    "- Resuelve la ecuación $\\mathbf{Ax=b}$ utilizando la matriz $\\mathbf{A}$ y $\\mathbf{b}$ del inciso anterior, utilizando tus dos solucionadores."
   ]
  },
  {
   "cell_type": "code",
   "execution_count": 12,
   "metadata": {},
   "source": [
    "# Exact solution\n",
    "x_s.flatten()"
   ],
   "outputs": []
  },
  {
   "cell_type": "code",
   "execution_count": 13,
   "metadata": {},
   "source": [
    "# Solution using PLU factorization\n",
    "x_plu = solve_sle_plu(A, b)\n",
    "x_plu.flatten()"
   ],
   "outputs": []
  },
  {
   "cell_type": "code",
   "execution_count": 14,
   "metadata": {},
   "source": [
    "# Solution using Cholesky factorization\n",
    "x_cholesky = solve_sle_cholesky(A, b)\n",
    "x_cholesky.flatten()"
   ],
   "outputs": []
  },
  {
   "cell_type": "markdown",
   "metadata": {},
   "source": [
    "- Calcula el error absoluto y relativo dados respectivamente por\n",
    "\n",
    "$$\\text{err}_\\text{abs} = ||\\mathbf{x}_s-\\mathbf{x}||$$\n",
    "\n",
    "y\n",
    "\n",
    "$$\\text{err}_\\text{rel} = \\frac{||\\mathbf{x_s}-\\mathbf{x}||}{||\\mathbf{x}_s||}$$\n",
    "\n",
    "donde $\\mathbf{x}_s$ es la solución teórica y la solución obtenida por tus algoritmos."
   ]
  },
  {
   "cell_type": "code",
   "execution_count": 15,
   "metadata": {},
   "source": [
    "def abs_err(x: np.ndarray, x_s: np.ndarray) -> float:\n",
    "    \"\"\"\n",
    "    Calculates the absolute error between two vectors x and x_s.\n",
    "    \"\"\"\n",
    "    return np.linalg.norm(x_s-x)"
   ],
   "outputs": []
  },
  {
   "cell_type": "code",
   "execution_count": 16,
   "metadata": {},
   "source": [
    "def rel_err(x: np.ndarray, x_s: np.ndarray) -> float:\n",
    "    \"\"\"\n",
    "    Calculates the relative error between two vectors x and x_s.\n",
    "    \"\"\"\n",
    "    return np.linalg.norm(x_s-x)/np.linalg.norm(x_s)"
   ],
   "outputs": []
  },
  {
   "cell_type": "code",
   "execution_count": 17,
   "metadata": {},
   "source": [
    "# PLU errors\n",
    "print('Absolute error (PLU):', abs_err(x_plu, x_s))\n",
    "print('Relative error (PLU):', rel_err(x_plu, x_s))\n",
    "# Cholesky errors\n",
    "print('Absolute error (Cholesky):', abs_err(x_cholesky, x_s))\n",
    "print('Relative error (Cholesky):', rel_err(x_cholesky, x_s))"
   ],
   "outputs": []
  },
  {
   "cell_type": "markdown",
   "metadata": {},
   "source": [
    "- Calcula el error para 30 matrices distintas y grafica los cuatro errores (los dos asociados a PLU y los otros dos asociados a Cholesky). Guarda los vectores que contienen los errores."
   ]
  },
  {
   "cell_type": "code",
   "execution_count": 18,
   "metadata": {},
   "source": [
    "# Preallocate arrays for errors\n",
    "abs_errors_plu = np.zeros(30)\n",
    "rel_errors_plu = np.zeros(30)\n",
    "abs_errors_cholesky = np.zeros(30)\n",
    "rel_errors_cholesky = np.zeros(30)\n",
    "for i in range(30):\n",
    "    M = scale*np.random.rand(100,100)\n",
    "    A = M@M.T\n",
    "    b = A@x_s\n",
    "    x_plu = solve_sle_plu(A, b).flatten()\n",
    "    x_cholesky = solve_sle_cholesky(A, b).flatten()\n",
    "    abs_errors_plu[i] = abs_err(x_plu, x_s.flatten())\n",
    "    rel_errors_plu[i] = rel_err(x_plu, x_s.flatten())\n",
    "    abs_errors_cholesky[i] = abs_err(x_cholesky, x_s.flatten())\n",
    "    rel_errors_cholesky[i] = rel_err(x_cholesky, x_s.flatten())"
   ],
   "outputs": []
  },
  {
   "cell_type": "code",
   "execution_count": 51,
   "metadata": {},
   "source": [
    "# Plot errors\n",
    "fig, axs = plt.subplots(1, 2, figsize=(12, 6))\n",
    "fig.suptitle('Errors in solving a system of linear equations')\n",
    "axs[0].set_yscale('log')\n",
    "axs[1].set_yscale('log')\n",
    "axs[0].plot(range(30), abs_errors_plu, 'b--o', label='PLU')\n",
    "axs[0].plot(range(30), abs_errors_cholesky, 'g--o', label='Cholesky')\n",
    "axs[0].set_title('Absolute errors')\n",
    "axs[0].set_xlabel('Matrix instance')\n",
    "axs[0].set_ylabel('Error')\n",
    "axs[0].legend()\n",
    "axs[1].plot(range(30), rel_errors_plu, 'b--o', label='PLU')\n",
    "axs[1].plot(range(30), rel_errors_cholesky, 'g--o', label='Cholesky')\n",
    "axs[1].set_title('Relative errors')\n",
    "axs[1].set_xlabel('Matrix instance')\n",
    "axs[1].set_ylabel('Error')\n",
    "axs[1].legend()\n",
    "plt.show()"
   ],
   "outputs": []
  },
  {
   "cell_type": "markdown",
   "metadata": {},
   "source": [
    "- ¿Cuál de los dos errores crees que sea más adecuado utilizar para conocer el mejor funcionamiento de los algoritmos? Justifica tu respuesta."
   ]
  },
  {
   "cell_type": "markdown",
   "metadata": {},
   "source": [
    "En este caso particular, dado que no variamos en gran medida las magnitudes de los valores de las matrices, esto no se refleja mucho en la diferencia entre el error absoluto y el error relativo. Es más, puede llegar a observarse que, como siempre se tomo el mismo valor de $\\mathbf{x_s}$ para todas las matrices, el error relativo es un tipo de escalamiento del error absoluto. Por lo tanto, ambos nos proporcionan información similar acerca de su funcionamiento."
   ]
  },
  {
   "cell_type": "markdown",
   "metadata": {},
   "source": [
    "- De acuerdo a la gráfica obtenida, responde lo siguiente. ¿Cuál algoritmo es más preciso? y ¿cuál algoritmo es más exacto?"
   ]
  },
  {
   "cell_type": "code",
   "execution_count": 20,
   "metadata": {},
   "source": [
    "print('Media (relative error) PLU:', rel_errors_plu.mean())\n",
    "print('Media (relative error) Cholesky:', rel_errors_cholesky.mean())"
   ],
   "outputs": []
  },
  {
   "cell_type": "markdown",
   "metadata": {},
   "source": [
    "Se observa una muy pequeña diferencia en las medias de errores relativos de ambos métodos. El método de Cholesky parece ser ligeramente menor, lo que podría sugerir que el método de Cholesky tiene una mayor ***exactitud***; sin embargo, el margen es muy pequeño y no es bastante decisivo. Repetidas ejecuciones pueden arrojar resultados diferentes. Por lo tanto, parece más acertado sugerir que su **exactitud** es similar para estos casos. "
   ]
  },
  {
   "cell_type": "code",
   "execution_count": 21,
   "metadata": {},
   "source": [
    "print('Standard deviation (relative error) PLU:', rel_errors_plu.std())\n",
    "print('Standard deviation (relative error) Cholesky:', rel_errors_cholesky.std())"
   ],
   "outputs": []
  },
  {
   "cell_type": "markdown",
   "metadata": {},
   "source": [
    "Sucede algo similar que en el paso anterior. Las desviaciones estándar del método de Cholesky puden sugerir, con un margen muy pequeño, una mayor ***precisión***. Cabe resaltar que diferentes ejecuciones pueden arrojar el caso contrario (menor desviación en PLU)."
   ]
  },
  {
   "cell_type": "markdown",
   "metadata": {},
   "source": [
    "### 2. **Jacobi y Gauss-Seidel**"
   ]
  },
  {
   "cell_type": "markdown",
   "metadata": {},
   "source": [
    "Sea $\\mathbf{A} \\in \\mathbb{R}^{n\\times n}$ y $\\mathbf{b} \\in \\mathbb{R}^n$. La ecuación\n",
    "$$\\mathbf{Ax=b}$$\n",
    "tiene solución siempre que $\\mathbf{A}$ sea invertible. Si además se cumple que $\\rho(A)<1$, la solución $\\mathbf{x}$ se puede aproximar mediante algoritmos iterativos."
   ]
  },
  {
   "cell_type": "markdown",
   "metadata": {},
   "source": [
    "- Programa en Python una función que aproxime $\\mathbf{x}$ dados $\\mathbf{A}$ y $\\mathbf{b}$ mediante el algoritmo de Jacobi. Recuerda considerar una tolerancia y un número de iteraciones que se puedan modificar para tener una mayor o menor precisión."
   ]
  },
  {
   "cell_type": "code",
   "execution_count": 22,
   "metadata": {},
   "source": [
    "def solve_sle_jacobi(A: np.ndarray, b: np.ndarray, x0: np.ndarray, epsilon: float, i_max: int) -> tuple[np.ndarray, int]:\n",
    "    \"\"\"\n",
    "    Solves the system of linear equations Ax = b using Jacobi method\n",
    "\n",
    "    Example\n",
    "    --------\n",
    "    >>> A = np.array([[10, 1, 2], [4, 6, -1], [-2, 3, 8]], dtype=float)\n",
    "    >>> b = np.array([[3, 9, 51]], dtype=float).T\n",
    "    >>> x0 = np.array([[3/10, 9/6, 51/8]], dtype=float).T\n",
    "    >>> solve_sle_jacobi(A, b, x0, 1e-8, 100)\n",
    "    array([[-1.],\n",
    "           [ 3.],\n",
    "           [ 5.]])\n",
    "\n",
    "    Parameters\n",
    "    ----------\n",
    "    A (ndarray) : nxn coefficient matrix\n",
    "    b (ndarray) : nx1 constant matrix\n",
    "    x0 (ndarray) : nx1 initial guess\n",
    "    epsilon (float) : tolerance\n",
    "    i_max (int) : maximum number of iterations\n",
    "\n",
    "    Returns\n",
    "    -------\n",
    "    x (ndarray) : nx1 solution vector\n",
    "    k (int) : number of iterations\n",
    "    \"\"\"\n",
    "    m, n = np.shape(A)\n",
    "    if m != n:\n",
    "        raise InvalidInputMatrix(\"Matrix A is not square\")\n",
    "    n = np.size(b)\n",
    "    if n != m:\n",
    "        raise InvalidInputMatrix(\"Matrix A and vector b have incompatible dimensions\")\n",
    "\n",
    "    x = np.copy(x0)\n",
    "    for k in range(i_max):\n",
    "        x = np.concatenate((x, np.zeros((n, 1))), axis=1) # To store the values of x at each iteration\n",
    "        for i in range(n):\n",
    "            sum_x = 0\n",
    "            for j in range(n):\n",
    "                if i != j:\n",
    "                    sum_x += A[i, j] * x[j, k]\n",
    "            x[i, k+1] = 1/A[i, i]*(b[i,0]-sum_x)\n",
    "        verror = np.linalg.norm(x[:,k+1]-x[:,k])\n",
    "        if verror < epsilon:\n",
    "            return x[:, k+1][:, None], k\n",
    "    return x[:, i_max][:, None], i_max"
   ],
   "outputs": []
  },
  {
   "cell_type": "markdown",
   "metadata": {},
   "source": [
    "- Realiza lo mismo que en el inciso anterior usando ahora el algoritmo de Gauss-Seidel."
   ]
  },
  {
   "cell_type": "code",
   "execution_count": 23,
   "metadata": {},
   "source": [
    "def solve_sle_gs(A: np.ndarray, b: np.ndarray, x0: np.ndarray, epsilon: float, i_max: int) -> tuple[np.ndarray, int]:\n",
    "    \"\"\"\n",
    "    Solves the system of linear equations Ax = b using Gauss-Seidel method\n",
    "\n",
    "    Example\n",
    "    -------\n",
    "    >>> A = np.array([[10, 1, 2], [4, 6, -1], [-2, 3, 8]], dtype=float)\n",
    "    >>> b = np.array([[3, 9, 51]], dtype=float).T\n",
    "    >>> x0 = np.array([[3/10, 9/6, 51/8]], dtype=float).T\n",
    "    >>> solve_sle_gs(A, b, x0, 1e-8, 100)\n",
    "    array([[-1.],\n",
    "           [ 3.],\n",
    "           [ 5.]])\n",
    "\n",
    "    Parameters\n",
    "    ----------\n",
    "    A (ndarray) : nxn coefficient matrix\n",
    "    b (ndarray) : nx1 constant matrix\n",
    "    x0 (ndarray) : nx1 initial guess\n",
    "    epsilon (float) : tolerance\n",
    "    i_max (int) : maximum number of iterations\n",
    "\n",
    "    Returns\n",
    "    -------\n",
    "    x (ndarray) : nx1 solution vector\n",
    "    k (int) : number of iterations\n",
    "    \"\"\"\n",
    "    m, n = np.shape(A)\n",
    "    if m != n:\n",
    "        raise InvalidInputMatrix(\"Matrix A is not square\")\n",
    "    n = np.size(b)\n",
    "    if n != m:\n",
    "        raise InvalidInputMatrix(\"Matrix A and vector b have incompatible dimensions\")\n",
    "    x = np.copy(x0)\n",
    "    for k in range(i_max):\n",
    "        x = np.concatenate((x, np.zeros((n, 1))), axis=1) # To store the values of x at each iteration\n",
    "        for i in range(n):\n",
    "            sum_1, sum_2 = 0, 0\n",
    "            for j in range(i):\n",
    "                sum_1 += A[i, j] * x[j,k+1]\n",
    "            for j in range(i+1, n):\n",
    "                sum_2 += A[i, j] * x[j,k]\n",
    "            x[i, k+1] = 1/A[i, i]*(b[i,0]-sum_1-sum_2)\n",
    "        verror = np.linalg.norm(x[:,k+1]-x[:,k])\n",
    "        if verror < epsilon:\n",
    "            return x[:, k+1][:, None], k\n",
    "    return x[:, k+1][:, None], i_max"
   ],
   "outputs": []
  },
  {
   "cell_type": "code",
   "execution_count": 24,
   "metadata": {},
   "source": [
    "def mat_jacobi(n: int) -> np.ndarray:\n",
    "    \"\"\" Crea una matriz de nxn con diagonal dominante \"\"\"\n",
    "    A = np.random.rand(n, n)\n",
    "    for i in range(n):\n",
    "        A[i, i] += n\n",
    "    return A"
   ],
   "outputs": []
  },
  {
   "cell_type": "markdown",
   "metadata": {},
   "source": [
    "- Genera un vector $\\mathbf{x}$ y $\\mathbf{b}$ como en el ejercicio 1(e), utilizando la función anterior."
   ]
  },
  {
   "cell_type": "code",
   "execution_count": 25,
   "metadata": {},
   "source": [
    "M = mat_jacobi(100)\n",
    "# x_s = np.array([[i+1 for i in range(4)]], dtype=float).T ### No need to redefine x_s\n",
    "b = M@x_s"
   ],
   "outputs": []
  },
  {
   "cell_type": "code",
   "execution_count": 26,
   "metadata": {},
   "source": [
    "tol = 1e-15 # Tolerance"
   ],
   "outputs": []
  },
  {
   "cell_type": "code",
   "execution_count": 27,
   "metadata": {},
   "source": [
    "# Solution using Jacobi method\n",
    "x_jacobi, _ = solve_sle_jacobi(M, b, np.zeros((100,1)), tol, 100)\n",
    "x_jacobi.flatten()"
   ],
   "outputs": []
  },
  {
   "cell_type": "code",
   "execution_count": 28,
   "metadata": {},
   "source": [
    "# Solution using Gauss-Seidel method\n",
    "x_gs, _ = solve_sle_gs(M, b, np.zeros((100,1)), tol, 100)\n",
    "x_gs.flatten()"
   ],
   "outputs": []
  },
  {
   "cell_type": "markdown",
   "metadata": {},
   "source": [
    "- Calcula el error relativo de Jacobi y Gauss-Seidel para 30 ecuaciones distintas. Almacena tus vectores de error."
   ]
  },
  {
   "cell_type": "code",
   "execution_count": 29,
   "metadata": {},
   "source": [
    "# Preallocate arrays for errors\n",
    "abs_errors_jacobi = np.zeros(30)\n",
    "abs_errors_gs = np.zeros(30)\n",
    "rel_errors_jacobi = np.zeros(30)\n",
    "rel_errors_gs = np.zeros(30)\n",
    "iter_jacobi = np.zeros(30)\n",
    "iter_gs = np.zeros(30)\n",
    "for i in range(30):\n",
    "    M = mat_jacobi(100)\n",
    "    b = M@x_s\n",
    "    x_jacobi, k_j = solve_sle_jacobi(M, b, np.zeros((100,1)), tol, 100)\n",
    "    x_gs, k_gs = solve_sle_gs(M, b, np.zeros((100,1)), tol, 100)\n",
    "    abs_errors_jacobi[i] = abs_err(x_jacobi.flatten(), x_s.flatten())\n",
    "    rel_errors_jacobi[i] = rel_err(x_jacobi.flatten(), x_s.flatten())\n",
    "    abs_errors_gs[i] = abs_err(x_gs.flatten(), x_s.flatten())\n",
    "    rel_errors_gs[i] = rel_err(x_gs.flatten(), x_s.flatten())\n",
    "    iter_jacobi[i] = k_j\n",
    "    iter_gs[i] = k_gs"
   ],
   "outputs": []
  },
  {
   "cell_type": "markdown",
   "metadata": {},
   "source": [
    "- Grafica ambos errores y a partir de la gráfica justifica cuál algoritmo preferirías usar."
   ]
  },
  {
   "cell_type": "code",
   "execution_count": 50,
   "metadata": {},
   "source": [
    "# Plot errors\n",
    "fig, axs = plt.subplots(1, 2, figsize=(12, 6))\n",
    "fig.suptitle('Errors in solving a system of linear equations')\n",
    "axs[0].set_yscale('log')\n",
    "axs[1].set_yscale('log')\n",
    "axs[0].plot(range(30), abs_errors_jacobi, 'r--o', label='Jacobi')\n",
    "axs[0].plot(range(30), abs_errors_gs, 'c--o', label='Gauss-Seidel')\n",
    "axs[0].set_title('Absolute errors')\n",
    "axs[0].set_xlabel('Matrix instance')\n",
    "axs[0].set_ylabel('Error')\n",
    "axs[0].legend()\n",
    "axs[1].plot(range(30), rel_errors_jacobi, 'r--o', label='Jacobi')\n",
    "axs[1].plot(range(30), rel_errors_gs, 'c--o', label='Gauss-Seidel')\n",
    "axs[1].set_title('Relative errors')\n",
    "axs[1].set_xlabel('Matrix instance')\n",
    "axs[1].set_ylabel('Error')\n",
    "axs[1].legend()\n",
    "plt.show()"
   ],
   "outputs": []
  },
  {
   "cell_type": "markdown",
   "metadata": {},
   "source": [
    "Los resultados sugieren que ambos métodos resuelven el sistema con **exactitud** muy similar dado que hay muy poca diferencia en las medias:"
   ]
  },
  {
   "cell_type": "code",
   "execution_count": 31,
   "metadata": {},
   "source": [
    "print('Media (relative error) Jacobi:', rel_errors_jacobi.mean())\n",
    "print('Media (relative error) Gauss-Seidel:', rel_errors_gs.mean())"
   ],
   "outputs": []
  },
  {
   "cell_type": "markdown",
   "metadata": {},
   "source": [
    "Sucede lo mismo con la **precisión**, dado que se observaron desviaciones estándar similares:"
   ]
  },
  {
   "cell_type": "code",
   "execution_count": 32,
   "metadata": {},
   "source": [
    "print('Standard deviation (relative error) Jacobi:', rel_errors_jacobi.std())\n",
    "print('Standard deviation (relative error) Gauss-Seidel:', rel_errors_gs.std())"
   ],
   "outputs": []
  },
  {
   "cell_type": "markdown",
   "metadata": {},
   "source": [
    "Por estos motivos, parece adecuado considerar otro factor para tomar la decisión. Para ello revisamos la media del número de iteraciones que realizan los métodos:"
   ]
  },
  {
   "cell_type": "code",
   "execution_count": 33,
   "metadata": {},
   "source": [
    "print('Media (iterations) Jacobi:', iter_jacobi.mean())\n",
    "print('Media (iterations) Gauss-Seidel:', iter_gs.mean())"
   ],
   "outputs": []
  },
  {
   "cell_type": "markdown",
   "metadata": {},
   "source": [
    "De esta manera, teniendo una precisión y exactitud similares, pero un menor número de iteraciones, parece ser más conveniente usar el método de Gauss-Seidel."
   ]
  },
  {
   "cell_type": "markdown",
   "metadata": {},
   "source": [
    "### 3. **Factorización QR**"
   ]
  },
  {
   "cell_type": "markdown",
   "metadata": {},
   "source": [
    "- Programa una función en Python que obtenga la factorización QR mediante el algoritmo de Gram-Schmidt."
   ]
  },
  {
   "cell_type": "code",
   "execution_count": 34,
   "metadata": {},
   "source": [
    "def qr_fact(A: np.ndarray) -> tuple[np.ndarray, np.ndarray]:\n",
    "    \"\"\"\n",
    "    QR factorization of a matrix A\n",
    "\n",
    "    Example\n",
    "    --------\n",
    "    >>> A = np.array([[1,0,3],[2,1,1],[1,4,5]], dtype=float)\n",
    "    >>> qr_fact(A)\n",
    "    (array([[ 0.40824829, -0.30151134,  0.86164044],\n",
    "        [ 0.81649658, -0.30151134, -0.49236596],\n",
    "        [ 0.40824829,  0.90453403,  0.12309149]]),\n",
    "    array([[2.44948974e+00, 2.44948974e+00, 4.08248290e+00],\n",
    "        [0.00000000e+00, 3.31662479e+00, 3.31662479e+00],\n",
    "        [4.57966998e-16, 9.43689571e-16, 2.70801280e+00]]))\n",
    "\n",
    "    Parameters\n",
    "    ----------\n",
    "    A (ndarray) : nxn matrix\n",
    "\n",
    "    Returns\n",
    "    -------\n",
    "    Q (ndarray) : nxn orthogonal matrix\n",
    "    R (ndarray) : nxn upper triangular matrix\n",
    "    \"\"\"\n",
    "    m, n = A.shape\n",
    "    if m != n:\n",
    "        raise InvalidInputMatrix(\"Matrix A is not square\")\n",
    "    Q = np.copy(A)\n",
    "    R = np.zeros((n, n))\n",
    "    for i in range(m):\n",
    "        R[i,i] = np.linalg.norm(Q[:,i])\n",
    "        Q[:,i] /= R[i,i]\n",
    "        for j in range(i+1, n):\n",
    "            R[i,j] = Q[:,i] @ Q[:,j]\n",
    "            Q[:,j] -= R[i,j] * Q[:,i]\n",
    "    return Q, R"
   ],
   "outputs": []
  },
  {
   "cell_type": "markdown",
   "metadata": {},
   "source": [
    "- Dada la ecuación $\\mathbf{Ax=b}$ con $\\mathbf{A}$ una matriz invertible y la factorización $\\mathbf{A=QR}$, entonces, la solución $\\mathbf{x}$ se puede obtener al resolver la ecuación $\\mathbf{Rx=Q^Tb}$ donde $\\mathbf{R}$ es una matriz triangular superior. Define una función en Python que obtenga la solución a dicha ecuación, dados $\\mathbf{A}$, $\\mathbf{b}$ y que utilice la factorización QR de $\\mathbf{A}$."
   ]
  },
  {
   "cell_type": "code",
   "execution_count": 35,
   "metadata": {},
   "source": [
    "def solve_qr(A: np.ndarray, b: np.ndarray) -> np.ndarray:\n",
    "    \"\"\"\n",
    "    Solves the system of linear equations Ax = b using QR factorization\n",
    "\n",
    "    Example\n",
    "    --------\n",
    "    >>> A = np.array([[1,0,3],[2,1,1],[1,4,5]], dtype=float)\n",
    "    >>> b = np.array([[1,2,3]], dtype=float).T\n",
    "    >>> solve_qr(A, b)\n",
    "    array([[0.72727273],\n",
    "           [0.45454545],\n",
    "           [0.09090909]])\n",
    "\n",
    "    Parameters\n",
    "    ----------\n",
    "    A (ndarray) : nxn coefficient matrix\n",
    "    b (ndarray) : nx1 constant matrix\n",
    "\n",
    "    Returns\n",
    "    -------\n",
    "    x (ndarray) : nx1 solution vector\n",
    "    \"\"\"\n",
    "    Q, R = qr_fact(A)\n",
    "    y = Q.T@b\n",
    "    x = solve_ux_b(R, y)\n",
    "    return x"
   ],
   "outputs": []
  },
  {
   "cell_type": "markdown",
   "metadata": {},
   "source": [
    "- Define $\\mathbf{A}$, $\\mathbf{x}$ y $\\mathbf{b}$ de forma análoga a los ejercicios anteriores y encuentra la solución a la ecuación $\\mathbf{Ax=b}$, utilizando tu solucionador con factorización QR."
   ]
  },
  {
   "cell_type": "code",
   "execution_count": 36,
   "metadata": {},
   "source": [
    "A = scale*np.random.rand(100,100)\n",
    "# x_s = np.array([[i+1 for i in range(100)]], dtype=float).T ### No need to redefine x_s\n",
    "b = A@x_s"
   ],
   "outputs": []
  },
  {
   "cell_type": "code",
   "execution_count": 37,
   "metadata": {},
   "source": [
    "# Exact solution\n",
    "x_s.flatten()"
   ],
   "outputs": []
  },
  {
   "cell_type": "code",
   "execution_count": 38,
   "metadata": {},
   "source": [
    "# qr solution\n",
    "x_qr = solve_qr(A, b)\n",
    "x_qr.flatten()"
   ],
   "outputs": []
  },
  {
   "cell_type": "markdown",
   "metadata": {},
   "source": [
    "- Calcula el error relativo de 30 ecuaciones como la del inciso anterior y almacena tu vector de errores."
   ]
  },
  {
   "cell_type": "code",
   "execution_count": 39,
   "metadata": {},
   "source": [
    "# Preallocate arrays for errors\n",
    "abs_errors_qr = np.zeros(30)\n",
    "rel_errors_qr = np.zeros(30)"
   ],
   "outputs": []
  },
  {
   "cell_type": "code",
   "execution_count": 40,
   "metadata": {},
   "source": [
    "for i in range(30):\n",
    "    A = scale*np.random.rand(100,100)\n",
    "    b = A@x_s\n",
    "    x_qr = solve_qr(A, b).flatten()\n",
    "    abs_errors_qr[i] = abs_err(x_qr, x_s.flatten())\n",
    "    rel_errors_qr[i] = rel_err(x_qr, x_s.flatten())"
   ],
   "outputs": []
  },
  {
   "cell_type": "code",
   "execution_count": 49,
   "metadata": {},
   "source": [
    "# Plot errors\n",
    "fig, axs = plt.subplots(1, 2, figsize=(12, 6))\n",
    "axs[0].set_yscale('log')\n",
    "axs[1].set_yscale('log')\n",
    "fig.suptitle('Errors in solving a system of linear equations')\n",
    "axs[0].plot(range(30), abs_errors_qr, 'm--o', label='QR')\n",
    "axs[0].set_title('Absolute errors')\n",
    "axs[0].set_xlabel('Matrix instance')\n",
    "axs[0].set_ylabel('Error')\n",
    "axs[0].legend()\n",
    "axs[1].plot(range(30), rel_errors_qr, 'm--o', label='QR')\n",
    "axs[1].set_title('Relative errors')\n",
    "axs[1].set_xlabel('Matrix instance')\n",
    "axs[1].set_ylabel('Error')\n",
    "axs[1].legend()\n",
    "plt.show()"
   ],
   "outputs": []
  },
  {
   "cell_type": "markdown",
   "metadata": {},
   "source": [
    "### 4. **Comparación de solucionadores**"
   ]
  },
  {
   "cell_type": "markdown",
   "metadata": {},
   "source": [
    "Grafica los errores relativos de tus 5 solucionadores en una misma gráfica, la media de errores y la desviación estándar para cada método."
   ]
  },
  {
   "cell_type": "code",
   "execution_count": 53,
   "metadata": {},
   "source": [
    "# Plot errors\n",
    "fig, axs = plt.subplots(2, 1, figsize=(16, 12))\n",
    "fig.suptitle('Errors in solving a system of linear equations')\n",
    "axs[0].set_yscale('log')\n",
    "axs[1].set_yscale('log')\n",
    "axs[0].plot(range(30), abs_errors_plu, 'b--o', label='PLU')\n",
    "axs[0].plot(range(30), abs_errors_cholesky, 'g--o', label='Cholesky')\n",
    "axs[0].plot(range(30), abs_errors_jacobi, 'r--o', label='Jacobi')\n",
    "axs[0].plot(range(30), abs_errors_gs, 'c--o', label='Gauss-Seidel')\n",
    "axs[0].plot(range(30), abs_errors_qr, 'm--o', label='QR')\n",
    "axs[0].set_title('Absolute errors')\n",
    "axs[0].set_xlabel('Matrix instance')\n",
    "axs[0].set_ylabel('Error')\n",
    "axs[0].legend()\n",
    "axs[1].plot(range(30), rel_errors_plu, 'b--o', label='PLU')\n",
    "axs[1].plot(range(30), rel_errors_cholesky, 'g--o', label='Cholesky')\n",
    "axs[1].plot(range(30), rel_errors_jacobi, 'r--o', label='Jacobi')\n",
    "axs[1].plot(range(30), rel_errors_gs, 'c--o', label='Gauss-Seidel')\n",
    "axs[1].plot(range(30), rel_errors_qr, 'm--o', label='QR')\n",
    "axs[1].set_title('Relative errors')\n",
    "axs[1].set_xlabel('Matrix instance')\n",
    "axs[1].set_ylabel('Error')\n",
    "axs[1].legend()\n",
    "plt.show()"
   ],
   "outputs": []
  },
  {
   "cell_type": "markdown",
   "metadata": {},
   "source": [
    "Con base en esto, responde las siguientes preguntas\n",
    "\n",
    "1. ¿Cuál es el solucionador más preciso?\n"
   ]
  },
  {
   "cell_type": "markdown",
   "metadata": {},
   "source": [
    "Con base en las desviaciones estándar de los errores relativos:"
   ]
  },
  {
   "cell_type": "code",
   "execution_count": 44,
   "metadata": {},
   "source": [
    "std = {'PLU': rel_errors_plu.std(), 'Cholesky': rel_errors_cholesky.std(), 'Jacobi': rel_errors_jacobi.std(), 'Gauss-Seidel': rel_errors_gs.std(), 'QR': rel_errors_qr.std()}\n",
    "# Sort dictionary by values\n",
    "std = dict(sorted(std.items(), key=lambda item: item[1]))\n",
    "for key, value in std.items():\n",
    "    print(f\"{key:15}: {value}\")"
   ],
   "outputs": []
  },
  {
   "cell_type": "markdown",
   "metadata": {},
   "source": [
    "Los resultados sugieren que los solucionadores con método de Gauss-Seidel, y por muy cerca, el de Jacobi son los más **precisos**. Esto se puede explicar por la condición de paro de los algoritmos que se ajustó hasta una tolerancia de $1\\times 10^{-15}$."
   ]
  },
  {
   "cell_type": "markdown",
   "metadata": {},
   "source": [
    "2. ¿Cuál es el solucionador más exacto?"
   ]
  },
  {
   "cell_type": "markdown",
   "metadata": {},
   "source": [
    "Con base en la media de los errores:"
   ]
  },
  {
   "cell_type": "code",
   "execution_count": 45,
   "metadata": {},
   "source": [
    "mean = {'PLU': rel_errors_plu.mean(), 'Cholesky': rel_errors_cholesky.mean(), 'Jacobi': rel_errors_jacobi.mean(), 'Gauss-Seidel': rel_errors_gs.mean(), 'QR': rel_errors_qr.mean()}\n",
    "# Sort dictionary by values\n",
    "mean = dict(sorted(mean.items(), key=lambda item: item[1]))\n",
    "for key, value in mean.items():\n",
    "    print(f\"{key:15}: {value}\")"
   ],
   "outputs": []
  },
  {
   "cell_type": "markdown",
   "metadata": {},
   "source": [
    "Los datos sugieren que los solucionadores con Gauss-Seidel y con Jacobi son los más precisos. De nuevo, la diferencia respecto a los otros métodos puede deberse a que se especifico una tolerancia de condición de paro de $1\\times 10^{-15}$, i.e. podemos ajustar que tanto queremos que converja la solución. Podrían obtenerse resultados diferentes con tolerancias menores."
   ]
  },
  {
   "cell_type": "markdown",
   "metadata": {},
   "source": [
    "3. Si la matriz $\\mathbf{A}$ es una matriz cuadrada e invertible, ¿cuál método utilizarías para resolver la ecuación $\\mathbf{Ax=b}$?"
   ]
  },
  {
   "cell_type": "markdown",
   "metadata": {},
   "source": [
    "Dependerá de la compatibilidad del sistema a resolver con los métodos:\n",
    "- Primero probar Gauss-Seidel\n",
    "- Si Gauss-Seidel no converge o no están claras las restricciones del sistema: QR, esto porque en las situaciones reales, puede ser poco probable tener un sistema de ecuaciones con una matriz simétrica positiva definida asociada, descartando a Cholesky; y porque, de acuerdo a lo visto en estas ejecuciones, QR tuvo mejor **exactitud** y **precisión** que PLU."
   ]
  },
  {
   "cell_type": "markdown",
   "metadata": {},
   "source": [
    "4. Si hay un método que soluciona la ecuación para una matriz invertible, ¿cuáles son las ventajas de los otros algoritmos frente al solucionador que escogiste en el inciso anterior?"
   ]
  },
  {
   "cell_type": "markdown",
   "metadata": {},
   "source": [
    "- **PLU:** Sus principal ventaja es que no tenemos tantas restricciones para la matriz asociada al sistema. Si la matriz asociada es invertible, es una opción confiable. Además, la misma factorización puede usarse para resolver sistemas similares (misma matriz asociada, diferentes vectores de términos independientes).\n",
    "- **Cholesky**: Su factorización puede usarse para resolver varios sistemas similares cuya diferencia sea el vector de términos independientes.\n",
    "- **Jacobi**: Podemos ajustar la condición de convergencia y el número de iteraciones para aumentar la exactitud de la solución. Converge para algunos casos que con Gauss-Seidel no.\n",
    "- **QR**: No nos pone muchas restricciones con las matrices asociadas. Parece tener mejor desempeño que PLU. La misma factorización puede reutilizarse para calcular sistemas diferentes.\n"
   ]
  }
 ],
 "metadata": {
  "kernelspec": {
   "display_name": "Python 3",
   "language": "python",
   "name": "python3"
  },
  "language_info": {
   "codemirror_mode": {
    "name": "ipython",
    "version": 3
   },
   "file_extension": ".py",
   "mimetype": "text/x-python",
   "name": "python",
   "nbconvert_exporter": "python",
   "pygments_lexer": "ipython3",
   "version": "3.12.6"
  }
 },
 "nbformat": 4,
 "nbformat_minor": 2
}
