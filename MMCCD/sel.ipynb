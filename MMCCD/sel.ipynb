{
 "cells": [
  {
   "cell_type": "markdown",
   "metadata": {},
   "source": [
    "# Factorización LU"
   ]
  },
  {
   "cell_type": "code",
   "execution_count": 1,
   "metadata": {
    "ExecuteTime": {
     "end_time": "2024-08-30T17:07:04.321378Z",
     "start_time": "2024-08-30T17:07:04.302145Z"
    }
   },
   "source": [
    "import numpy as np\n",
    "import matplotlib.pyplot as plt"
   ],
   "outputs": []
  },
  {
   "cell_type": "code",
   "execution_count": 2,
   "metadata": {
    "ExecuteTime": {
     "end_time": "2024-08-30T17:07:04.350093Z",
     "start_time": "2024-08-30T17:07:04.335958Z"
    }
   },
   "source": [
    "M = 20 # M: Máximo valor de la distribución\n",
    "A = M*np.random.rand(3,3)\n",
    "A"
   ],
   "outputs": []
  },
  {
   "cell_type": "code",
   "execution_count": 3,
   "metadata": {
    "ExecuteTime": {
     "end_time": "2024-08-30T17:07:04.394607Z",
     "start_time": "2024-08-30T17:07:04.389938Z"
    }
   },
   "source": [
    "def fact_lu(A):\n",
    "    m, n = np.shape(A)\n",
    "    if m != n:\n",
    "        return None\n",
    "    L = np.zeros((n, n))\n",
    "    U = np.copy(A)\n",
    "    for j in range(n-1):\n",
    "        for i in range(j+1,n):\n",
    "            L[i,j] = (U[i,j])/(U[j,j])\n",
    "            U[i] = U[i] - L[i,j]*U[j]\n",
    "    L = L + np.eye(n)\n",
    "    return L, U"
   ],
   "outputs": []
  },
  {
   "cell_type": "code",
   "execution_count": 4,
   "metadata": {
    "ExecuteTime": {
     "end_time": "2024-08-30T17:07:04.447820Z",
     "start_time": "2024-08-30T17:07:04.440976Z"
    }
   },
   "source": [
    "L, U = fact_lu(A)\n",
    "L"
   ],
   "outputs": []
  },
  {
   "cell_type": "code",
   "execution_count": 5,
   "metadata": {
    "ExecuteTime": {
     "end_time": "2024-08-30T17:07:04.566803Z",
     "start_time": "2024-08-30T17:07:04.562077Z"
    }
   },
   "source": [
    "U"
   ],
   "outputs": []
  },
  {
   "cell_type": "code",
   "execution_count": 6,
   "metadata": {
    "ExecuteTime": {
     "end_time": "2024-08-30T17:07:04.901249Z",
     "start_time": "2024-08-30T17:07:04.897001Z"
    }
   },
   "source": [
    "A - L@U"
   ],
   "outputs": []
  },
  {
   "cell_type": "code",
   "execution_count": 7,
   "metadata": {
    "ExecuteTime": {
     "end_time": "2024-08-30T17:07:05.404860Z",
     "start_time": "2024-08-30T17:07:05.399634Z"
    }
   },
   "source": [
    "np.linalg.norm(A - L@U)"
   ],
   "outputs": []
  },
  {
   "cell_type": "markdown",
   "metadata": {},
   "source": [
    "# Factorización PLU"
   ]
  },
  {
   "cell_type": "code",
   "execution_count": 8,
   "metadata": {
    "ExecuteTime": {
     "end_time": "2024-08-30T17:07:05.938122Z",
     "start_time": "2024-08-30T17:07:05.932717Z"
    }
   },
   "source": [
    "def swap_rows(A, i, j):\n",
    "    temp = np.copy(A[i])\n",
    "    A[i] = A[j]\n",
    "    A[j] = temp"
   ],
   "outputs": []
  },
  {
   "cell_type": "code",
   "execution_count": 9,
   "metadata": {
    "ExecuteTime": {
     "end_time": "2024-08-30T17:07:06.063224Z",
     "start_time": "2024-08-30T17:07:06.058269Z"
    }
   },
   "source": [
    "import numpy as np\n",
    "\n",
    "\n",
    "def fact_plu(A):\n",
    "    \"\"\"\n",
    "    Factoriza la matriz A en las matrices P, L y U utilizando la factorización PLU.\n",
    "    \n",
    "    Parameters:\n",
    "    -----------\n",
    "    A : np.ndarray\n",
    "        Matriz a factorizar.\n",
    "    \n",
    "    Returns:\n",
    "    --------\n",
    "    P, L, U : np.ndarray\n",
    "        Matrices de permutación (P), triangular inferior (L) y triangular superior (U).\n",
    "    \"\"\"\n",
    "    m, n = np.shape(A)\n",
    "    if m != n:\n",
    "        raise ValueError(\"La matriz debe ser cuadrada\")\n",
    "    \n",
    "    P = np.eye(n)  # Matriz de permutación\n",
    "    L = np.zeros((n, n))  # Matriz triangular inferior\n",
    "    U = np.copy(A)  # Copia de la matriz original\n",
    "    \n",
    "    for j in range(n - 1):\n",
    "        # Pivoteo parcial\n",
    "        if np.abs(U[j, j]) == 0:\n",
    "            max_row = np.argmax(np.abs(U[j:, j])) + j\n",
    "            if U[max_row, j] == 0:\n",
    "                raise ValueError(\"La matriz es singular\")\n",
    "            swap_rows(U, j, max_row)\n",
    "            swap_rows(P, j, max_row)\n",
    "        \n",
    "        for i in range(j + 1, n):\n",
    "            L[i, j] = U[i, j] / U[j, j]\n",
    "            U[i] -= L[i, j] * U[j]\n",
    "    \n",
    "    L += np.eye(n)  # Añadir la diagonal de unos a L\n",
    "    return P, L, U\n",
    "\n",
    "def forward_substitution(L, b):\n",
    "    \"\"\"\n",
    "    Resuelve el sistema Ly = b, donde L es una matriz triangular inferior.\n",
    "    \n",
    "    Parameters:\n",
    "    -----------\n",
    "    L : np.ndarray\n",
    "        Matriz triangular inferior.\n",
    "    b : np.ndarray\n",
    "        Vector independiente.\n",
    "    \n",
    "    Returns:\n",
    "    --------\n",
    "    y : np.ndarray\n",
    "        Solución del sistema Ly = b.\n",
    "    \"\"\"\n",
    "    n = len(b)\n",
    "    y = np.zeros_like(b)\n",
    "    \n",
    "    for i in range(n):\n",
    "        y[i] = (b[i] - np.dot(L[i, :i], y[:i])) / L[i, i]\n",
    "    \n",
    "    return y\n",
    "\n",
    "def backward_substitution(U, y):\n",
    "    \"\"\"\n",
    "    Resuelve el sistema Ux = y, donde U es una matriz triangular superior.\n",
    "    \n",
    "    Parameters:\n",
    "    -----------\n",
    "    U : np.ndarray\n",
    "        Matriz triangular superior.\n",
    "    y : np.ndarray\n",
    "        Vector independiente.\n",
    "    \n",
    "    Returns:\n",
    "    --------\n",
    "    x : np.ndarray\n",
    "        Solución del sistema Ux = y.\n",
    "    \"\"\"\n",
    "    n = len(y)\n",
    "    x = np.zeros_like(y)\n",
    "    \n",
    "    for i in range(n - 1, -1, -1):\n",
    "        x[i] = (y[i] - np.dot(U[i, i + 1:], x[i + 1:])) / U[i, i]\n",
    "    \n",
    "    return x\n",
    "\n",
    "def solve_plu(A, b):\n",
    "    \"\"\"\n",
    "    Resuelve el sistema Ax = b usando la factorización PLU.\n",
    "    \n",
    "    Parameters:\n",
    "    -----------\n",
    "    A : np.ndarray\n",
    "        Matriz de coeficientes A.\n",
    "    b : np.ndarray\n",
    "        Vector de términos independientes b.\n",
    "    \n",
    "    Returns:\n",
    "    --------\n",
    "    x : np.ndarray\n",
    "        Solución del sistema Ax = b.\n",
    "    \"\"\"\n",
    "    # Factorización PLU\n",
    "    P, L, U = fact_plu(A)\n",
    "    \n",
    "    # Resolver Ly = Pb\n",
    "    Pb = np.dot(P, b)\n",
    "    y = forward_substitution(L, Pb)\n",
    "    \n",
    "    # Resolver Ux = y\n",
    "    x = backward_substitution(U, y)\n",
    "    \n",
    "    return x\n"
   ],
   "outputs": []
  },
  {
   "metadata": {},
   "cell_type": "code",
   "execution_count": 10,
   "source": [
    "M = 20 # M: Máximo valor de la distribución\n",
    "A = M*np.random.rand(3,3)\n",
    "A"
   ],
   "outputs": []
  },
  {
   "metadata": {},
   "cell_type": "code",
   "execution_count": 11,
   "source": [
    "P, L, U = fact_plu(A)\n",
    "P"
   ],
   "outputs": []
  },
  {
   "metadata": {},
   "cell_type": "code",
   "execution_count": 12,
   "source": "L",
   "outputs": []
  },
  {
   "metadata": {},
   "cell_type": "code",
   "execution_count": 13,
   "source": "U",
   "outputs": []
  },
  {
   "metadata": {},
   "cell_type": "code",
   "execution_count": 14,
   "source": "P@A - L@U",
   "outputs": []
  },
  {
   "cell_type": "code",
   "execution_count": 15,
   "metadata": {
    "ExecuteTime": {
     "end_time": "2024-08-30T17:07:06.755Z",
     "start_time": "2024-08-30T17:07:06.746955Z"
    }
   },
   "source": [
    "np.linalg.norm(P@A - L@U)"
   ],
   "outputs": []
  },
  {
   "cell_type": "code",
   "execution_count": 16,
   "metadata": {
    "ExecuteTime": {
     "end_time": "2024-08-30T17:07:11.536004Z",
     "start_time": "2024-08-30T17:07:06.976227Z"
    }
   },
   "source": [
    "errores_LU = []\n",
    "enes = list(range(3,301,3))\n",
    "for n in enes:\n",
    "    M = 10 # M: Máximo valor de la distribución\n",
    "    A = M*np.random.rand(n,n)\n",
    "    L, U = fact_lu(A)\n",
    "    errores_LU.append(np.linalg.norm(A - L@U))"
   ],
   "outputs": []
  },
  {
   "cell_type": "code",
   "execution_count": 17,
   "metadata": {
    "ExecuteTime": {
     "end_time": "2024-08-30T17:07:15.839486Z",
     "start_time": "2024-08-30T17:07:11.536306Z"
    }
   },
   "source": [
    "errores_PLU = []\n",
    "for n in enes:\n",
    "    M = 10 # M: Máximo valor de la distribución\n",
    "    A = M*np.random.rand(n,n)\n",
    "    P, L, U = fact_plu(A)\n",
    "    errores_PLU.append(np.linalg.norm(P@A - L@U))"
   ],
   "outputs": []
  },
  {
   "cell_type": "code",
   "execution_count": 18,
   "metadata": {
    "ExecuteTime": {
     "end_time": "2024-08-30T17:07:15.986864Z",
     "start_time": "2024-08-30T17:07:15.851493Z"
    }
   },
   "source": [
    "plt.plot(enes, errores_LU, 'b--o', label='LU')\n",
    "plt.plot(enes, errores_PLU, 'r--o', label='PLU')\n",
    "plt.xlabel('Dimensión de la matriz (n)')\n",
    "plt.ylabel('Error')\n",
    "plt.title('LU vs PLU')\n",
    "plt.grid(alpha=0.4)\n",
    "plt.legend()"
   ],
   "outputs": []
  },
  {
   "cell_type": "markdown",
   "metadata": {},
   "source": [
    "# Solución del SEL"
   ]
  },
  {
   "cell_type": "code",
   "execution_count": 19,
   "metadata": {
    "ExecuteTime": {
     "end_time": "2024-08-30T17:07:16.077080Z",
     "start_time": "2024-08-30T17:07:16.069740Z"
    }
   },
   "source": [
    "def sel(A, b):\n",
    "    L, U = fact_lu(A)\n",
    "    n = np.size(A[0])\n",
    "    y = np.zeros((n,1))\n",
    "    y[0] = b[0]\n",
    "    for k in range (1,n):\n",
    "        y[k] = b[k]-L[k,0:k]@y[0:k]\n",
    "    x = np.zeros((n,1))\n",
    "    x[n-1] = y[n-1]/U[n-1,n-1]\n",
    "    for k in range(n-2,-1,-1):\n",
    "        x[k] = (y[k] - U[k,k+1:n]@x[k+1:n,0])/U[k,k]\n",
    "    return x, y, L, U"
   ],
   "outputs": []
  },
  {
   "cell_type": "code",
   "execution_count": 20,
   "metadata": {
    "ExecuteTime": {
     "end_time": "2024-08-30T17:07:16.098275Z",
     "start_time": "2024-08-30T17:07:16.094569Z"
    }
   },
   "source": [
    "A = np.matrix([np.array([4.,5.,2.,-1.]),\n",
    "               np.array([5.,8.,7.,6.]),\n",
    "               np.array([3.,7.,-4.,-2.]),\n",
    "               np.array([-1.,6.,-2.,5.])])\n",
    "b = np.matrix([3.,2.,0.,1.]).T"
   ],
   "outputs": []
  },
  {
   "cell_type": "code",
   "execution_count": 21,
   "metadata": {
    "ExecuteTime": {
     "end_time": "2024-08-30T17:07:16.118830Z",
     "start_time": "2024-08-30T17:07:16.102839Z"
    }
   },
   "source": [
    "x, y, L, U = sel(A, b)"
   ],
   "outputs": []
  },
  {
   "cell_type": "code",
   "execution_count": 22,
   "metadata": {
    "ExecuteTime": {
     "end_time": "2024-08-30T17:07:16.135498Z",
     "start_time": "2024-08-30T17:07:16.130586Z"
    }
   },
   "source": [
    "x"
   ],
   "outputs": []
  },
  {
   "cell_type": "code",
   "execution_count": 23,
   "metadata": {
    "ExecuteTime": {
     "end_time": "2024-08-30T17:07:16.187911Z",
     "start_time": "2024-08-30T17:07:16.179953Z"
    }
   },
   "source": [
    "y"
   ],
   "outputs": []
  },
  {
   "cell_type": "code",
   "execution_count": 24,
   "metadata": {
    "ExecuteTime": {
     "end_time": "2024-08-30T17:07:16.265510Z",
     "start_time": "2024-08-30T17:07:16.260681Z"
    }
   },
   "source": [
    "L"
   ],
   "outputs": []
  },
  {
   "cell_type": "code",
   "execution_count": 25,
   "metadata": {
    "ExecuteTime": {
     "end_time": "2024-08-30T17:07:16.366115Z",
     "start_time": "2024-08-30T17:07:16.360783Z"
    }
   },
   "source": [
    "U"
   ],
   "outputs": []
  },
  {
   "cell_type": "code",
   "execution_count": 26,
   "metadata": {
    "ExecuteTime": {
     "end_time": "2024-08-30T17:07:16.464833Z",
     "start_time": "2024-08-30T17:07:16.460041Z"
    }
   },
   "source": [
    "A = np.matrix([np.array([1.,1.,0.,3.]),\n",
    "               np.array([2.,1.,-1.,1.]),\n",
    "               np.array([3.,-1.,-1.,2.]),\n",
    "               np.array([-1.,2.,3.,-1.])])\n",
    "\n",
    "b = np.matrix([8.,7.,14.,-7.]).T\n",
    "\n",
    "x, y, L, U = sel(A, b)"
   ],
   "outputs": []
  },
  {
   "cell_type": "code",
   "execution_count": 27,
   "metadata": {
    "ExecuteTime": {
     "end_time": "2024-08-30T17:07:16.527629Z",
     "start_time": "2024-08-30T17:07:16.522630Z"
    }
   },
   "source": [
    "print(x)\n",
    "print(y)\n",
    "print(L)\n",
    "print(U)"
   ],
   "outputs": []
  }
 ],
 "metadata": {
  "kernelspec": {
   "display_name": "Python 3",
   "language": "python",
   "name": "python3"
  },
  "language_info": {
   "codemirror_mode": {
    "name": "ipython",
    "version": 3
   },
   "file_extension": ".py",
   "mimetype": "text/x-python",
   "name": "python",
   "nbconvert_exporter": "python",
   "pygments_lexer": "ipython3",
   "version": "3.12.4"
  }
 },
 "nbformat": 4,
 "nbformat_minor": 2
}
