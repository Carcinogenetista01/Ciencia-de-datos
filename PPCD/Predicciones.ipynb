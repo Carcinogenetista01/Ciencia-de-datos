{
 "cells": [
  {
   "metadata": {
    "ExecuteTime": {
     "end_time": "2024-10-16T14:48:24.467933Z",
     "start_time": "2024-10-16T14:48:22.202790Z"
    }
   },
   "cell_type": "code",
   "source": [
    "import pandas as pd\n",
    "import numpy as np\n",
    "import matplotlib.pyplot as plt"
   ],
   "id": "f1efcc44556e9006",
   "execution_count": 2,
   "outputs": []
  },
  {
   "cell_type": "code",
   "id": "initial_id",
   "metadata": {
    "collapsed": true,
    "ExecuteTime": {
     "end_time": "2024-10-16T14:48:24.477454Z",
     "start_time": "2024-10-16T14:48:24.468962Z"
    }
   },
   "source": [
    "data = pd.read_csv('tallas.csv')\n",
    "data.T"
   ],
   "execution_count": 3,
   "outputs": []
  },
  {
   "metadata": {
    "ExecuteTime": {
     "end_time": "2024-10-16T14:49:31.877983Z",
     "start_time": "2024-10-16T14:49:31.836499Z"
    }
   },
   "cell_type": "code",
   "source": [
    "talla_map = {'L':1, 'M':0}\n",
    "data['color'] = data.talla.map(talla_map)\n",
    "data.T"
   ],
   "id": "c5d16155e0253283",
   "execution_count": 4,
   "outputs": []
  },
  {
   "metadata": {
    "ExecuteTime": {
     "end_time": "2024-10-16T14:53:29.185525Z",
     "start_time": "2024-10-16T14:53:29.091863Z"
    }
   },
   "cell_type": "code",
   "source": [
    "new = pd.DataFrame([[160,63,None,None]])\n",
    "new.columns = data.columns\n",
    "new1 = pd.DataFrame([[164,62,None,None]])\n",
    "new1.columns = data.columns\n",
    "plt.scatter(data.altura, data.peso, c=data.color)\n",
    "plt.scatter(new.altura, new.peso, c='r')\n",
    "new"
   ],
   "id": "3d93856e8e20ff7e",
   "execution_count": 9,
   "outputs": []
  },
  {
   "metadata": {
    "ExecuteTime": {
     "end_time": "2024-10-16T15:02:00.838498Z",
     "start_time": "2024-10-16T15:02:00.823048Z"
    }
   },
   "cell_type": "code",
   "source": [
    "def get_closest_point(data, point, k=5):\n",
    "    data_i = data.iloc[:, 0:2].values\n",
    "    point_i = point.iloc[:, 0:2].values\n",
    "    talla = data.talla.values\n",
    "    dist = [[i, np.linalg.norm(data_i[i] - point_i), talla[i]] for i in range(len(data))]\n",
    "    dist = pd.DataFrame(dist)\n",
    "    dist.columns = ['index', 'distance', 'talla']\n",
    "    return dist.sort_values('distance').head(k)"
   ],
   "id": "b093163a251346ef",
   "execution_count": 10,
   "outputs": []
  },
  {
   "metadata": {
    "ExecuteTime": {
     "end_time": "2024-10-16T15:02:10.944264Z",
     "start_time": "2024-10-16T15:02:10.918540Z"
    }
   },
   "cell_type": "code",
   "source": [
    "c = get_closest_point(data, new)\n",
    "c"
   ],
   "id": "b7909e5c03fb49b6",
   "execution_count": 13,
   "outputs": []
  },
  {
   "metadata": {
    "ExecuteTime": {
     "end_time": "2024-10-16T15:19:15.518631Z",
     "start_time": "2024-10-16T15:19:15.513141Z"
    }
   },
   "cell_type": "code",
   "source": [
    "def show_closest_points(data, point, cercano, color='c'):\n",
    "    plt.scatter(data.altura, data.peso, c=data.color)\n",
    "    plt.scatter(point.altura, point.peso, c=color)\n",
    "    for c in cercano.values:\n",
    "        p = data.loc[c[0], :]\n",
    "        plt.plot([point.altura.values[0], p.altura], [point.peso.values[0], p.peso])\n",
    "    plt.show()\n"
   ],
   "id": "b1f5cf798f204a26",
   "execution_count": 43,
   "outputs": []
  },
  {
   "metadata": {
    "ExecuteTime": {
     "end_time": "2024-10-16T15:19:15.941033Z",
     "start_time": "2024-10-16T15:19:15.865131Z"
    }
   },
   "cell_type": "code",
   "source": [
    "c = get_closest_point(data, new)\n",
    "c\n",
    "show_closest_points(data, new, c, 'r')"
   ],
   "id": "8325ee8ebf566573",
   "execution_count": 44,
   "outputs": []
  },
  {
   "metadata": {
    "ExecuteTime": {
     "end_time": "2024-10-16T15:16:03.910523Z",
     "start_time": "2024-10-16T15:16:03.875322Z"
    }
   },
   "cell_type": "code",
   "source": [
    "c = get_closest_point(data, new)\n",
    "c"
   ],
   "id": "625e24e57b8b540b",
   "execution_count": 28,
   "outputs": []
  },
  {
   "metadata": {},
   "cell_type": "markdown",
   "source": "# Recomendados de animes",
   "id": "276108f4a4b9b7cb"
  },
  {
   "metadata": {},
   "cell_type": "code",
   "execution_count": null,
   "source": [
    "import numpy as np\n",
    "import pandas as pd\n",
    "import matplotlib.pyplot as plt"
   ],
   "id": "93024ce94d9e68f6",
   "outputs": []
  },
  {
   "metadata": {
    "ExecuteTime": {
     "end_time": "2024-10-16T15:28:22.649040Z",
     "start_time": "2024-10-16T15:28:21.774888Z"
    }
   },
   "cell_type": "code",
   "source": [
    "anime = pd.read_csv('https://bit.ly/3Ye5Scj')\n",
    "anime.head(2)"
   ],
   "id": "5640c9531cccfc67",
   "execution_count": 45,
   "outputs": []
  },
  {
   "metadata": {
    "ExecuteTime": {
     "end_time": "2024-10-16T15:29:52.395941Z",
     "start_time": "2024-10-16T15:29:52.366048Z"
    }
   },
   "cell_type": "code",
   "source": "anime.shape, anime.isnull().isnull().sum()",
   "id": "eda79e5e44fb062f",
   "execution_count": 46,
   "outputs": []
  },
  {
   "metadata": {},
   "cell_type": "markdown",
   "source": [
    "### Data presprocessing\n",
    "Eliminar simbolos raros y transformar a minúsculas"
   ],
   "id": "204e9d26f1946bc9"
  },
  {
   "metadata": {
    "ExecuteTime": {
     "end_time": "2024-10-16T15:34:05.262533Z",
     "start_time": "2024-10-16T15:34:05.174866Z"
    }
   },
   "cell_type": "code",
   "source": [
    "import re\n",
    "anime.name = anime.name.map(lambda name:re.sub('[^A-Za-z0-9]+', \" \", name))\n",
    "anime.head(2)"
   ],
   "id": "22a0656b136137e9",
   "execution_count": 47,
   "outputs": []
  },
  {
   "metadata": {
    "ExecuteTime": {
     "end_time": "2024-10-16T15:40:09.261114Z",
     "start_time": "2024-10-16T15:40:09.214730Z"
    }
   },
   "cell_type": "code",
   "source": [
    "known_animes = {\"Naruto Shippuuden\":500, \"One Piece\":784,\"Detective Conan\":854, \"Dragon Ball Super\":86,\n",
    "                \"Crayon Shin chan\":942, \"Yu Gi Oh Arc V\":148,\"Shingeki no Kyojin Season 2\":25,\n",
    "                \"Boku no Hero Academia 2nd Season\":25,\"Little Witch Academia TV\":25}\n",
    "for k,v in known_animes.items():\n",
    "    anime.loc[anime.name==k, 'episodes'] = v"
   ],
   "id": "c758e6f387552772",
   "execution_count": 49,
   "outputs": []
  },
  {
   "metadata": {
    "ExecuteTime": {
     "end_time": "2024-10-16T15:40:09.545989Z",
     "start_time": "2024-10-16T15:40:09.534610Z"
    }
   },
   "cell_type": "code",
   "source": [
    "anime.loc[(anime.type =='OVA')&(anime.episodes== 'Unknown'), 'episodes'] = 1\n",
    "anime.loc[(anime.type =='Movies')&(anime.episodes=='Unknown'), 'episodes'] = 1\n",
    "anime.loc[(anime.genre =='Hentai')&(anime.episodes=='Unknown'), 'episodes'] = 1"
   ],
   "id": "76549d39136331d1",
   "execution_count": 50,
   "outputs": []
  },
  {
   "metadata": {
    "ExecuteTime": {
     "end_time": "2024-10-16T15:44:20.120111Z",
     "start_time": "2024-10-16T15:44:20.040086Z"
    }
   },
   "cell_type": "code",
   "source": [
    "anime.episodes = anime.episodes.map(lambda x: np.nan if x == 'Unknown' else x)\n",
    "anime.episodes.fillna(anime.episodes.median(), inplace=True)"
   ],
   "id": "63a4f11e637b9799",
   "execution_count": 52,
   "outputs": []
  },
  {
   "metadata": {
    "ExecuteTime": {
     "end_time": "2024-10-16T15:45:46.781394Z",
     "start_time": "2024-10-16T15:45:46.766931Z"
    }
   },
   "cell_type": "code",
   "source": [
    "anime.members = anime.members.astype(float)\n",
    "anime.rating = anime.rating.astype(float)\n",
    "anime.rating.fillna(anime.rating.median(), inplace=True)"
   ],
   "id": "93bda1588860c537",
   "execution_count": 53,
   "outputs": []
  },
  {
   "metadata": {
    "ExecuteTime": {
     "end_time": "2024-10-16T15:49:52.795947Z",
     "start_time": "2024-10-16T15:49:47.478934Z"
    }
   },
   "cell_type": "code",
   "source": [
    "anime_features = pd.concat([anime.genre.str.get_dummies(sep = ' , '),\n",
    "                           pd.get_dummies(anime.type), # Separa por columnas \n",
    "                           anime.rating, anime.members, anime.episodes],axis=1)\n",
    "anime_features.head(2)"
   ],
   "id": "5d91e8d3c9faeefd",
   "execution_count": 55,
   "outputs": []
  },
  {
   "metadata": {
    "ExecuteTime": {
     "end_time": "2024-10-16T15:49:58.093109Z",
     "start_time": "2024-10-16T15:49:58.080092Z"
    }
   },
   "cell_type": "code",
   "source": "anime_features.columns",
   "id": "2702fe123fe2ae53",
   "execution_count": 56,
   "outputs": []
  },
  {
   "metadata": {
    "ExecuteTime": {
     "end_time": "2024-10-16T15:52:23.494107Z",
     "start_time": "2024-10-16T15:52:23.494060Z"
    }
   },
   "cell_type": "code",
   "source": [
    "from sklearn.preprocessing import MinMaxScaler\n",
    "mms = MinMaxScaler()\n",
    "anime_features_norm = mms.fit_transform(anime_features)"
   ],
   "id": "c4bf0acef49d958c",
   "execution_count": null,
   "outputs": []
  },
  {
   "metadata": {
    "ExecuteTime": {
     "end_time": "2024-10-16T15:52:49.437296Z",
     "start_time": "2024-10-16T15:52:48.235484Z"
    }
   },
   "cell_type": "code",
   "source": [
    "from sklearn.neighbors import NearestNeighbors\n",
    "nbrs = NearestNeighbors(n_neighbors=6, algorithm='ball_tree')\n",
    "nbrs.fit(anime_features)"
   ],
   "id": "7fa807d3f312cbe8",
   "execution_count": 59,
   "outputs": []
  },
  {
   "metadata": {
    "ExecuteTime": {
     "end_time": "2024-10-16T15:53:50.785776Z",
     "start_time": "2024-10-16T15:53:41.033033Z"
    }
   },
   "cell_type": "code",
   "source": "distances, indices = nbrs.kneighbors(anime_features)",
   "id": "a61c322cabc99b4e",
   "execution_count": 61,
   "outputs": []
  },
  {
   "metadata": {},
   "cell_type": "code",
   "execution_count": null,
   "source": "",
   "id": "2fa739a5926fe5e4",
   "outputs": []
  }
 ],
 "metadata": {
  "kernelspec": {
   "display_name": "Python 3",
   "language": "python",
   "name": "python3"
  },
  "language_info": {
   "codemirror_mode": {
    "name": "ipython",
    "version": 2
   },
   "file_extension": ".py",
   "mimetype": "text/x-python",
   "name": "python",
   "nbconvert_exporter": "python",
   "pygments_lexer": "ipython2",
   "version": "2.7.6"
  }
 },
 "nbformat": 4,
 "nbformat_minor": 5
}
