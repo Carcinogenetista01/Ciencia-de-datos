{
 "cells": [
  {
   "cell_type": "markdown",
   "metadata": {},
   "source": [
    "### K-medias"
   ]
  },
  {
   "cell_type": "code",
   "execution_count": 1,
   "metadata": {},
   "source": [
    "import numpy as np\n",
    "from matplotlib import pyplot as plt\n",
    "plt.rcParams['figure.figsize'] = (8,4)\n",
    "plt.style.use('ggplot')"
   ],
   "outputs": []
  },
  {
   "cell_type": "code",
   "execution_count": 2,
   "metadata": {},
   "source": [
    "data = np.array([[8,10],[3,10.5],[7,13.5],[5,18],[5,13],[6,9],[9,11],[3,18],[8.5,12],[8,16]])\n",
    "C = np.array([[8,10],[3,10.5]])"
   ],
   "outputs": []
  },
  {
   "cell_type": "code",
   "execution_count": 3,
   "metadata": {},
   "source": [
    "np.sqrt((C[0,0] - C[1,0])**2 + (C[0,1] - C[1,1])**2)"
   ],
   "outputs": []
  },
  {
   "cell_type": "code",
   "execution_count": 4,
   "metadata": {},
   "source": [
    "np.linalg.norm(C[0] - C[1])"
   ],
   "outputs": []
  },
  {
   "cell_type": "code",
   "execution_count": 5,
   "metadata": {},
   "source": [
    "# Gráfica\n",
    "plt.scatter(C[:,0], C[:,1], marker = '*', s = 200, c = 'k')\n",
    "plt.scatter(data[:,0], data[:,1])"
   ],
   "outputs": []
  },
  {
   "cell_type": "code",
   "execution_count": 6,
   "metadata": {},
   "source": [
    "distances = []\n",
    "clusters = []\n",
    "\n",
    "def dist(a, b, ax=1):\n",
    "    return np.linalg.norm(a - b, axis=ax)\n",
    "\n",
    "# Grupos\n",
    "for i in range(len(data)):\n",
    "    distance = dist(data[i], C) # Distancia del punto actual a las k-medias\n",
    "    distances.append(distance)\n",
    "    cluster = np.argmin(distance) # Grupo al que pertenece\n",
    "    clusters.append(cluster)\n",
    "\n",
    "print(clusters, '\\n', np.array(distances))"
   ],
   "outputs": []
  },
  {
   "cell_type": "code",
   "execution_count": 7,
   "metadata": {},
   "source": [
    "# Recalcular centroides\n",
    "for i in range(len(C)):\n",
    "    points = np.array([data[j] for j in range(len(data)) if clusters[j] == i])\n",
    "    # print(points )\n",
    "    C[i] = np.mean(points, axis=0)\n",
    "\n",
    "C"
   ],
   "outputs": []
  },
  {
   "cell_type": "code",
   "execution_count": 8,
   "metadata": {},
   "source": [
    "# Gráfica\n",
    "plt.scatter(C[:,0], C[:,1], marker = '*', s = 200, c = 'k')\n",
    "plt.scatter(data[:,0], data[:,1])"
   ],
   "outputs": []
  },
  {
   "cell_type": "markdown",
   "metadata": {},
   "source": [
    "### Sklearn"
   ]
  },
  {
   "cell_type": "markdown",
   "metadata": {},
   "source": [
    "### Exploratory data analysis"
   ]
  },
  {
   "cell_type": "code",
   "execution_count": 9,
   "metadata": {},
   "source": [
    "import pandas as pd"
   ],
   "outputs": []
  },
  {
   "cell_type": "code",
   "execution_count": 10,
   "metadata": {},
   "source": [
    "plt.rcParams['figure.figsize'] = (14,8)\n",
    "plt.style.use('ggplot')"
   ],
   "outputs": []
  },
  {
   "cell_type": "code",
   "execution_count": 11,
   "metadata": {},
   "source": [
    "url = 'https://raw.githubusercontent.com/vincentarelbundock/Rdatasets/refs/heads/master/csv/cluster/xclara.csv'\n",
    "data = pd.read_csv(url)\n",
    "print(data.shape)\n",
    "data.head()"
   ],
   "outputs": []
  },
  {
   "cell_type": "code",
   "execution_count": 12,
   "metadata": {},
   "source": [
    "v1, v2 = data['V1'].values, data.V2.values\n",
    "plt.scatter(v1, v2, c='k', s=7)\n",
    "plt.show()"
   ],
   "outputs": []
  },
  {
   "cell_type": "code",
   "execution_count": 13,
   "metadata": {},
   "source": [
    "from sklearn.cluster import KMeans\n",
    "X = np.array(list(zip(v1, v2)))\n",
    "km = KMeans(n_clusters=3, n_init='auto')\n",
    "km.fit(X)\n",
    "y_hat = km.predict(X)\n",
    "C = km.cluster_centers_"
   ],
   "outputs": []
  },
  {
   "cell_type": "code",
   "execution_count": 14,
   "metadata": {},
   "source": [
    "plt.scatter(X[:,0], X[:,1], c=y_hat, s=7)\n",
    "plt.scatter(C[:,0], C[:,1], marker='*', s=200, c='k')\n",
    "plt.show()"
   ],
   "outputs": []
  },
  {
   "cell_type": "markdown",
   "metadata": {},
   "source": [
    "#### Determinar número de clusters con gráfica del codo (alternativa a la gráfica de dispersión)\n"
   ]
  },
  {
   "cell_type": "code",
   "execution_count": 15,
   "metadata": {},
   "source": [
    "import seaborn as sns\n",
    "sns.set_theme()"
   ],
   "outputs": []
  },
  {
   "cell_type": "code",
   "execution_count": 16,
   "metadata": {},
   "source": [
    "from sklearn.datasets import make_blobs\n",
    "X, _ = make_blobs(n_samples=1000, n_features = 12, centers=8, random_state=42)\n",
    "# Buscar número 'optimo' de clusters\n",
    "wcss = [] # within cluster sum of squares\n",
    "for i in range(4, 12):\n",
    "    km = KMeans(n_clusters=i, init='k-means++', n_init='auto', random_state=0)\n",
    "    km.fit(X)\n",
    "    wcss.append(km.inertia_)\n",
    "# Gráfica\n",
    "plt.plot(range(4,12), wcss)\n",
    "plt.title('Gráfica de codo')\n",
    "plt.xlabel('Número de clusters')\n",
    "plt.ylabel('WCSS')\n",
    "plt.show()"
   ],
   "outputs": []
  },
  {
   "cell_type": "code",
   "execution_count": 17,
   "metadata": {},
   "source": [
    "### Bootcamp\n",
    "from yellowbrick.cluster import KElbowVisualizer\n",
    "X, _ = make_blobs(n_samples=1000, n_features=12, centers=8, random_state=42)\n",
    "# Gráfica\n",
    "vis = KElbowVisualizer(KMeans(n_init='auto', random_state=0), k=(4,12), timings=False)\n",
    "vis.fit(X)\n",
    "plt.xlabel('Número de clusters')\n",
    "plt.ylabel('Distorsión')\n",
    "plt.show()"
   ],
   "outputs": []
  },
  {
   "cell_type": "code",
   "execution_count": 18,
   "metadata": {},
   "source": [
    "# 3D\n",
    "X, y = make_blobs(n_samples=800, n_features=3, centers=4)"
   ],
   "outputs": []
  },
  {
   "cell_type": "code",
   "execution_count": 19,
   "metadata": {},
   "source": [
    "km = KMeans(n_clusters=4, n_init='auto')\n",
    "km = km.fit(X)\n",
    "y_hat = km.predict(X)\n",
    "C = km.cluster_centers_\n",
    "C"
   ],
   "outputs": []
  },
  {
   "cell_type": "code",
   "execution_count": 20,
   "metadata": {},
   "source": [
    "\n",
    "fig = plt.figure()\n",
    "ax = fig.add_subplot(111, projection='3d')\n",
    "ax.scatter(X[:,0], X[:,1], X[:,2], alpha=0.1)\n",
    "ax.scatter(C[:,0], C[:,1], C[:,2], marker='*', s=100, c='k')\n",
    "plt.show()"
   ],
   "outputs": []
  },
  {
   "cell_type": "markdown",
   "metadata": {},
   "source": [
    "### K-modas"
   ]
  },
  {
   "cell_type": "code",
   "execution_count": 21,
   "metadata": {},
   "source": [
    "# Datos\n",
    "data = np.array([['x', 'y', 'z'],\n",
    "                 ['y', 'z', 'x'],\n",
    "                 ['z', 'x', 'x'],\n",
    "                 ['y', 'z', 'z'],\n",
    "                 ['x', 'z', 'y'],\n",
    "                 ['z', 'y', 'x'],\n",
    "                 ['x', 'x', 'y'],\n",
    "                 ['z', 'y', 'x']])\n",
    "\n",
    "# Modas iniciales\n",
    "modes = np.array([['x', 'y', 'z'],\n",
    "                  ['z', 'y', 'x']])\n",
    "data.shape"
   ],
   "outputs": []
  },
  {
   "cell_type": "code",
   "execution_count": 22,
   "metadata": {},
   "source": [
    "# Asignar clusters\n",
    "clusters = np.zeros(data.shape[0])\n",
    "distances = []\n",
    "for i, object in enumerate(data):\n",
    "    dist = [sum(object != mode) for mode in modes]\n",
    "    distances.append(dist)\n",
    "    clusters[i] = np.argmin(dist)\n",
    "print(clusters)\n",
    "distances"
   ],
   "outputs": []
  },
  {
   "cell_type": "code",
   "execution_count": 23,
   "metadata": {},
   "source": [
    "# Actualizar modas\n",
    "for i in range(len(modes)):\n",
    "    points = np.array([data[j] for j in range(len(data)) if clusters[j] == i])\n",
    "    print(points)\n",
    "    for h in range(modes.shape[1]):\n",
    "        vals, counts = np.unique(points[:,h], return_counts=True)\n",
    "        modes[i,h] = vals[np.argmax(counts)]\n",
    "modes"
   ],
   "outputs": []
  },
  {
   "cell_type": "code",
   "execution_count": 24,
   "metadata": {},
   "source": [
    "from kmodes.kmodes import KModes"
   ],
   "outputs": []
  },
  {
   "cell_type": "code",
   "execution_count": 25,
   "metadata": {},
   "source": [
    "# Datos\n",
    "data = np.array([['x', 'y', 'z'],\n",
    "                 ['y', 'z', 'x'],\n",
    "                 ['z', 'x', 'x'],\n",
    "                 ['y', 'z', 'z'],\n",
    "                 ['x', 'z', 'y'],\n",
    "                 ['z', 'y', 'x'],\n",
    "                 ['x', 'x', 'y'],\n",
    "                 ['z', 'y', 'x']])"
   ],
   "outputs": []
  },
  {
   "cell_type": "code",
   "execution_count": 26,
   "metadata": {},
   "source": [
    "# Modelo con 2 grupos\n",
    "km = KModes(n_clusters=2, init='random', n_init=5, verbose=True)\n",
    "grupos = km.fit_predict(data)\n",
    "grupos, km.cluster_centroids_"
   ],
   "outputs": []
  },
  {
   "cell_type": "code",
   "execution_count": 27,
   "metadata": {},
   "source": [
    "# Otro ejemplo\n",
    "col_cabello = np.array(['rubio', 'castaño', 'pelirrojo', 'negro', 'castaño', 'negro', 'pelirrojo', 'rubio'])\n",
    "col_ojos = np.array(['azul', 'gris', 'verde', 'café', 'azul', 'gris', 'azul', 'café'])\n",
    "tipo_cabello = np.array(['lacio', 'chino', 'ondulado', 'ondulado', 'chino', 'chino', 'ondulado', 'lacio'])\n",
    "personas = ['P1','P2','P3','P4','P5','P6','P7','P8']\n",
    "data = pd.DataFrame({'person':personas, 'col_cabello':col_cabello, 'col_ojos':col_ojos, 'tipo_cabello':tipo_cabello})\n",
    "data = data.set_index('person')\n",
    "data"
   ],
   "outputs": []
  },
  {
   "cell_type": "code",
   "execution_count": 28,
   "metadata": {},
   "source": [
    "# Gráfica del codo\n",
    "cost = []\n",
    "k = range(1,6)\n",
    "for nc in k:\n",
    "    km = KModes(n_clusters=nc, init='random', n_init=5, verbose=False)\n",
    "    km.fit_predict(data)\n",
    "    cost.append(km.cost_)\n",
    "\n",
    "plt.plot(k, cost, 'b*-')\n",
    "plt.title('Gráfica de codo')\n",
    "plt.xlabel('# de grupos')\n",
    "plt.ylabel('Costo')\n",
    "plt.show()"
   ],
   "outputs": []
  },
  {
   "cell_type": "code",
   "execution_count": 29,
   "metadata": {},
   "source": [
    "# 3 grupos\n",
    "km = KModes(n_clusters=3, init='random', n_init=5, verbose=False)\n",
    "grupos = km.fit_predict(data)\n",
    "grupos, km.cluster_centroids_"
   ],
   "outputs": []
  },
  {
   "cell_type": "code",
   "execution_count": 30,
   "metadata": {},
   "source": [
    "data.insert(0, 'grupo', grupos)\n",
    "data"
   ],
   "outputs": []
  },
  {
   "cell_type": "markdown",
   "metadata": {},
   "source": [
    "### Agrupamiento aglomerativo"
   ]
  },
  {
   "cell_type": "code",
   "execution_count": 31,
   "metadata": {},
   "source": [
    "#pandas\n",
    "#numpy\n",
    "#matplotlib.pyplot\n",
    "url = 'https://bit.ly/2COHM14'\n",
    "data = pd.read_csv(url)\n",
    "data.head()"
   ],
   "outputs": []
  },
  {
   "cell_type": "code",
   "execution_count": 32,
   "metadata": {},
   "source": [
    "# Preprocesamiento (normalización) rango [0,1]\n",
    "from sklearn.preprocessing import normalize\n",
    "data_scaled = normalize(data)\n",
    "data_scaled = pd.DataFrame(data_scaled, columns=data.columns)\n",
    "data_scaled.head()"
   ],
   "outputs": []
  },
  {
   "cell_type": "code",
   "execution_count": 33,
   "metadata": {},
   "source": [
    "# Dendograma\n",
    "import scipy.cluster.hierarchy as shc\n",
    "plt.figure(figsize=(16,9))\n",
    "plt.title('Dendrograma')\n",
    "dend = shc.dendrogram(shc.linkage(data_scaled, method='ward')) # ward minimiza la varianza"
   ],
   "outputs": []
  },
  {
   "cell_type": "code",
   "execution_count": 34,
   "metadata": {},
   "source": [
    "# 2 grupos\n",
    "from sklearn.cluster import AgglomerativeClustering\n",
    "ac = AgglomerativeClustering(n_clusters=2, metric='euclidean', linkage='ward') # si usamos ward para el dendograma, debemos usarlo aquí\n",
    "y_hat = ac.fit_predict(data_scaled)\n",
    "y_hat"
   ],
   "outputs": []
  },
  {
   "cell_type": "code",
   "execution_count": 39,
   "metadata": {},
   "source": [
    "plt.figure(figsize=(10,7))\n",
    "plt.scatter(data_scaled.Milk, data_scaled.Grocery, c=y_hat, s=50, cmap='viridis')\n",
    "plt.show()"
   ],
   "outputs": []
  },
  {
   "cell_type": "code",
   "execution_count": 40,
   "metadata": {},
   "source": [
    "plt.figure(figsize=(10,7))\n",
    "plt.scatter(data_scaled.Fresh, data_scaled.Frozen, c=y_hat, s=50, cmap='viridis')\n",
    "plt.show()"
   ],
   "outputs": []
  },
  {
   "cell_type": "markdown",
   "metadata": {},
   "source": [
    "#### Otro ejemplo"
   ]
  },
  {
   "cell_type": "code",
   "execution_count": 41,
   "metadata": {},
   "source": [
    "#matplotlib.pyplot\n",
    "#numpy\n",
    "#pandas\n",
    "\n",
    "# Datos\n",
    "dataset = pd.read_csv('https://bit.ly/3TUeh37')\n",
    "dataset.head()"
   ],
   "outputs": []
  },
  {
   "cell_type": "code",
   "execution_count": 44,
   "metadata": {},
   "source": [
    "# Columnas de interés\n",
    "X = dataset.iloc[:, [3,4]].values\n",
    "\n",
    "# Dendrograma\n",
    "# import scipy.cluster.hierarchy as sch\n",
    "plt.figure(figsize=(16,9))\n",
    "dend = shc.dendrogram(shc.linkage(X, method='ward'))\n",
    "plt.title('Dendrograma')\n",
    "plt.show()"
   ],
   "outputs": []
  },
  {
   "cell_type": "code",
   "execution_count": 46,
   "metadata": {},
   "source": [
    "# 3 grupos\n",
    "# from sklearn.cluster import AgglomerativeClustering\n",
    "ac = AgglomerativeClustering(n_clusters=3, metric='euclidean', linkage='ward')\n",
    "y_hat = ac.fit_predict(X)\n",
    "y_hat"
   ],
   "outputs": []
  },
  {
   "cell_type": "code",
   "execution_count": 48,
   "metadata": {},
   "source": [
    "# Visualización\n",
    "plt.figure(figsize=(10,7))\n",
    "plt.scatter(X[:,0], X[:,1], c=y_hat, s=50, cmap='viridis')"
   ],
   "outputs": []
  },
  {
   "cell_type": "code",
   "execution_count": 51,
   "metadata": {},
   "source": [
    "# 5 grupos\n",
    "ac = AgglomerativeClustering(n_clusters=5, metric='euclidean', linkage='ward')\n",
    "y_hc = ac.fit_predict(X)\n",
    "y_hc"
   ],
   "outputs": []
  },
  {
   "cell_type": "code",
   "execution_count": 52,
   "metadata": {},
   "source": [
    "# Visualización\n",
    "plt.figure(figsize=(10,7))\n",
    "plt.scatter(X[y_hc == 0, 0], X[y_hc == 0, 1], s = 100, c = 'red', label = 'Cluster 1')\n",
    "plt.scatter(X[y_hc == 1, 0], X[y_hc == 1, 1], s = 100, c = 'blue', label = 'Cluster 2')\n",
    "plt.scatter(X[y_hc == 2, 0], X[y_hc == 2, 1], s = 100, c = 'green', label = 'Cluster 3')\n",
    "plt.scatter(X[y_hc == 3, 0], X[y_hc == 3, 1], s = 100, c = 'cyan', label = 'Cluster 4')\n",
    "plt.scatter(X[y_hc == 4, 0], X[y_hc == 4, 1], s = 100, c = 'magenta', label = 'Cluster 5')\n",
    "plt.title('Grupos de clientes')\n",
    "plt.xlabel('Ingreso anual (k$)')\n",
    "plt.ylabel('Nivel de gastos (1-100)')\n",
    "plt.legend()\n",
    "plt.show()"
   ],
   "outputs": []
  },
  {
   "cell_type": "markdown",
   "metadata": {},
   "source": [
    "### Agrupamiento por modelos de mezclas Gaussianas"
   ]
  },
  {
   "cell_type": "code",
   "execution_count": null,
   "metadata": {},
   "source": [
    "#pandas\n",
    "#mapltolib.pyplot\n",
    "#numpy\n",
    "#seaborn\n",
    "sns.set_theme()"
   ],
   "outputs": []
  },
  {
   "cell_type": "code",
   "execution_count": 54,
   "metadata": {},
   "source": [
    "# Datos\n",
    "from sklearn.datasets import make_blobs\n",
    "X,y = make_blobs(n_samples=300, centers=4, random_state=0, cluster_std=0.6)\n",
    "plt.scatter(X[:,0], X[:,1], s=50)\n",
    "plt.show()"
   ],
   "outputs": []
  },
  {
   "cell_type": "code",
   "execution_count": 57,
   "metadata": {},
   "source": [
    "# Determinar numero de grupos\n",
    "from sklearn.mixture import GaussianMixture\n",
    "n_clusters = range(1,16)\n",
    "models = [GaussianMixture(n, covariance_type='full', random_state=0).fit(X) for n in n_clusters]\n",
    "plt.plot(n_clusters, [m.bic(X) for m in models], label='BIC') # Criterio Bayesiano\n",
    "plt.plot(n_clusters, [m.aic(X) for m in models], label='AIC') # Criterio de Información de Akaike\n",
    "plt.legend(loc='best')\n",
    "plt.show()"
   ],
   "outputs": []
  },
  {
   "cell_type": "code",
   "execution_count": 58,
   "metadata": {},
   "source": [
    "gmm = GaussianMixture(n_components=4)\n",
    "gmm.fit(X)\n",
    "y_hat = gmm.predict(X)\n",
    "y_hat"
   ],
   "outputs": []
  },
  {
   "cell_type": "code",
   "execution_count": 60,
   "metadata": {},
   "source": [
    "plt.scatter(X[:,0], X[:,1], c=y_hat, s=50, cmap='rainbow')\n",
    "plt.show()"
   ],
   "outputs": []
  },
  {
   "metadata": {
    "ExecuteTime": {
     "end_time": "2024-10-21T02:52:48.102083Z",
     "start_time": "2024-10-21T02:52:42.788242Z"
    }
   },
   "cell_type": "code",
   "source": [
    "# Importar las bibliotecas necesarias\n",
    "import pandas as pd\n",
    "import numpy as np\n",
    "import matplotlib.pyplot as plt\n",
    "from sklearn.preprocessing import normalize\n",
    "from sklearn.cluster import AgglomerativeClustering\n",
    "import scipy.cluster.hierarchy as shc\n",
    "\n",
    "# Cargar y preprocesar los datos\n",
    "url = 'https://bit.ly/2COHM14'\n",
    "data = pd.read_csv(url)\n",
    "data_scaled = normalize(data)\n",
    "data_scaled = pd.DataFrame(data_scaled, columns=data.columns)\n",
    "\n",
    "# Función para crear dendrogramas\n",
    "def plot_dendrogram(data, linkage_method):\n",
    "    plt.figure(figsize=(16,9))\n",
    "    plt.title(f'Dendrograma ({linkage_method})')\n",
    "    dend = shc.dendrogram(shc.linkage(data, method=linkage_method))\n",
    "    plt.show()\n",
    "\n",
    "# Función para realizar clustering y visualizar resultados\n",
    "def perform_clustering(data, n_clusters, metric, linkage):\n",
    "    ac = AgglomerativeClustering(n_clusters=n_clusters, metric=metric, linkage=linkage)\n",
    "    y_hat = ac.fit_predict(data)\n",
    "    \n",
    "    plt.figure(figsize=(10,7))\n",
    "    plt.scatter(data.Milk, data.Grocery, c=y_hat, s=50, cmap='viridis')\n",
    "    plt.title(f'Clustering (metric: {metric}, linkage: {linkage})')\n",
    "    plt.show()\n",
    "\n",
    "# Distancia Euclidiana (original)\n",
    "plot_dendrogram(data_scaled, 'ward')\n",
    "perform_clustering(data_scaled, 2, 'euclidean', 'ward')\n",
    "\n",
    "# Distancia Manhattan\n",
    "plot_dendrogram(data_scaled, 'single')\n",
    "perform_clustering(data_scaled, 2, 'manhattan', 'single')\n",
    "\n",
    "# Distancia Coseno\n",
    "plot_dendrogram(data_scaled, 'complete')\n",
    "perform_clustering(data_scaled, 2, 'cosine', 'complete')\n",
    "\n",
    "# Enlazamiento promedio (average)\n",
    "plot_dendrogram(data_scaled, 'average')\n",
    "perform_clustering(data_scaled, 2, 'euclidean', 'average')"
   ],
   "execution_count": 1,
   "outputs": []
  },
  {
   "metadata": {},
   "cell_type": "code",
   "execution_count": null,
   "source": "",
   "outputs": []
  }
 ],
 "metadata": {
  "kernelspec": {
   "display_name": "Python 3",
   "language": "python",
   "name": "python3"
  },
  "language_info": {
   "codemirror_mode": {
    "name": "ipython",
    "version": 3
   },
   "file_extension": ".py",
   "mimetype": "text/x-python",
   "name": "python",
   "nbconvert_exporter": "python",
   "pygments_lexer": "ipython3",
   "version": "3.12.6"
  }
 },
 "nbformat": 4,
 "nbformat_minor": 2
}
