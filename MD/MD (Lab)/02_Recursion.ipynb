{
 "cells": [
  {
   "cell_type": "code",
   "execution_count": 1,
   "metadata": {
    "id": "5UmBSVfljktb"
   },
   "source": [
    "import matplotlib.pyplot as plt\n",
    "import numpy as np"
   ],
   "outputs": []
  },
  {
   "cell_type": "markdown",
   "metadata": {
    "id": "En6YnlOwPnQX"
   },
   "source": [
    "En esta sesión veremos algunos ejemplos clásicos donde las recursiones juegan un papel muy importante."
   ]
  },
  {
   "cell_type": "markdown",
   "metadata": {
    "id": "_qJxBZctP9Up"
   },
   "source": [
    "# Sucesión de Fibonacci\n",
    "\n",
    "Es de las mas famosas dentro de las sucesiones definidas recursivamente. Los términos de la sucesión se definen por:\n",
    "\n",
    "\\begin{align}\n",
    "F_0 = 0,\\ F_1 = 1\\\\\n",
    "F_n = F_{n-1} + F_{n-2}, \\text{ para }n\\geq 2.\n",
    "\\end{align}\n",
    "\n",
    "Veamos algunos ejemplos relacionados con esta sucesión."
   ]
  },
  {
   "cell_type": "markdown",
   "metadata": {
    "id": "WY8y3GZbSM8O"
   },
   "source": [
    "## Ejemplo 1\n",
    "\n",
    "**Muestra que cualesquiera dos números consecutivos en la sucesión de Fibonacci son primos relativos.**\n",
    "\n",
    "---\n",
    "\n",
    "Probaremos por inducción que para todo entero positivo $n$, se cumple:\n",
    "\n",
    "$$(F_n, F_{n-1}) = 1$$\n",
    "\n",
    "donde $(x,y)$ es el máximo común divisor de $x$ y $y$.\n",
    "\n",
    "**Demostración:**\n",
    "\n",
    "* Caso base: Claramente:\n",
    "\n",
    "$$(0, 1) = 1$$\n",
    "\n",
    "* Hipótesis de inducción:\n",
    "\n",
    "$$(F_k, F_{k-1}) = 1$$\n",
    "\n",
    "* Paso inductivo: Usando que $(a,b) = (a-b, b)$ Notemos que\n",
    "\n",
    "\\begin{align*}\n",
    "(F_{k+1}, F_k) &= (F_{k+1} - F_k, F_k) \\\\\n",
    "&= (F_{k-1}, F_k) \\\\\n",
    "&= 1\n",
    "\\end{align*}\n",
    "Lo último por nuestra hipótesis de inducción.\n",
    "\n",
    "Concluimos que en efecto, $(F_n, F_{n-1}) = 1$ para todo entero positivo $n$."
   ]
  },
  {
   "cell_type": "markdown",
   "metadata": {
    "id": "aG-CxMW8YQcX"
   },
   "source": [
    "## Ejemplo 2\n",
    "\n",
    "**Encuentra el residuo de $F_{100005}$ al ser dividido entre $23$.**\n",
    "\n",
    "---\n",
    "\n",
    "Primero, recordemos la definición de los números de Fibonacci:\n",
    "\n",
    "$$\n",
    "F_{k+1} = F_k + F_{k-1}\n",
    "$$\n",
    "\n",
    "Aplicando la función de módulo $a$ de ambos lados:\n",
    "\n",
    "$$\n",
    "F_{k+1}\\ \\text{mod}\\ a = (F_k + F_{k-1})\\ \\text{mod}\\ a\n",
    "$$\n",
    "\n",
    "Por las propiedades del módulo, el lado derecho es equivalente a:\n",
    "\n",
    "$$\n",
    "(F_k\\ \\text{mod}\\ a + F_{k-1}\\ \\text{mod}\\ a)\\ \\text{mod}\\ a\n",
    "$$\n",
    "\n",
    "Es decir:\n",
    "\n",
    "$$\n",
    "F_{k+1}\\ \\text{mod}\\ a = (F_k\\ \\text{mod}\\ a + F_{k-1}\\ \\text{mod}\\ a)\\ \\text{mod}\\ a\n",
    "$$\n",
    "\n",
    "En otras palabras, esta ecuación nos da una manera de escribir el residuo de $F_{k+1}$ al ser dividido por $a$ como función de los residuos de $F_k$ y $F_{k-1}$.\n",
    "\n",
    "La ecuación tal vez se vea más clara si definimos $\\tilde{F}_k \\equiv F_k\\ \\text{mod}\\ a$:\n",
    "\n",
    "$$\n",
    "\\tilde{F}_{k+1} = (\\tilde{F}_{k} + \\tilde{F}_{k-1})\\ \\text{mod}\\ a\n",
    "$$\n",
    "\n",
    "Esto nos dice que, al igual que la sucesión de Fibonacci original, cada término de la sucesión de los residuos depende únicamente de los dos anteriores. Por lo tanto, podemos escribir su definición recursiva:\n",
    "\n",
    "\\begin{align}\n",
    "    \\tilde{F}_0 = 0,\\ \\tilde{F}_1 = 1\\\\\n",
    "    \\tilde{F}_n = (\\tilde{F}_{n-1} + \\tilde{F}_{n-2})\\ \\text{mod}\\ a\n",
    "\\end{align}\n",
    "\n",
    "---\n",
    "\n",
    "Ahora, por las propiedades del módulo, $F_k\\ \\text{mod}\\ a$ sólo puede tener $a$ valores distintos. Entonces, sólo puede haber $a^2$ parejas distintas de la forma $(\\tilde{F}_{k-1}, \\tilde{F}_{k-2})$.\n",
    "\n",
    "Finalmente, como la serie de residuos tiene un número infinito de términos, pero solo hay un número finito de parejas posible ($a^2$), por el principio de las casillas concluimos que eventualmente las parejas se van a repetir. Pero como cada término de la serie está definido por los dos anteriores, esto nos dice que, eventualmente, los términos se van a empezar a repetir. Es más, se repetirán en el mismo orden que aparecieron la primera vez; en otras palabras, la sucesión es **cíclica**.\n",
    "\n",
    "Es muy importante notar que para que la serie se repita, no basta con que aparezca uno solo de los términos, tiene que aparecer la **pareja**;\n",
    "\n",
    "---\n",
    "\n",
    "Regresando al problema que queríamos resolver, el hecho de que determinamos que las serie es cíclica nos será de utilidad. Para ver por qué, consideremos la serie módulo 11, que tiene un período pequeño:\n",
    "\n",
    "$$\n",
    "0, 1, 1, 2, 3, 5, 8, 2, 10, 1,\\ |\\ 0, 1, 1, 2, 3, 5, 8, 2, 10, 1,\\ |\\ 0, 1, 2, \\ldots\n",
    "$$\n",
    "\n",
    "Podemos ver que se empieza a repetir después de 10 términos.\n",
    "\n",
    "Ahora, supongamos que queremos encontrar el residuo del término en el lugar 22 al ser dividido por 11. Como los términos se repiten de diez en diez, esto es equivalente a pedir el residuo del término:\n",
    "\n",
    "$$\n",
    "22 - 10 = 12\n",
    "$$\n",
    "\n",
    "Lo cual a su vez equivale al residuo del término:\n",
    "\n",
    "$$\n",
    "12 - 10 = 2\n",
    "$$\n",
    "\n",
    "Es decir, queremos el residuo número 2 de la serie anterior, que es 1.\n",
    "\n",
    "En general, si queremos el residuo del $k$-ésimo término al ser dividido por 11, esto es equivalente al residuo del término:\n",
    "\n",
    "$$\n",
    "k\\ \\text{mod}\\ 10\n",
    "$$\n",
    "\n",
    "O, aún más generalmente, si sabemos que el período de la serie módulo $a$ es $p$, el residuo del $k$-ésimo término al ser dividido por $a$ será:\n",
    "\n",
    "$$\n",
    "k\\ \\text{mod}\\ p\n",
    "$$\n",
    "\n",
    "Entonces, para resolver nuestro problema, basta con encontrar el período de la serie módulo 23, lo cual hacemos a continuación:"
   ]
  },
  {
   "cell_type": "code",
   "execution_count": 2,
   "metadata": {
    "colab": {
     "base_uri": "https://localhost:8080/"
    },
    "id": "h5tV6HIVcHhi",
    "outputId": "a1e4ae94-5494-4c1f-aa4d-6022af0cfdb9"
   },
   "source": [
    "remainders = [0, 1]\n",
    "current_pair = (0, 1)\n",
    "\n",
    "while True:\n",
    "    current_pair = (current_pair[1], (current_pair[0] + current_pair[1]) % 23)\n",
    "    if current_pair == (0, 1):\n",
    "        break\n",
    "    remainders.append(current_pair[1])\n",
    "\n",
    "len(remainders) - 1 # Descontamos el último término, ya que se repite\n",
    "print(remainders)"
   ],
   "outputs": []
  },
  {
   "cell_type": "markdown",
   "metadata": {
    "id": "xj1FQMSrW9_4"
   },
   "source": [
    "Entonces, el residuo 100,005 es idéntico al residuo:\n",
    "\n",
    "$$\n",
    "100\\, 005\\ \\text{mod}\\ 48 = 21\n",
    "$$"
   ]
  },
  {
   "cell_type": "markdown",
   "metadata": {
    "id": "KNHAVLDCkkWf"
   },
   "source": [
    "En la lista `remainders` anterior, fuimos guardando todos los residuos; entonces, accesando el número 21:"
   ]
  },
  {
   "cell_type": "code",
   "execution_count": 3,
   "metadata": {
    "colab": {
     "base_uri": "https://localhost:8080/"
    },
    "id": "VSPDE_6bW9_5",
    "outputId": "04af40b7-f972-42a9-d0e5-f9720af0e73c"
   },
   "source": [
    "remainders[21]"
   ],
   "outputs": []
  },
  {
   "cell_type": "markdown",
   "metadata": {
    "id": "IGdpdq8hW9_5"
   },
   "source": [
    "# Celdas coloreadas\n",
    "\n",
    "Supongamos que tenemos una cuadrícula de $m\\times n$. Cada celda de esta cuadrícula puede estar coloreada o no; el problema que queremos resolver es, dada la coordenada de una celda $(i, j)$, determinar el número de celdas que tiene la *masa* a la que pertenece.\n",
    "\n",
    "Definimos la *masa* como el conjunto de todas las celdas coloreadas que son adyacentes en una de las cuatro direcciones cardinales; por ejemplo, para la siguiente cuadrícula, donde `X` indica si una celda está coloreada o no:\n",
    "\n",
    "```\n",
    "| X |   |   | X | X |\n",
    "| X | X |   |   | X |\n",
    "|   | X |   | X |   |\n",
    "|   | X |   | X |   |\n",
    "|   | X |   | X |   |\n",
    "|   |   | X | X |   |\n",
    "```\n",
    "\n",
    "Hay 3 masas distintas; la de arriba a la izquierda, la de abajo al centro, y la de arriba a la derecha. Notemos que a pesar de que las masas colindan en las esquinas, como no son adyacentes cardinalmente, las consideramos como dsititnas.\n",
    "\n",
    "---\n",
    "\n",
    "Para resolver este problema, podemos utilizar recursión; la idea general del algoritmo es pararnos en la celda deseada, checar sus vecinos, los vecinos de sus vecinos, y así sucesivamente.\n",
    "\n",
    "Entonces, definimos una función `measure_blob(i, j)`, que regresa un entero igual al número de celdas en la masa que contiene a la celda con coordenadas $(i, j)$. El primer paso es definir sus casos base, de los cuales hay dos:\n",
    "\n",
    "1. Las coordenadas están fuera de la cuadrícula.\n",
    "2. La celda está vacía.\n",
    "\n",
    "En el caso del primero, dado que no puede haber una celda llena fuera de la cuadrícula, regresamos cero.\n",
    "\n",
    "En el caso del segundo, como la celda está vacía, no pertenece a ninguna masa, entonces también regresamos cero.\n",
    "\n",
    "Si ninguno de estos dos pasa, contamos la celda actual (ya que está llena), y corremos la función para cada uno de sus vecinos, añadiendo el resultado de cada uno al contador.\n",
    "\n",
    "Entonces, escribiendo esto en código:"
   ]
  },
  {
   "cell_type": "code",
   "execution_count": 4,
   "metadata": {
    "id": "O-SuNbP2W9_5"
   },
   "source": [
    "def measure_blob(grid, i, j):\n",
    "    m, n = grid.shape\n",
    "\n",
    "    if i < 0 or m < i:\n",
    "        return 0\n",
    "    if j < 0 or n < j:\n",
    "        return 0\n",
    "    if grid[i, j] == 0:\n",
    "        return 0\n",
    "\n",
    "    counter = 1\n",
    "\n",
    "    for offset in [(+1, 0), (-1, 0), (0, +1), (0, -1)]:\n",
    "        ii = i + offset[0]\n",
    "        jj = j + offset[1]\n",
    "        counter += measure_blob(grid, ii, jj)\n",
    "\n",
    "    return counter"
   ],
   "outputs": []
  },
  {
   "cell_type": "markdown",
   "metadata": {
    "id": "8IxDITtLW9_6"
   },
   "source": [
    "Adicionalmente, definimos la cuadrícula anterior como un arreglo de numpy; si la celda está coloreada tendrá un 1, de otra manera tendrá un 0:"
   ]
  },
  {
   "cell_type": "code",
   "execution_count": 5,
   "metadata": {
    "id": "OZlVSIyAW9_6"
   },
   "source": [
    "grid = np.array([\n",
    "    [1, 0, 0, 1, 1],\n",
    "    [1, 1, 0, 0, 1],\n",
    "    [0, 1, 0, 1, 0],\n",
    "    [0, 1, 0, 1, 0],\n",
    "    [0, 1, 0, 1, 0],\n",
    "    [0, 0, 1, 1, 0]\n",
    "])"
   ],
   "outputs": []
  },
  {
   "cell_type": "markdown",
   "metadata": {
    "id": "NMH9URoJW9_6"
   },
   "source": [
    "Graficando:"
   ]
  },
  {
   "cell_type": "code",
   "execution_count": 6,
   "metadata": {
    "colab": {
     "base_uri": "https://localhost:8080/",
     "height": 468
    },
    "id": "g-RxYRpAW9_7",
    "outputId": "e1e9a964-dcfa-4620-c1ec-72f3cf89c332"
   },
   "source": [
    "plt.imshow(grid)"
   ],
   "outputs": []
  },
  {
   "cell_type": "code",
   "execution_count": 7,
   "metadata": {
    "colab": {
     "base_uri": "https://localhost:8080/",
     "height": 342
    },
    "id": "61LhhFhRuMke",
    "outputId": "6e125ecd-5ab1-4965-c899-a8d8d4d2db44"
   },
   "source": [
    "measure_blob(grid, 0, 0)"
   ],
   "outputs": []
  },
  {
   "cell_type": "markdown",
   "metadata": {
    "id": "EITeR6fTW9_7"
   },
   "source": [
    "Si ejecutamos la función que definimos con esta cuadrícula y algún par arbitrario de coordenadas, podremos ver que nunca acaba.\n",
    "\n",
    "Para entender por qué ocurre esto, imaginemos que llamamos la función en la celda $(0, 0)$. Dado que la celda está dentro de las fronteras y no está vacía, hará la llamada recursiva hacia sus cuatro vecinos, incluyendo la celda $(1, 0)$. Asimismo, esta celda llamará recursivamente la función sobre la celda $(0, 0)$, la cual llamará la función sobre la celda $(1, 0)$ y así sucesivamente hasta el infinito.\n",
    "\n",
    "Entonces, queremos encontrar una manera de garantizar que, una vez que una celda haya sido visitada, no vuelva a serlo. Podemos hacer esto con un arreglo adicional al que llamaremos `visited`, de la misma forma que la cuadrícula. Al principio, todos sus valores serán `False`; cuando visitemos la celda con coordenadas $(i, j)$, cambiaremos la correspondiente entrada a `True`. Antes de hacer las llamadas recursivas, verificaremos que la entrada de la celda que queremos visitar sea `False`; de otra manera, la saltamos.\n",
    "\n",
    "Entonces, con estas modificaciones, la función queda:"
   ]
  },
  {
   "cell_type": "code",
   "execution_count": 8,
   "metadata": {
    "colab": {
     "base_uri": "https://localhost:8080/"
    },
    "id": "-u8AQea2W9_7",
    "outputId": "59f29658-2392-47a1-c46a-bd1864e87d3d"
   },
   "source": [
    "np.zeros((6, 5), dtype=bool)"
   ],
   "outputs": []
  },
  {
   "cell_type": "code",
   "execution_count": 9,
   "metadata": {
    "id": "x5wqRPgeW9_8"
   },
   "source": [
    "def measure_blob_2(grid, i, j, visited=None):\n",
    "    m, n = grid.shape\n",
    "\n",
    "    if visited is None:\n",
    "        visited = np.zeros((m, n), dtype=bool)\n",
    "\n",
    "    if i < 0 or m < i:\n",
    "        return 0\n",
    "    if j < 0 or n < j:\n",
    "        return 0\n",
    "    if grid[i, j] == 0:\n",
    "        return 0\n",
    "\n",
    "    counter = 1\n",
    "    visited[i, j] = True\n",
    "\n",
    "    for offset in [(+1, 0), (-1, 0), (0, +1), (0, -1)]:\n",
    "        ii = i + offset[0]\n",
    "        jj = j + offset[1]\n",
    "\n",
    "        if 0 <= ii < m and 0 <= jj < n:\n",
    "            if not visited[ii, jj]:\n",
    "                counter += measure_blob_2(grid, ii, jj, visited=visited)\n",
    "\n",
    "    return counter"
   ],
   "outputs": []
  },
  {
   "cell_type": "code",
   "execution_count": 10,
   "metadata": {
    "colab": {
     "base_uri": "https://localhost:8080/"
    },
    "id": "dbTGeiA7W9_8",
    "outputId": "8cfdc46e-4aac-4a6d-ed0d-1f51d4100b80"
   },
   "source": [
    "measure_blob_2(grid, 0, 0)"
   ],
   "outputs": []
  },
  {
   "cell_type": "markdown",
   "metadata": {
    "id": "yu4YprXGbj4y"
   },
   "source": [
    "## Ejercicio 1\n",
    "\n",
    "Con algunas pequeñas modificaciones, la función `measure_blob_2` puede ser utilizada para contar el número de masas total. Realiza estas modificaciones, argumenta por qué son correctas, y pruébala para la cuadrícula que usamos de ejemplo (para la cual el resultado debe de ser 3)."
   ]
  },
  {
   "cell_type": "markdown",
   "metadata": {},
   "source": [
    "**Explicación:** Para contar las masas en el tablero, en la función `measure_blobs` procedemos a recorrer fila por fila y columna por columna con dos ciclos anidados, empezando por la esquina superior izquierda.\n",
    "\n",
    "Para cada casilla activada (valor de 1) y no visitada se llamará a la función `visit_blob`, que marcará todas las casillas pertenecientes a la masa actual como visitadas. Para ello, la función hace un recorrido por profundidad (DFS) para visitar las casillas de la masa en cuestión. Al final del recorrido, (al marcar todas las casillas de la masa como visitadas), el contador de masas suma en 1 y continua recorriendo el tablero. Continúa sucesivamente hasta terminar todo el tablero.\n",
    "\n",
    "En otras palabras, la función `measure_blobs` recorre todo el tablero y en las casillas no visitadas pertenecientesa a una masa hace un recorrido en profundidad usando `visit_blob` para marcar sus casillas como visitados. Cada vez que se llama a la función `visit_blob` el contador suma 1 al número de masas."
   ]
  },
  {
   "cell_type": "code",
   "execution_count": 11,
   "metadata": {},
   "source": [
    "def measure_blobs(grid):\n",
    "    m, n = grid.shape\n",
    "    count = 0\n",
    "    visited = np.zeros((m, n), dtype=bool)\n",
    "    for i in range(m):\n",
    "        for j in range(n):\n",
    "            if grid[i,j] == 1 and not visited[i,j]:\n",
    "                visit_blob(grid, i, j, m, n, visited)\n",
    "                count += 1\n",
    "    return count\n",
    "\n",
    "def visit_blob(grid, i, j, m, n, visited):\n",
    "    visited[i, j] = True\n",
    "\n",
    "    for offset in [(1, 0), (-1, 0), (0, 1), (0, -1)]:\n",
    "        ii = i + offset[0]\n",
    "        jj = j + offset[1]\n",
    "        if (0 <= ii < m) and (0 <= jj < n) and grid[ii, jj] == 1 and not visited[ii, jj]:\n",
    "            visit_blob(grid, ii, jj, m, n, visited)"
   ],
   "outputs": []
  },
  {
   "cell_type": "code",
   "execution_count": 12,
   "metadata": {},
   "source": [
    "measure_blobs(grid)"
   ],
   "outputs": []
  },
  {
   "cell_type": "markdown",
   "metadata": {},
   "source": [
    "Otro caso de prueba"
   ]
  },
  {
   "cell_type": "code",
   "execution_count": 13,
   "metadata": {},
   "source": [
    "grid2 = np.array([\n",
    "    [1, 0, 0, 0, 1],\n",
    "    [0, 0, 1, 0, 0],\n",
    "    [0, 1, 1, 1, 0],\n",
    "    [0, 0, 1, 0, 0],\n",
    "    [0, 0, 0, 0, 0],\n",
    "    [1, 0, 0, 0, 1]\n",
    "])"
   ],
   "outputs": []
  },
  {
   "cell_type": "code",
   "execution_count": 14,
   "metadata": {},
   "source": [
    "plt.imshow(grid2)"
   ],
   "outputs": []
  },
  {
   "cell_type": "code",
   "execution_count": 15,
   "metadata": {},
   "source": [
    "measure_blobs(grid2)"
   ],
   "outputs": []
  },
  {
   "cell_type": "markdown",
   "metadata": {
    "id": "RhxEjnRSrlLC"
   },
   "source": [
    "## Ejercicio 2\n",
    "\n",
    "Muestra que al considerar la sucesión de Fibonacci módulo $n$, la sucesión obtenida se cicla desde el principio."
   ]
  },
  {
   "cell_type": "markdown",
   "metadata": {},
   "source": [
    "Se retoma del **Ejemplo 2** que:\n",
    "\n",
    "\\begin{align}\n",
    "    \\tilde{F}_0 = 0,\\ \\tilde{F}_1 = 1\\\\\n",
    "    \\tilde{F}_k = (\\tilde{F}_{k-1} + \\tilde{F}_{k-2})\\ \\text{mod}\\ n\n",
    "\\end{align}\n",
    "\n",
    "Además, se demostró que la sucesión de los residuos de $\\tilde{F}_k$ es cíclica.\n",
    "\n",
    "**Demostración:**\n",
    "\n",
    "Se sabe que $\\tilde{F}_k$ está en función de ($\\tilde{F}_{k-2},\\tilde{F}_{k-1}$)\n",
    "\n",
    "Si suponemos que la suceción de $\\tilde{F}_k$ no se cicla desde el principio, es equivalente a decir que existe un $\\alpha>0$ tal que $(\\tilde{F}_\\alpha, \\tilde{F}_{\\alpha+1})$ sea igual a otra pareja $(\\tilde{F}_\\beta, \\tilde{F}_{\\beta+1})$ con $\\beta>\\alpha$, con la particularidad de que dichas parejas sean las primeras en repetirse en la sucesión.\n",
    "\n",
    "Sin embargo, por la definición de la función Fibonacci modulo $n$:\n",
    "\n",
    "$$\\tilde{F}_\\alpha = (\\tilde{F}_{\\alpha-1} + \\tilde{F}_{\\alpha-2})\\ \\text{mod}\\ n $$\n",
    "\n",
    "\n",
    "y de la misma manera:\n",
    "\n",
    "$$ \\tilde{F}_\\beta = (\\tilde{F}_{\\beta-1} + \\tilde{F}_{\\beta-2})\\ \\text{mod}\\ n $$\n",
    "\n",
    "Es decir, la pareja $(\\tilde{F}_{\\alpha-2}, \\tilde{F}_{\\alpha-1})$ es igual a $(\\tilde{F}_{\\beta-2},\\tilde{F}_{\\beta-1})$, y se contradice que $(\\tilde{F}_\\alpha, \\tilde{F}_{\\alpha+1})$ es la primera pareja que se repite.\n",
    "\n",
    "\n"
   ]
  },
  {
   "cell_type": "markdown",
   "metadata": {},
   "source": [
    "Por lo tanto, al no existir ningún $\\alpha$; la primera pareja de $\\tilde{F}_k$ que se repite es ($\\tilde{F}_k, \\tilde{F}_{k+1}$) con $k=0$, es decir, $(\\tilde{F}_0,\\tilde{F}_1)$ "
   ]
  },
  {
   "cell_type": "markdown",
   "metadata": {
    "id": "45GwAjT7W9_9"
   },
   "source": [
    "## Ejercicio 3\n",
    "\n",
    "(Reto, no obligatorio). Muestra que los ciclos de menor longitud en la sucesión de Fibonacci módulo $n$ tienen $1, 2$ o $4$ ceros."
   ]
  }
 ],
 "metadata": {
  "colab": {
   "provenance": []
  },
  "kernelspec": {
   "display_name": "Python 3 (ipykernel)",
   "language": "python",
   "name": "python3"
  },
  "language_info": {
   "codemirror_mode": {
    "name": "ipython",
    "version": 3
   },
   "file_extension": ".py",
   "mimetype": "text/x-python",
   "name": "python",
   "nbconvert_exporter": "python",
   "pygments_lexer": "ipython3",
   "version": "3.12.4"
  },
  "vscode": {
   "interpreter": {
    "hash": "4861c6144d8f19ea7b4ff9a1318e46132f7313acf19c077aff52f97015c8eda8"
   }
  }
 },
 "nbformat": 4,
 "nbformat_minor": 0
}
