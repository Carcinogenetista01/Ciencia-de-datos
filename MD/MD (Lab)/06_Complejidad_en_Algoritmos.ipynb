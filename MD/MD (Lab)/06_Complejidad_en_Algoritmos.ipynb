{
 "cells": [
  {
   "cell_type": "markdown",
   "metadata": {
    "colab_type": "text",
    "id": "view-in-github"
   },
   "source": [
    "<a href=\"https://colab.research.google.com/github/RodolfoFigueroa/madi2024/blob/main/Unidad_2/01_Complejidad_en_Algoritmos.ipynb\" target=\"_parent\"><img src=\"https://colab.research.google.com/assets/colab-badge.svg\" alt=\"Open In Colab\"/></a>"
   ]
  },
  {
   "cell_type": "code",
   "metadata": {
    "ExecuteTime": {
     "end_time": "2024-09-26T23:34:49.292681Z",
     "start_time": "2024-09-26T23:34:48.377114Z"
    }
   },
   "source": [
    "import numpy as np\n",
    "import time\n",
    "import networkx as nx\n",
    "\n",
    "import matplotlib.pyplot as plt"
   ],
   "execution_count": 3,
   "outputs": []
  },
  {
   "cell_type": "markdown",
   "metadata": {
    "id": "ycgcgz06MxZr"
   },
   "source": [
    "En esta sesión veremos algunos ejemplos de algoritmos (unos nuevos, y otros que ya hemos visto) y analizaremos sus complejidades, ya sea en tiempo, memoria o ambas.\n",
    "\n",
    "# Preliminares\n",
    "\n",
    "## Representación de enteros\n",
    "\n",
    "En la gran mayoría de lenguajes de programación, los enteros son representados con un número fijo de bits. Esto significa que hay un límite superior e inferior a las cantidades que podemos expresar. Por ejemplo, para el tipo `int32` (enteros con signo de 32 bits), el rango de números válidos es:\n",
    "\n",
    "$$\n",
    "[-2^{31}, 2^{31}-1] = [-2\\ 147\\ 483\\ 648, 2\\ 147\\ 483\\ 647]\n",
    "$$\n",
    "\n",
    "Es importante notar que, bajo este esquema, todos los números ocupan el mismo espacio en memoria. Entonces, si queremos representar un 5 en `int32`, en realidad estamos guardando:\n",
    "\n",
    "$$\n",
    "5 = \\underbrace{00000000000000000000000000000101}_\\text{32 bits}\n",
    "$$\n",
    "\n",
    "---\n",
    "\n",
    "Por alguna razón, los creadores de Python decidieron romper esta convención, y representar los enteros con un número *arbitrario* de bits. Esto significa que podemos expresar números tan grandes o tan pequeños como queramos, y Python asignará dinámicamente el número de bits necesario. A continuación, vemos algunos ejemplos de esto, utilizando el método `bit_length()` para obtener el número de bits:"
   ]
  },
  {
   "cell_type": "code",
   "execution_count": 2,
   "metadata": {},
   "source": [
    "enteros = [7, 15, 32, 1023, int(1e20)]\n",
    "for i in enteros:\n",
    "    print(f\"Número de bits de {i}: {i.bit_length()}\")"
   ],
   "outputs": []
  },
  {
   "cell_type": "markdown",
   "metadata": {},
   "source": [
    "Si bien esto sirve para ahorrar memoria para enteros menores a 32 bits, lo logra sacrificando las **operaciones en tiempo constante**. Como en `int32` (e `int16`, `int8`, etc.), todos los números tienen el mismo número de bits, las operaciones algebraicas tardan en esencia el mismo tiempo, por lo cual puede decirse que son $O(1)$ (**Nota:** Este tiempo depende del número de bits: por ejemplo, las operaciones en `int32` tardan más que en `int16`).\n",
    "\n",
    "Sin embargo, como en Python el número de bits es variable, las operaciones ya no son de tiempo constante. Para números pequeños, Python utiliza el algoritmo de multiplicación que aprendemos en primaria, con una complejidad $O(n^2)$. Por otro lado, para números muy grandes, emplea el algoritmo de Karatsuba, con complejidad $\\approx O\\left(n^{1.58}\\right)$.\n",
    "\n",
    "Para ilustrar esto, definimos la siguiente función que calcula el factorial de `n`:"
   ]
  },
  {
   "cell_type": "code",
   "metadata": {
    "ExecuteTime": {
     "end_time": "2024-09-26T23:34:32.799326Z",
     "start_time": "2024-09-26T23:34:32.796561Z"
    }
   },
   "source": [
    "def my_fac(n):\n",
    "    s = 1\n",
    "    for i in range(1, int(n)+1):\n",
    "        s *= i\n",
    "    return s"
   ],
   "execution_count": 1,
   "outputs": []
  },
  {
   "cell_type": "markdown",
   "metadata": {},
   "source": [
    "Claramente, su complejidad es $O(n)$, por lo tanto, esperamos que su gráfica de tiempo vs. $n$ sea una línea recta. Sin embargo, ejecutándola para distintos valores de $n$ y midiendo su tiempo:"
   ]
  },
  {
   "cell_type": "code",
   "metadata": {
    "ExecuteTime": {
     "end_time": "2024-09-26T23:36:43.729964Z",
     "start_time": "2024-09-26T23:34:58.007805Z"
    }
   },
   "source": [
    "times = []\n",
    "ns = np.logspace(1, 5, 15) # Nos regresa una sucesión de 15 números espaciados uniformemente en [10^1, 10^5]\n",
    "#print(ns)\n",
    "for n in ns:\n",
    "    res = %timeit -o -q my_fac(n)\n",
    "    times.append(res.average)"
   ],
   "execution_count": 4,
   "outputs": []
  },
  {
   "cell_type": "markdown",
   "metadata": {},
   "source": [
    "Graficando:"
   ]
  },
  {
   "cell_type": "code",
   "execution_count": 15,
   "metadata": {},
   "source": [
    "fig, ax = plt.subplots(figsize=(10, 4))\n",
    "ax.plot(ns, times, label=\"Esperado\")\n",
    "ax.set_xlabel(\"n\")\n",
    "ax.set_ylabel(\"Tiempo (s)\")"
   ],
   "outputs": []
  },
  {
   "cell_type": "markdown",
   "metadata": {},
   "source": [
    "Dado que en las últimas partes, estamos obteniendo $100000!$ (que requiere de un total de 1516688 bits para poder representarse por completo), estas complejidades ya no son triviales.\n",
    "\n",
    "---\n",
    "\n",
    "En caso de que la precisión no sea tan importante, podemos solucionar este problema usando `float` en vez de `int`. Como `float` tiene un tamaño fijo de 64 bits, la multiplicación siempre toma un tiempo constante:"
   ]
  },
  {
   "cell_type": "code",
   "execution_count": 16,
   "metadata": {},
   "source": [
    "def my_fac_2(n):\n",
    "    s = 1.0\n",
    "    for i in range(1,int(n)+1):\n",
    "        s *= i\n",
    "    return s"
   ],
   "outputs": []
  },
  {
   "cell_type": "code",
   "execution_count": 18,
   "metadata": {},
   "source": [
    "times = []\n",
    "ns = np.logspace(1, 5, 15)\n",
    "for n in ns:\n",
    "    res = %timeit -o -q my_fac_2(n)\n",
    "    times.append(res.average)"
   ],
   "outputs": []
  },
  {
   "cell_type": "code",
   "execution_count": 18,
   "metadata": {},
   "source": [
    "fig, ax = plt.subplots(figsize=(10, 4))\n",
    "ax.plot(ns, times)\n",
    "ax.set_xlabel(\"n\")\n",
    "ax.set_ylabel(\"Tiempo (s)\")"
   ],
   "outputs": []
  },
  {
   "cell_type": "markdown",
   "metadata": {},
   "source": [
    "## Pila de llamada\n",
    "\n",
    "Python (y la mayoría de los lenguajes de programación) manejan lo que se conoce como una *pila de llamada* (en inglés *call stack*). Esta es  una estructura de datos de tipo LIFO (Last In First Out), en la cual se van colocando referencias a las funciones que vamos ejecutando. Cuando hacemos una llamada a una función, Python mete datos (variables, parámetros, punteros, etc.) a la pila; cuando la función termina de ejecutarse, la saca de la pila.\n",
    "\n",
    "Ahora, supongamos que ejecutamos a la función `foo`. Después de iniciar, la pila se verá de la siguiente manera:\n",
    "\n",
    "```\n",
    "---\n",
    "foo\n",
    "---\n",
    "```\n",
    "\n",
    "Luego, si `foo` llama a la función `bar`, Python insertará la referencia correspondiente en la pila:\n",
    "\n",
    "```\n",
    "---\n",
    "bar\n",
    "---\n",
    "foo\n",
    "---\n",
    "```\n",
    "\n",
    "Cuando `bar` se acabe de ejecutar, saldrá de la pila:\n",
    "\n",
    "```\n",
    "---\n",
    "foo\n",
    "---\n",
    "```\n",
    "\n",
    "Y finalmente, `foo` termina, y sale de la pila:\n",
    "\n",
    "```\n",
    "---\n",
    "---\n",
    "```\n",
    "\n",
    "---\n",
    "\n",
    "¿Qué pasa cuando tenemos funciones *recursivas*? En este caso, Python insertará una referencia por cada una de las llamadas que hagamos. Por ejemplo, si tenemos la siguiente función para calcular el factorial de manera recursiva:"
   ]
  },
  {
   "cell_type": "code",
   "execution_count": 21,
   "metadata": {},
   "source": [
    "def fac(n):\n",
    "    if n == 1:\n",
    "        return 1\n",
    "    return n * facc(n-1)"
   ],
   "outputs": []
  },
  {
   "cell_type": "markdown",
   "metadata": {},
   "source": [
    "En total hará $n$ llamadas recursivas, por lo cual, al llegar a la última llamada (cuando $n=1$), la pila se verá de la siguiente manera:\n",
    "\n",
    "```\n",
    "---      --\n",
    "fac<1>     \\\n",
    "---         \\\n",
    "fac<2>       \\\n",
    "---           \\\n",
    "fac<3>         n veces\n",
    "---           /\n",
    "...          /\n",
    "---         /\n",
    "fac<n>     /\n",
    "---      --\n",
    "```\n",
    "\n",
    "Posteriormente, la función de hasta arriba ($n=1$) terminará y saldrá de la pila, seguida por la de abajo de ella, y así sucesivamente, hasta que se vacíe.\n",
    "\n",
    "La complejidad de este algoritmo es:\n",
    "\n",
    "* Tiempo: $O(n)$, ya que hacemos $n$ llamadas recursivas.\n",
    "* Espacio: Como en la última llamada, la pila de llamadas tiene una altura $n$, la complejidad en espacio es $O(n)$, ya que la pila ocupa memoria física.\n",
    "\n",
    "**Es importante tomar en cuenta la pila de llamadas cuando se analisa la complejidad en espacio.**"
   ]
  },
  {
   "cell_type": "markdown",
   "metadata": {
    "id": "d1iAEuxWNdvN"
   },
   "source": [
    "# Ejemplos\n",
    "\n",
    "## Ejemplo 1\n",
    "\n",
    "En la práctica de inducción, teníamos el siguiente problema:\n",
    "\n",
    "Encuentra el valor de: \n",
    "\n",
    "$$\\Big\\lfloor \\frac{1}{2}\\Big \\rfloor + \\Big\\lfloor \\frac{2}{2}\\Big \\rfloor + \\cdots + \\Big\\lfloor \\frac{n}{2}\\Big \\rfloor$$\n",
    "\n",
    "Este problema se puede resolver de forma sencilla utilizando un bucle `for`:"
   ]
  },
  {
   "cell_type": "code",
   "execution_count": 86,
   "metadata": {},
   "source": [
    "def floor_sum(n):\n",
    "    s = 0\n",
    "    for i in range(n+1):    # Se ejecuta n veces\n",
    "        s += i//2           # Esta operación toma tiempo constante\n",
    "    return s"
   ],
   "outputs": []
  },
  {
   "cell_type": "markdown",
   "metadata": {
    "id": "d1iAEuxWNdvN"
   },
   "source": [
    "* En tiempo, es $O(n)$, pues estamos haciendo $n$ operaciones, una en cada ciclo. \n",
    "* En memoria, es constante, pues lo único que tenemos que ir recordando es el valor de la suma en cada momento, es decir, es $O(1)$.\n",
    "\n",
    "Nosotros habíamos encontrado una expresión cerrada para esta suma, con la cual podemos escribir otra función:"
   ]
  },
  {
   "cell_type": "code",
   "execution_count": 87,
   "metadata": {},
   "source": [
    "def floor_sum_2(n):\n",
    "    return (n//2) * ((n+1)//2)"
   ],
   "outputs": []
  },
  {
   "cell_type": "markdown",
   "metadata": {
    "id": "d1iAEuxWNdvN"
   },
   "source": [
    "En este caso, la complejidad tanto en tiempo como en espacio es $O(1)$, ya que solo tenemos que realizar una operación sin importar el tamaño de la entrada."
   ]
  },
  {
   "cell_type": "markdown",
   "metadata": {
    "id": "PHBjq3mPPedF"
   },
   "source": [
    "## Ejemplo 2\n",
    "\n",
    "Pasemos a un ejemplo más interesante. Supongamos que tenemos que diseñar un algoritmo tal que dado un entero positivo $n$ y un número real $x$, encuentre el valor de $x^n$, pero utilizando únicamente operaciones básicas (suma, resta, multiplicación y división).\n",
    "\n",
    "Un primer algoritmo para hacer esto sería lo siguiente:"
   ]
  },
  {
   "cell_type": "code",
   "execution_count": 92,
   "metadata": {
    "colab": {
     "base_uri": "https://localhost:8080/",
     "height": 185
    },
    "id": "aSFCHyjjP_PW",
    "outputId": "7ac043b7-ce4f-4c84-9d92-caf1b85d6bdd"
   },
   "source": [
    "def potencia(x, n):\n",
    "    p = x\n",
    "    for i in range(2, n+1):\n",
    "        p *= x\n",
    "    return p\n",
    "\n",
    "potencia(2,10)"
   ],
   "outputs": []
  },
  {
   "cell_type": "markdown",
   "metadata": {
    "id": "-xa3l1h7YSoo"
   },
   "source": [
    "* En tiempo, nos toma $O(n)$, pues estamos iterando $n$ veces y en cada una hacemos una cantidad constante de operaciones.\n",
    "* En memoria, es $O(1)$, pues sólo actualizamos el valor de $p$ en cada iteración. \n",
    "\n",
    "---\n",
    "\n",
    "¿Cómo podemos optimizarlo? \n",
    "\n",
    "Notemos que si $n = 2k$, entonces: \n",
    "\n",
    "$$x^n = x^{2k}= (x^k)^2=x^kx^k$$ \n",
    "\n",
    "Por otro lado, si $n = 2k+1$, entonces: \n",
    "\n",
    "$$x^n = (x^k)^2 \\cdot x$$ \n",
    "\n",
    "Usemos esto para obtener un algoritmo que sea mejor en cuanto a tiempo de ejecución:"
   ]
  },
  {
   "cell_type": "code",
   "execution_count": 94,
   "metadata": {
    "colab": {
     "base_uri": "https://localhost:8080/",
     "height": 34
    },
    "id": "KCsN1Fn62G9j",
    "outputId": "bf921934-3e9b-4ac9-9904-68416f89bde8"
   },
   "source": [
    "def potencia_2(x, n):\n",
    "    if n == 1:                  # Comparaciones toman tiempo constante\n",
    "        return x\n",
    "    \n",
    "    p = potencia_2(x, n//2)     # ¿Cuántas veces se hace la llamada recursica? \n",
    "    \n",
    "    if n%2 == 0:                # Comparaciones toman tiempo constante\n",
    "        return p*p              # Multiplicaciones toman tiempo constante\n",
    "    else:\n",
    "        return x*p*p            # Multiplicaciones toman tiempo constante\n",
    "\n",
    "potencia_2(2, 10)"
   ],
   "outputs": []
  },
  {
   "cell_type": "markdown",
   "metadata": {
    "id": "3Q-ElBFw3Kyl"
   },
   "source": [
    "La complejidad de este algoritmo es:\n",
    "\n",
    "* **Tiempo:** En cada llamada recursiva, dividimos el exponente entre 2. Por lo tanto, tenemos en promedio un total de $\\log_2(n)$ llamadas, en cada una de las cuales hacemos operaciones de tiempo constante. Por lo tanto, la complejidad en tiempo es $O(\\log_2(n))$.\n",
    "* **Espacio:** De nuevo, hacemos un total de $\\log_2(n)$ llamadas recursivas. Por lo tanto, en su punto más alto, la pila de llamadas tendrá  este tamaño, de lo cual se sigue que la complejidad en espacio es $O(\\log_2(n))$."
   ]
  },
  {
   "cell_type": "markdown",
   "metadata": {
    "id": "JZklEwUr6tWG"
   },
   "source": [
    "## Ejemplo 3\n",
    "\n",
    "Digamos que queremos calcular el $n$-ésimo valor de la sucesión de Fibonacci, i.e., $F_n$.\n",
    "\n",
    "Una primera opción sería haciéndolo de manera recursiva:"
   ]
  },
  {
   "cell_type": "code",
   "execution_count": 19,
   "metadata": {
    "colab": {
     "base_uri": "https://localhost:8080/",
     "height": 34
    },
    "id": "S8O5d2rmLQ9u",
    "outputId": "695f221d-f655-4067-cad5-d2f5b09aca47"
   },
   "source": [
    "def fib(n):\n",
    "    if n == 0:\n",
    "        return 0\n",
    "    if n == 1:\n",
    "        return 1\n",
    "    return fib(n-1) + fib(n-2)\n",
    "\n",
    "fib(8)"
   ],
   "outputs": []
  },
  {
   "cell_type": "markdown",
   "metadata": {
    "id": "ou_KVtjdLy6K"
   },
   "source": [
    "La complejidad de este algoritmo es:\n",
    "\n",
    "* **Tiempo:** Como para cada $n > 1$, requerimos llamar a la función `fib` dos veces, se concluye que la complejidad en tiempo es $O(2^n)$.\n",
    "* **Espacio:** La pila de recursión tiene como altura máxima $n$; por lo tanto, la complejidad en espacio es $O(n)$.\n",
    "\n",
    "---\n",
    "\n",
    "¿Qué pasa si guardamos los valores de los números de Fibonacci que vamos calculando? Es decir, guardamos el valor de $F_k$ la primera vez que llamemos a $fib(k)$."
   ]
  },
  {
   "cell_type": "code",
   "execution_count": 53,
   "metadata": {
    "colab": {
     "base_uri": "https://localhost:8080/",
     "height": 50
    },
    "id": "N9ZIbGlVNY3K",
    "outputId": "8a955581-818d-4280-d664-eff4917167d7"
   },
   "source": [
    "def fib2(k, Fs=None):\n",
    "    if Fs is None:\n",
    "        Fs = [None] * (k+1)\n",
    "\n",
    "    if k == 0:\n",
    "        return 0\n",
    "    elif k == 1:\n",
    "        return 1\n",
    "    \n",
    "    if Fs[k] is not None:           # Si ya calculamos el valor fib(k), entonces no necesitamos calcularlo de nuevo\n",
    "        return Fs[k]\n",
    "    else:\n",
    "        Fs[k] = fib2(k-1, Fs=Fs) + fib2(k-2, Fs=Fs) \n",
    "        return Fs[k]\n",
    "\n",
    "print(fib2(8))\n",
    "\n",
    "t = %timeit -o -q fib2(2500)\n",
    "t"
   ],
   "outputs": []
  },
  {
   "cell_type": "markdown",
   "metadata": {
    "id": "qXP88u6qO3YU"
   },
   "source": [
    "La complejidad de este algoritmo es:\n",
    "\n",
    "* **Tiempo:** La complejidad en tiempo mejora considerablemente, ya que `fib(k)` solo llama a `fib(k-1)` y `fib(k-2)` una vez, y todas las demás veces simplemente se accesa el valor guardado. Dado que se tienen que hacer $n$ llamadas como mínimo, se concluye que la complejidad en tiempo es $O(n)$.\n",
    "* **Espacio:** La altura máxima de la pila de llamadas no cambia. Adicionalmente, estamos guardando un arreglo de tamaño $n+1$ en la memoria, por lo cual la complejidad es $O(n) + O(n) = O(n)$.\n",
    "\n",
    "A esta técnica de guardar los resultados de una función para utilizarlos después se le conoce como **memoización**, y la veremos con más detalle en libretas siguientes.\n"
   ]
  },
  {
   "cell_type": "markdown",
   "metadata": {},
   "source": [
    "Otra técnica de optimización en funciones recursivas es la llamada recursión de cola (del inglés, tail recursion). En este tipo de recursión, lo que se hace es realizar la recursión como el último cómputo de la función recursiva."
   ]
  },
  {
   "cell_type": "code",
   "execution_count": 55,
   "metadata": {},
   "source": [
    "def fib3(n, fib1 = 0, fib2 = 1):\n",
    "    if n == 0:\n",
    "        return fib1\n",
    "    return fib3(n-1,  fib2, fib1+fib2)\n",
    "\n",
    "t = %timeit -o -q fib3(2500)\n",
    "t"
   ],
   "outputs": []
  },
  {
   "cell_type": "markdown",
   "metadata": {},
   "source": [
    "La complejidad de este algoritmo es:\n",
    "\n",
    "* **Tiempo:** Dado que se tienen que hacer $n$ llamadas recursivas, se concluye que la complejidad en tiempo es $O(n)$.\n",
    "* **Espacio:** La altura de la pila siempre es 1, y no se hace uso de ninguna estructura de datos, por lo que la complejidad en espacio es $O(1)$.\n",
    "\n",
    "A esta técnica de guardar los resultados de una función para utilizarlos después se le conoce como **memoización**, y la veremos con más detalle en libretas siguientes."
   ]
  },
  {
   "cell_type": "markdown",
   "metadata": {},
   "source": [
    "Estas funciones nos permiten encontrar el valor de $F_n$ de manera recursiva. Alternativamente, podemos escribir una que lo haga de manera iterativa:"
   ]
  },
  {
   "cell_type": "code",
   "execution_count": 54,
   "metadata": {
    "colab": {
     "base_uri": "https://localhost:8080/",
     "height": 34
    },
    "id": "Byezw4CKQ5M6",
    "outputId": "042f9948-6e00-45a4-cd7b-43fbfecca514"
   },
   "source": [
    "def fib4(n):\n",
    "    if n == 0:\n",
    "        return 0\n",
    "    elif n == 1:\n",
    "        return 1\n",
    "    \n",
    "    count = 1\n",
    "    k1 = 0\n",
    "    k2 = 1\n",
    "    while count != n:\n",
    "        k1, k2 = k2, k1 + k2\n",
    "        count += 1\n",
    "    return k2\n",
    "\n",
    "fib3(8)\n",
    "\n",
    "t = %timeit -o -q fib4(2500)\n",
    "t"
   ],
   "outputs": []
  },
  {
   "cell_type": "markdown",
   "metadata": {
    "id": "HnyMLqfeRvza"
   },
   "source": [
    "* **Tiempo:** $O(n)$, ya que hacemos $n$ iteraciones del bucle `while`.\n",
    "* **Espacio:** $O(1)$, ya que las únicas variables que guardamos son `count, k1, k2`\n",
    "\n",
    "Esto nos muestra algo que también es bastante común, hacer un algoritmo de forma iterativa suele hacerlo más eficiente, ya sea en espacio, en tiempo o ambas. Sin embargo, muchas veces es muy complicado pasar de algo recursivo a algo iterativo."
   ]
  },
  {
   "cell_type": "markdown",
   "metadata": {
    "id": "yaR8YMk7PruC"
   },
   "source": [
    "## Ejemplo 4\n",
    "\n",
    "Analicemos las complejidades de el algoritmo de DFS, que vimos anteriormente."
   ]
  },
  {
   "cell_type": "code",
   "execution_count": 120,
   "metadata": {
    "id": "EGuqGML5TDgZ"
   },
   "source": [
    "n = 8\n",
    "p = 1/3\n",
    "\n",
    "G = nx.gnp_random_graph(n, p)\n",
    "print(G.edges, '\\n')\n",
    "nx.draw(G, with_labels=True, font_weight='bold')"
   ],
   "outputs": []
  },
  {
   "cell_type": "code",
   "execution_count": 121,
   "metadata": {
    "id": "EGuqGML5TDgZ"
   },
   "source": [
    "def dfs(g, v, visited=None):\n",
    "    if visited is None:\n",
    "        visited = [False] * len(g.nodes)\n",
    "        \n",
    "    visited[v] = True\n",
    "    print(v) # Aquí puede ir cualquier otra cosa\n",
    "    for u in g.adj[v]:\n",
    "        if not visited[u]:\n",
    "            dfs(g, u, visited)\n",
    "            \n",
    "dfs(G, 0)"
   ],
   "outputs": []
  },
  {
   "cell_type": "markdown",
   "metadata": {
    "id": "sz0PXE24TUlQ"
   },
   "source": [
    "Antes de iniciar el análisis, es importante entender cómo se representan las gráficas en las computadoras. Por ejemplo, tomemos la siguiente gráfica de ejemplo:"
   ]
  },
  {
   "cell_type": "code",
   "execution_count": 32,
   "metadata": {},
   "source": [
    "g = nx.Graph()\n",
    "g.add_nodes_from([0, 1, 2, 3, 4])\n",
    "g.add_edges_from([(0, 1), (0, 2), (0, 4), (1, 3), (3, 4)])\n",
    "\n",
    "fig, ax = plt.subplots(figsize=(6, 4))\n",
    "nx.draw(g, with_labels=True, font_weight=\"bold\", font_color=\"white\", ax=ax)"
   ],
   "outputs": []
  },
  {
   "cell_type": "markdown",
   "metadata": {},
   "source": [
    "**Matriz de adyacencia**\n",
    "\n",
    "La gráfica se representa como una matriz de $n\\times n$. La entrada $(i, j)$ es 1 si existe una arista de $i$ a $j$, y 0 en otro caso. En caso de una gráfica no dirigida, la matriz es simétrica (i.e., tanto $(i, j)$ como $(j, i)$ es 1 si existe una arista).\n",
    "\n",
    "Para nuestra gráfica de ejemplo, la matriz de adyacencia es:\n",
    "\n",
    "$$\n",
    "\\begin{pmatrix}\n",
    "0 & 1 & 1 & 0 & 1 \\\\\n",
    "1 & 0 & 0 & 1 & 0 \\\\\n",
    "1 & 0 & 0 & 0 & 0 \\\\\n",
    "0 & 1 & 0 & 0 & 1 \\\\\n",
    "1 & 0 & 0 & 1 & 0 \\\\\n",
    "\\end{pmatrix}\n",
    "$$\n",
    "\n",
    "**Lista de adyacencia**\n",
    "\n",
    "En este caso, la gráfica se representa como una lista de longitud $n$. La $i$-ésima entrada de la lista contiene todos los vértices a los cuales es adyacente el vértice $i$.\n",
    "\n",
    "Entonces, para nuestra gráfica de ejemplo, la lista de adyacencia es:\n",
    "\n",
    "```\n",
    "0: 1, 2, 4\n",
    "1: 0, 3\n",
    "2: 0\n",
    "3: 1, 4\n",
    "4: 0, 3\n",
    "```\n",
    "\n",
    "---\n",
    "\n",
    "¿Cómo influye esto en la complejidad del algoritmo?\n",
    "\n",
    "Analicemos los casos por separado. Es importante recordar que estamos estudiando el algoritmo, por lo cual **no** debemos de considerar el espacio ocupado por la representación de la gráfica.\n",
    "\n",
    "### Matriz de adyacencia\n",
    "\n",
    "* **Tiempo:** Para obtener todos los vecinos de un nodo, tenemos que revisar cada entrada de la fila correspondiente de la matriz de adyacencia, lo cual toma tiempo $O(n)$. Como tenemos que hacer esto para todos los nodos, concluimos que la complejidad en tiempo es $O(n^2)$.\n",
    "* **Espacio:** En el peor de los casos, haremos $n$ llamadas recursivas anidadas. Por lo tanto, la altura máxima de la pila de llamadas es $n$, y la complejidad en espacio es $O(n)$.\n",
    "\n",
    "### Lista de adyacencia\n",
    "\n",
    "* **Tiempo:** Para obtener todos los vecinos de un nodo, tenemos que accesar la correspondiente entrada en la lista de adyacencia, y revisar todos los nodos listados. Al finalizar el algoritmo, habremos accesado las $n$ entradas, y revisado los $m$ nodos listados. Por lo tanto, la complejidad en tiempo es $O(n+m)$.\n",
    "\n",
    "Es importante notar que, para una gráfica no-dirigida, accesaremos cada arista dos veces; por lo tanto, la complejidad es $O(n+2m)\\sim O(n+m)$.\n",
    "\n",
    "* **Espacio:** Por el mismo argumento que en el caso anterior, tenemos que la complejidad en espacio es $O(n)$."
   ]
  },
  {
   "cell_type": "markdown",
   "metadata": {},
   "source": [
    "# Ejercicios"
   ]
  },
  {
   "cell_type": "markdown",
   "metadata": {},
   "source": [
    "## Ejercicio 1\n",
    "\n",
    "Como notamos en clase, la representación de matriz de adyacencia y lista de adyacencia es redundante para gráficas no-dirigidas. En el caso de la matriz de adyacencia, la siguiente matriz es equivalente a la de nuestro ejemplo:\n",
    "\n",
    "$$\n",
    "\\begin{pmatrix}\n",
    "0 & & & & \\\\\n",
    "1 & 0 & & & \\\\\n",
    "1 & 0 & 0 & & \\\\\n",
    "0 & 1 & 0 & 0 & \\\\\n",
    "1 & 0 & 0 & 1 & 0 \\\\\n",
    "\\end{pmatrix}\n",
    "$$\n",
    "\n",
    "Análogamente, nuestra lista de adyacencia puede reducirse a la siguiente forma:\n",
    "\n",
    "```\n",
    "0: 1, 2, 4\n",
    "1: 3\n",
    "2: \n",
    "3: 4\n",
    "4: \n",
    "```\n",
    "\n",
    "---\n",
    "\n",
    "Asumiendo que tenemos estas representaciones para una gráfica en general, explica cómo cambiaría (si es que lo hace) la complejidad en tiempo y espacio del algoritmo DFS."
   ]
  },
  {
   "metadata": {},
   "cell_type": "code",
   "execution_count": null,
   "source": "",
   "outputs": []
  },
  {
   "metadata": {},
   "cell_type": "code",
   "execution_count": null,
   "source": "",
   "outputs": []
  },
  {
   "cell_type": "markdown",
   "metadata": {},
   "source": [
    "## Ejercicio 2\n",
    "\n",
    "Podemos definir el máximo común divisor de $a$ y $b$ de manera recursiva de la siguiente manera:\n",
    "\n",
    "$$\n",
    "\\text{mcd}(a, b) = \n",
    "\\begin{cases}\n",
    "a, & \\text{si}\\ b=0 \\\\\n",
    "\\text{mcd}(b, a\\mod b), & \\text{en otro caso} \n",
    "\\end{cases}\n",
    "$$\n",
    "\n",
    "Escribe una función que utilice esta definición para calcular el MCD de manera recursiva. Posteriormente, escribe otra que lo haga de manera iterativa. Explica la complejidad en tiempo y espacio de ambas."
   ]
  },
  {
   "cell_type": "markdown",
   "metadata": {},
   "source": [
    "## Ejercicio 3\n",
    "\n",
    "Escribe una función recursiva que determine si un *string* dado es un palíndromo o no. Luego, haz lo mismo de manera iterativa. Analiza la complejidad en tiempo y espacio de ambas."
   ]
  }
 ],
 "metadata": {
  "colab": {
   "collapsed_sections": [],
   "include_colab_link": true,
   "name": "Analizando Complejidad en Algoritmos.ipynb",
   "provenance": []
  },
  "kernelspec": {
   "display_name": "Python 3",
   "language": "python",
   "name": "python3"
  },
  "language_info": {
   "codemirror_mode": {
    "name": "ipython",
    "version": 3
   },
   "file_extension": ".py",
   "mimetype": "text/x-python",
   "name": "python",
   "nbconvert_exporter": "python",
   "pygments_lexer": "ipython3",
   "version": "3.9.13"
  }
 },
 "nbformat": 4,
 "nbformat_minor": 4
}
