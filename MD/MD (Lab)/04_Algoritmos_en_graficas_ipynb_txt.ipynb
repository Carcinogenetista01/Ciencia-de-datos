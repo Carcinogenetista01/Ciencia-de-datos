{
 "cells": [
  {
   "cell_type": "markdown",
   "metadata": {
    "id": "view-in-github"
   },
   "source": [
    "<a href=\"https://colab.research.google.com/github/RodolfoFigueroa/madi2024/blob/main/Unidad_1/04_Algoritmos_en_graficas.ipynb\" target=\"_parent\"><img src=\"https://colab.research.google.com/assets/colab-badge.svg\" alt=\"Open In Colab\"/></a>"
   ]
  },
  {
   "cell_type": "code",
   "execution_count": 1,
   "metadata": {
    "id": "Mp2n8a9m1QIA"
   },
   "source": [
    "import matplotlib.pyplot as plt\n",
    "import networkx as nx\n",
    "import numpy as np"
   ],
   "outputs": []
  },
  {
   "cell_type": "markdown",
   "metadata": {
    "id": "1IpXBIpz2E1h"
   },
   "source": [
    "En esta sesión veremos algunos algoritmos relacionados con gráficas\n",
    "\n",
    "# Encontrar hojas\n",
    "\n",
    "Dado un árbol, encuentra sus hojas. Recuerda que las hojas son aquellos vértices que tienen un único vecino, es decir, tienen grado 1."
   ]
  },
  {
   "cell_type": "code",
   "execution_count": 2,
   "metadata": {
    "colab": {
     "base_uri": "https://localhost:8080/",
     "height": 516
    },
    "id": "E_V4gpFuE_hf",
    "outputId": "3c11aec1-ba11-4812-c25a-cc9582a4768e"
   },
   "source": [
    "G = nx.random_tree(10)\n",
    "nx.draw(G, with_labels=True, font_weight='bold')"
   ],
   "outputs": []
  },
  {
   "cell_type": "code",
   "execution_count": 3,
   "metadata": {
    "colab": {
     "base_uri": "https://localhost:8080/"
    },
    "id": "15QAv49hQllP",
    "outputId": "40bfa89c-0b2c-4438-c62a-60d4c8a0a392"
   },
   "source": [
    "hojas = []\n",
    "for v in G.nodes:\n",
    "    if G.degree[v] == 1:\n",
    "        hojas.append(v)\n",
    "print(hojas)"
   ],
   "outputs": []
  },
  {
   "cell_type": "markdown",
   "metadata": {
    "id": "s9nGfiiNLM1Y"
   },
   "source": [
    "Como las hojas tienen un único vecino, su grado es $1$, por lo que podemos aprovechar el atributo `degree` de la gráfica."
   ]
  },
  {
   "cell_type": "markdown",
   "metadata": {
    "id": "LKQLx2kSAJlN"
   },
   "source": [
    "# Depth-first search (DFS)\n",
    "\n",
    "Este algoritmo nos permite recorrer la gráfica por profundidad, es decir, dado un vértice inicial $v$, explora la gráfica la mayor distancia posible a lo largo de cada rama antes de regresar.\n",
    "\n",
    "El recorrido de este algoritmo nos da un árbol, comúnmente llamado árbol de DFS, que suele ser muy útil.\n",
    "\n",
    "Escribimos ahora nuestro algoritmo; lo definimos de manera recursiva:"
   ]
  },
  {
   "cell_type": "code",
   "metadata": {
    "id": "wmnzFz9OQllS",
    "ExecuteTime": {
     "end_time": "2024-09-10T23:42:55.630963Z",
     "start_time": "2024-09-10T23:42:55.515522Z"
    }
   },
   "source": [
    "def dfs(g, v, visited=None, dfs_path=None):\n",
    "    if visited is None:\n",
    "        visited = [False] * len(g.nodes)\n",
    "\n",
    "    if dfs_path is None:\n",
    "        dfs_path = []\n",
    "\n",
    "    visited[v] = True\n",
    "\n",
    "    dfs_path.append(v) # Aquí puede ir cualquier otra cosa que querramos hacer con cada vértice de la gráfica\n",
    "    \n",
    "    for u in g.adj[v]:\n",
    "        if not visited[u]:\n",
    "            dfs(g, u, visited, dfs_path)\n",
    "    return dfs_path"
   ],
   "execution_count": 1,
   "outputs": []
  },
  {
   "cell_type": "markdown",
   "metadata": {
    "id": "04msPkixQllS"
   },
   "source": [
    "Generamos una gráfica aleatoria para probarlo:"
   ]
  },
  {
   "cell_type": "code",
   "execution_count": null,
   "metadata": {
    "colab": {
     "base_uri": "https://localhost:8080/",
     "height": 516
    },
    "id": "MGKdGGlZA-Zj",
    "outputId": "51278ad7-ee88-442e-fc9e-2bd231366c31"
   },
   "source": [
    "G = nx.gnp_random_graph(8, 1/3)\n",
    "nx.draw(G, with_labels=True, font_weight='bold')"
   ],
   "outputs": []
  },
  {
   "cell_type": "code",
   "execution_count": null,
   "metadata": {
    "colab": {
     "base_uri": "https://localhost:8080/"
    },
    "id": "gKH6GWJeQllT",
    "outputId": "af3628dd-9572-4bc4-deed-0938f80b0261"
   },
   "source": [
    "dfs(G, 0)"
   ],
   "outputs": []
  },
  {
   "cell_type": "markdown",
   "metadata": {
    "id": "0tFevryLUJg4"
   },
   "source": [
    "También podemos implementar el algoritmo de manera iterativa:"
   ]
  },
  {
   "cell_type": "code",
   "execution_count": null,
   "metadata": {
    "id": "hntRVrvgUJE1"
   },
   "source": [
    "def dfs_iterativo(g, v):\n",
    "\n",
    "\n",
    "  dfs_path = []\n",
    "  visitados = []\n",
    "  pila = [v]\n",
    "\n",
    "  while pila != []:\n",
    "    v_actual = pila.pop()\n",
    "    visitados.append(v_actual)\n",
    "    dfs_path.append(v_actual)\n",
    "    for u in g.adj[v_actual]:\n",
    "      if u not in visitados:\n",
    "        pila.append(u)\n",
    "  return dfs_path"
   ],
   "outputs": []
  },
  {
   "cell_type": "code",
   "execution_count": null,
   "metadata": {
    "colab": {
     "base_uri": "https://localhost:8080/"
    },
    "id": "1ycfLZ6gUG_p",
    "outputId": "b783b7a5-8887-4740-d39e-9073e47815ea"
   },
   "source": [
    "dfs(G,0)"
   ],
   "outputs": []
  },
  {
   "cell_type": "markdown",
   "metadata": {},
   "source": [
    "# Número de componentes conexas\n",
    "\n",
    "El algoritmo BFS puede ayudarnos a saber cuántas componentes conexas tiene una gráfica G. Basta iterar sobre los vértices de G: Si $v$ no ha sido marcado, aplicamos BFS sobre v y aumentamos el número de componentes conexas en 1. Si el vértice ya ha sido marcado, continuamos con la iteración."
   ]
  },
  {
   "cell_type": "code",
   "execution_count": 44,
   "metadata": {},
   "source": [
    "def num_componentes_conexas(G):\n",
    "    visitados = [False] * len(G.nodes)\n",
    "    num_componentes_conexas = 0\n",
    "    for v in range(len(G.nodes)):\n",
    "        if visitados[v] == False:\n",
    "            num_componentes_conexas = num_componentes_conexas + 1\n",
    "            visitados[v] = True\n",
    "            dfs(G, v, visitados)\n",
    "    return num_componentes_conexas"
   ],
   "outputs": []
  },
  {
   "cell_type": "markdown",
   "metadata": {},
   "source": [
    "Probemos nuestro código en la siguiente gráfica:"
   ]
  },
  {
   "cell_type": "code",
   "execution_count": 55,
   "metadata": {},
   "source": [
    "G = nx.gnp_random_graph(15, 1/5, seed=42)\n",
    "#G.add_node(15)\n",
    "#G.add_edge(15,12)\n",
    "nx.draw(G, with_labels=True, font_weight='bold')"
   ],
   "outputs": []
  },
  {
   "cell_type": "code",
   "execution_count": 47,
   "metadata": {},
   "source": [
    "num_componentes_conexas(G)"
   ],
   "outputs": []
  },
  {
   "cell_type": "markdown",
   "metadata": {
    "id": "YnKKRH4XCKw0"
   },
   "source": [
    "## Altura de un árbol\n",
    "\n",
    "Encontremos la altura de un árbol usando DFS; el procedimiento es bastante sencillo: todo lo que tenemos que hacer es calcular la altura de cada uno de los vértices, guardando el valor más alto encontrado en cada llamada recursiva:"
   ]
  },
  {
   "cell_type": "code",
   "execution_count": 5,
   "metadata": {
    "id": "ggAg_-2ODLvp"
   },
   "source": [
    "def tree_height(\n",
    "    g, # Gráfica a analizar\n",
    "    v, # Vértice inicial\n",
    "    heights = None, # Lista de alturas\n",
    "    max_height = None # Altura máxima\n",
    "):\n",
    "    if heights is None:\n",
    "        heights = [-1] * len(g.nodes)\n",
    "        heights[v] = 0\n",
    "\n",
    "    if max_height is None:\n",
    "        max_height = [0] # La hacemos una lista para guardarla de manera sencilla a lo largo de llamadas recursivas\n",
    "\n",
    "    for u in g.adj[v]:\n",
    "        if heights[u] == -1:\n",
    "            heights[u] = heights[v] + 1\n",
    "            if max_height[0] < heights[u]:\n",
    "                max_height[0] = heights[u]\n",
    "            tree_height(g, u, heights, max_height)\n",
    "    return max_height[0], heights"
   ],
   "outputs": []
  },
  {
   "cell_type": "markdown",
   "metadata": {
    "id": "bM0b6y89QllU"
   },
   "source": [
    "Otra manera de hacer esto sin tener que estar actualizando la altura máxima es simplemente calculando todas las alturas, y después obteniendo el máximo de la lista:"
   ]
  },
  {
   "cell_type": "code",
   "execution_count": null,
   "metadata": {
    "id": "r6JqOMPVQllU"
   },
   "source": [
    "def tree_height_2(\n",
    "    g, # Gráfica a analizar\n",
    "    v, # Vértice inicial\n",
    "    heights = None, # Lista de alturas\n",
    "):\n",
    "    if heights is None:\n",
    "        heights = [-1] * len(g.nodes)\n",
    "        heights[v] = 0\n",
    "\n",
    "    for u in g.adj[v]:\n",
    "        if heights[u] == -1:\n",
    "            heights[u] = heights[v] + 1\n",
    "            temp_height = tree_height_2(g, u, heights)\n",
    "    return max(heights), heights"
   ],
   "outputs": []
  },
  {
   "cell_type": "markdown",
   "metadata": {
    "id": "avvxkD5lQllV"
   },
   "source": [
    "El problema con esto es que tiene que iterar sobre toda la lista de alturas para encontrar el máximo, lo cual puede consumir mucho tiempo extra cuando se tengan muchos nodos."
   ]
  },
  {
   "cell_type": "code",
   "execution_count": 6,
   "metadata": {
    "colab": {
     "base_uri": "https://localhost:8080/",
     "height": 516
    },
    "id": "_3wBK3bIQllV",
    "outputId": "554baad0-8146-4491-e48f-6f68dbe4120a"
   },
   "source": [
    "T = nx.random_tree(10)\n",
    "nx.draw(T, with_labels=True, font_weight='bold', font_color=\"white\")"
   ],
   "outputs": []
  },
  {
   "cell_type": "code",
   "execution_count": 9,
   "metadata": {
    "colab": {
     "base_uri": "https://localhost:8080/"
    },
    "id": "plzNp1UoQllV",
    "outputId": "44b87155-6ec5-4593-f35f-9042659a9a26"
   },
   "source": [
    "m, h = tree_height(T, 0)\n",
    "print(m)\n",
    "print(h)"
   ],
   "outputs": []
  },
  {
   "cell_type": "markdown",
   "metadata": {
    "id": "K3vE4qNuQllV"
   },
   "source": [
    "## Coloreado\n",
    "\n",
    "El colorear una gráfica consiste en asignar un color a cada nodo, de modo que cada par de nodos adyacentes tengan colores distintos. En 1976, se probó que para cualquier gráfica planar (i.e., que las aristas no se cruzan) se necesitan a lo mucho [cuatro colores](https://en.wikipedia.org/wiki/Four_color_theorem), aunque el algoritmo que implementaremos usa más colores que este óptimo.\n",
    "\n",
    "El procedimiento es como sigue: recorremos la gráfica utilizando DFS. Si un nodo no está coloreado, significa que no lo hemos visitado, así que lo visitamos y lo coloreamos con el primer color que no tengan sus vecinos. Repetimos esto hasta que todos los nodos estén coloreados.\n",
    "\n",
    "Por simplicidad, identificamos los colores como números del 0 en adelante. Escribimos una función para encontrar el primer color no utilizado, dada una lista de los colores adyacentes (en otras palabras, el número más pequeño distinto de todos los números dados):"
   ]
  },
  {
   "cell_type": "code",
   "execution_count": null,
   "metadata": {
    "id": "ZfgbIwAXQllW"
   },
   "source": [
    "def first_available_color(neighbor_colors):\n",
    "    out = 0\n",
    "    while True:\n",
    "        if out not in neighbor_colors:\n",
    "            return out\n",
    "        out += 1"
   ],
   "outputs": []
  },
  {
   "cell_type": "markdown",
   "metadata": {
    "id": "K6xkKU7JQllW"
   },
   "source": [
    "Luego, definimos una función para hacer DFS y colorear. Al final de la ejecución, regresa una lista con los índices de los colores de cada nodo:"
   ]
  },
  {
   "cell_type": "code",
   "execution_count": null,
   "metadata": {
    "id": "07X2dtX6QllW"
   },
   "source": [
    "def graph_coloring(g, v, visited=None):\n",
    "    if visited is None:\n",
    "        visited = [-1] * len(g.nodes)\n",
    "\n",
    "    neighbor_colors = [ visited[n] for n in g.adj[v] ]\n",
    "    new_color = first_available_color(neighbor_colors)\n",
    "    visited[v] = new_color\n",
    "\n",
    "    for u in g.adj[v]:\n",
    "        if visited[u] == -1:\n",
    "            graph_coloring(g, u, visited)\n",
    "\n",
    "    return visited"
   ],
   "outputs": []
  },
  {
   "cell_type": "markdown",
   "metadata": {
    "id": "CevQWpkKQllW"
   },
   "source": [
    "Sin embargo, esta función no es suficiente. Para entender por qué, consideremos la siguiente gráfica:"
   ]
  },
  {
   "cell_type": "code",
   "execution_count": null,
   "metadata": {
    "colab": {
     "base_uri": "https://localhost:8080/",
     "height": 516
    },
    "id": "btEbaI4fQllW",
    "outputId": "4257248f-71ce-4bc6-84ab-4dd18cab76a6"
   },
   "source": [
    "G = nx.gnp_random_graph(15, 1/5, seed=42)\n",
    "nx.draw(G, with_labels=True, font_weight='bold')"
   ],
   "outputs": []
  },
  {
   "cell_type": "markdown",
   "metadata": {
    "id": "4C4FIwMlQllX"
   },
   "source": [
    "Podemos ver que tiene dos componentes conexas. Si iniciamos el recorrido DFS del nodo 12, lo que pasará es que no podrá visitar la otra componente conexa, y por lo tanto no actualizará los colores de sus vértices. Comprobando que esto pasa:"
   ]
  },
  {
   "cell_type": "code",
   "execution_count": null,
   "metadata": {
    "id": "Z5fPyJO2QllX",
    "outputId": "6073450b-2d25-4516-b8cc-8d4324795a6a"
   },
   "source": [
    "graph_coloring(G, 12)"
   ],
   "outputs": []
  },
  {
   "cell_type": "markdown",
   "metadata": {
    "id": "cfZMcd3gQllX"
   },
   "source": [
    "Para resolver esto, escribimos una función que itere sobre cada entrada de la lista `visited`, y si ve alguna que es `-1` (i.e., el vértice correspondiente no ha sido visitado), llama la función `graph_coloring`. De esta manera, todas las componentes conexas se visitarán:"
   ]
  },
  {
   "cell_type": "code",
   "execution_count": null,
   "metadata": {
    "id": "h_HOeytSQllX"
   },
   "source": [
    "def super_graph_coloring(g, visited=None):\n",
    "    if visited is None:\n",
    "        visited = [-1] * len(g.nodes)\n",
    "\n",
    "    for v, vis in enumerate(visited):\n",
    "        if vis == -1:\n",
    "            graph_coloring(g, v, visited)\n",
    "\n",
    "    return visited"
   ],
   "outputs": []
  },
  {
   "cell_type": "markdown",
   "metadata": {
    "id": "pu27V4fVQllX"
   },
   "source": [
    "Repitiendo sobre la gráfica anterior:"
   ]
  },
  {
   "cell_type": "code",
   "execution_count": null,
   "metadata": {
    "id": "ESjOJWLQQllX",
    "outputId": "683e96ee-7910-440a-f1c7-a3872e092071"
   },
   "source": [
    "node_colors = super_graph_coloring(G)\n",
    "node_colors"
   ],
   "outputs": []
  },
  {
   "cell_type": "markdown",
   "metadata": {
    "id": "3CGdGNNhQllX"
   },
   "source": [
    "Ahora podemos ver que todos los vértices fueron visitados y coloreados apropiadamente.\n",
    "\n",
    "Como bonus, mapeamos los índices a nombres de colores reales, y los utilizamos para graficar la gráfica:"
   ]
  },
  {
   "cell_type": "code",
   "execution_count": null,
   "metadata": {
    "id": "3w0ZbcfyQllY",
    "outputId": "40da7aee-34f6-4f6d-baaf-0d055ffb9e06"
   },
   "source": [
    "color_names = ['red', 'green', 'blue', 'orange']\n",
    "color_map = [None] * len(node_colors)\n",
    "for i, c in enumerate(node_colors):\n",
    "    color_map[i] = color_names[c]\n",
    "color_map"
   ],
   "outputs": []
  },
  {
   "cell_type": "code",
   "execution_count": null,
   "metadata": {
    "id": "oR2XlNvBQllY",
    "outputId": "728a4360-10e2-4ae6-cffd-407bb7a2bcc4"
   },
   "source": [
    "nx.draw(G, with_labels=True, font_weight='bold', node_color=color_map)"
   ],
   "outputs": []
  },
  {
   "cell_type": "markdown",
   "metadata": {
    "id": "BPZQhqqkQllY"
   },
   "source": [
    "## Ciclos\n",
    "\n",
    "¿Cómo detectar si una gráfica tiene algún ciclo? Para esto, recorremos la gráfica utilizando DFS, y en cada paso, vamos guardando el *padre* del vértice, i.e., el vértice en el que estábamos en el paso anterior. Si en algún momento estamos en un vértice que tenga un vértice adyacente que ya fue visitado, y que es distinto de su padre, entonces sabemos que existe un ciclo."
   ]
  },
  {
   "cell_type": "code",
   "execution_count": null,
   "metadata": {
    "id": "RoKn26taQllY"
   },
   "source": [
    "def dfs_cycle(g, v, parents=None, cycle=None):\n",
    "    if cycle is None:\n",
    "        cycle = [False]\n",
    "\n",
    "    if parents is None:\n",
    "        parents = [None] * len(g.nodes)\n",
    "        parents[v] = v\n",
    "\n",
    "    for u in g.adj[v]:\n",
    "        if parents[u] is None:\n",
    "            parents[u] = v\n",
    "            dfs_cycle(g, u, parents, cycle)\n",
    "        else:\n",
    "            if parents[v] != u:\n",
    "                cycle[0] = True\n",
    "\n",
    "    return cycle[0]"
   ],
   "outputs": []
  },
  {
   "cell_type": "markdown",
   "metadata": {
    "id": "CylHyzcdQllY"
   },
   "source": [
    "Al igual que en el caso del coloreado, tenemos que tomar en cuenta la posibilidad de que existan distintas componentes conexas:"
   ]
  },
  {
   "cell_type": "code",
   "execution_count": null,
   "metadata": {
    "id": "WsREPbE5QllY"
   },
   "source": [
    "def has_cycle(g):\n",
    "    parents = [None] * len(g.nodes)\n",
    "    cycle = False\n",
    "    for v in g.nodes:\n",
    "        if parents[v] is None:\n",
    "            parents[v] = v\n",
    "            component_cycle = dfs_cycle(g, v, parents)\n",
    "            cycle = cycle | component_cycle\n",
    "    return cycle"
   ],
   "outputs": []
  },
  {
   "cell_type": "markdown",
   "metadata": {
    "id": "L6w7l2ohQllZ"
   },
   "source": [
    "Generamos una gráfica para probar nuestro algoritmo:"
   ]
  },
  {
   "cell_type": "code",
   "execution_count": null,
   "metadata": {
    "colab": {
     "base_uri": "https://localhost:8080/",
     "height": 504
    },
    "id": "GrJx8CxufG8N",
    "outputId": "ed35aec8-ac4d-4224-e4fb-4be551e5efa1"
   },
   "source": [
    "G = nx.gnp_random_graph(10, 1/4, seed=42)\n",
    "nx.draw(G, with_labels=True, font_weight='bold')"
   ],
   "outputs": []
  },
  {
   "cell_type": "code",
   "execution_count": null,
   "metadata": {
    "id": "nfj8_QNWQllZ",
    "outputId": "bdb538e7-0990-4454-c015-1c93017179a8"
   },
   "source": [
    "has_cycle(G)"
   ],
   "outputs": []
  },
  {
   "cell_type": "markdown",
   "metadata": {
    "id": "N1XiciDqQllZ"
   },
   "source": [
    "Luego, generamos un árbol:"
   ]
  },
  {
   "cell_type": "code",
   "execution_count": null,
   "metadata": {
    "id": "gMlYIxlDQllZ",
    "outputId": "9142f098-49b0-49ca-8785-85529cc6df8a"
   },
   "source": [
    "G = nx.random_tree(10)\n",
    "nx.draw(G, with_labels=True, font_weight=\"bold\")"
   ],
   "outputs": []
  },
  {
   "cell_type": "markdown",
   "metadata": {
    "id": "cOBD0GKcQllZ"
   },
   "source": [
    "Comprobando que no tiene ciclos:"
   ]
  },
  {
   "cell_type": "code",
   "execution_count": null,
   "metadata": {
    "id": "SPvA2GvFQllZ",
    "outputId": "d7c67d4f-68ee-4392-e9fe-0b2f1ac0c409"
   },
   "source": [
    "has_cycle(G)"
   ],
   "outputs": []
  },
  {
   "cell_type": "markdown",
   "metadata": {
    "id": "HCg7n50GMaMB"
   },
   "source": [
    "# Breadth-first search\n",
    "\n",
    "Este algoritmos nos permite, a partir de cierto vértice recorrer la gráfica por anchura, es decir, irnos expandiendo a partir de un vértices inicial $v$, primero se visitan los vértices vecinos a $v$, después los vecinos de sus vecinos, y así sucesivamente.\n",
    "\n",
    "Esto en particular nos permite conocer la distancia del vértice $v$ a cualquier otro vértice de la gráfica, lo cual no es posible con DFS. Además, el recorrido que se hace con este algoritmo nos da un árbol generador de la componente conexa en la que se encuentra el vértice de donde partimos.\n",
    "\n",
    "Escribiremos un código por nuestra cuenta, por momento sin hacer uso de algoritmos de la librería NetworkX. Para esto, necesitaremos usar una estructura llamada **cola** (queue en inglés), cuya cualidad es que el primer objeto en ser insertado es el primero en ser eliminado."
   ]
  },
  {
   "cell_type": "code",
   "execution_count": 64,
   "metadata": {
    "id": "MKX4lTw5QllZ"
   },
   "source": [
    "from collections import deque\n",
    "\n",
    "def bfs(g, v):\n",
    "    visited = [False] * len(g.nodes)\n",
    "    visited[v] = True\n",
    "\n",
    "    q = deque()\n",
    "    q.append(v)\n",
    "\n",
    "    while q: # mientras q tenga elementos\n",
    "        u = q.popleft()\n",
    "        visited[u] = True\n",
    "        \n",
    "        print(u) # Pueden hacer lo que quieran\n",
    "        \n",
    "        for w in g.adj[u]:\n",
    "            if not visited[w] and w not in q:\n",
    "                q.append(w)"
   ],
   "outputs": []
  },
  {
   "cell_type": "code",
   "execution_count": 57,
   "metadata": {
    "colab": {
     "base_uri": "https://localhost:8080/",
     "height": 571
    },
    "id": "N6JRhvyNuxxi",
    "outputId": "d1a39203-0528-46bf-fad2-c50154f72e5d"
   },
   "source": [
    "G = nx.gnp_random_graph(10, 1/5, seed=42)\n",
    "nx.draw(G, with_labels=True, font_weight='bold', font_color=\"white\")"
   ],
   "outputs": []
  },
  {
   "cell_type": "code",
   "execution_count": 65,
   "metadata": {
    "colab": {
     "base_uri": "https://localhost:8080/",
     "height": 571
    },
    "id": "scTs_jQyQlla",
    "outputId": "d1a39203-0528-46bf-fad2-c50154f72e5d"
   },
   "source": [
    "bfs(G, 0)"
   ],
   "outputs": []
  },
  {
   "cell_type": "markdown",
   "metadata": {
    "id": "bA5NU-CUQlla"
   },
   "source": [
    "## Caminos\n",
    "\n",
    "¿Cómo podemos encontrar el camino más corto entre un par de vértices usando BFS?\n",
    "\n",
    "Notemos que podemos hacer algunas ligeras modificaciones para lograr nuestro objetivo: en lugar de que `visited` guarde si ya vimmos al vértice o no, crearemos una lista `parents` que guarde al vértice 'padre' de cada vértice que se vaya visitando, es decir, si $u$ es vecino de $v$ y $u$ no ha sido visitado en el recorrido de nuestro BFS, haremos `parents[u] = v`, indicando que justo para pasar a $u$ pasamos por $v$ previamente.\n",
    "\n",
    "Notemos que al tener guardados estos 'padres' de los vértices podemos reconstruir fácilmente un camino de longitud mínima de entre `u` y `v`, pues basta con ir caminando sobre los padres de los vértices, comenzando por `v`, hasta llegar a `u`."
   ]
  },
  {
   "cell_type": "code",
   "execution_count": null,
   "metadata": {
    "id": "4d61k6JzQlla"
   },
   "source": [
    "def bfs_parents(g, v):\n",
    "    parents = [None] * len(g.nodes)\n",
    "    parents[v] = v\n",
    "\n",
    "    q = deque()\n",
    "    q.append(v)\n",
    "\n",
    "    while(q):\n",
    "        u = q.popleft()\n",
    "        for w in g.adj[u]:\n",
    "            if parents[w] is None:\n",
    "                parents[w] = u\n",
    "                q.append(w)\n",
    "    parents[v] = None\n",
    "    return parents"
   ],
   "outputs": []
  },
  {
   "cell_type": "markdown",
   "metadata": {
    "id": "xpJKbKbMQlla"
   },
   "source": [
    "Aplicándolo a la gráfica anterior, e imprimiendo los padres resultantes:"
   ]
  },
  {
   "cell_type": "code",
   "execution_count": null,
   "metadata": {
    "id": "gEV-Gaw_Qlla",
    "outputId": "9659fa64-5725-4e0f-8f7d-5a83b32bdb09"
   },
   "source": [
    "par = bfs_parents(G, 0)\n",
    "for i, p in enumerate(par):\n",
    "    print(f\"{i} es hijo de {p}\")"
   ],
   "outputs": []
  },
  {
   "cell_type": "markdown",
   "metadata": {
    "id": "_IqwWHEWQlla"
   },
   "source": [
    "Naturalmente, si cambiamos el vértice inicial, las relaciones padre-hijo cambian:"
   ]
  },
  {
   "cell_type": "code",
   "execution_count": null,
   "metadata": {
    "id": "V65mXG1cQlla",
    "outputId": "cce26317-6e78-4629-925c-41743f1435c8"
   },
   "source": [
    "par = bfs_parents(G, 7)\n",
    "for i, p in enumerate(par):\n",
    "    print(f\"{i} es hijo de {p}\")"
   ],
   "outputs": []
  },
  {
   "cell_type": "markdown",
   "metadata": {
    "id": "nbhqJzI7Qlla"
   },
   "source": [
    "Con esta lista de padres, podemos reconstruir un camino entre cualquier par de vértices. Empezamos en el vértice final, y vamos visitando su padre, luego el padre de su padre, y así sucesivamente hasta llegar al vértice inicial."
   ]
  },
  {
   "cell_type": "code",
   "execution_count": null,
   "metadata": {
    "id": "Nk9El0zfQllb"
   },
   "source": [
    "def path(g, start, end):\n",
    "    parents = bfs_parents(g, start)\n",
    "    if parents[end] is None: # No están en la misma componente conexa\n",
    "        return []\n",
    "    else:\n",
    "        out = [end]\n",
    "        while parents[end] != start:\n",
    "            end = parents[end]\n",
    "            out.append(end)\n",
    "        out.append(start)\n",
    "    return out"
   ],
   "outputs": []
  },
  {
   "cell_type": "markdown",
   "metadata": {
    "id": "26cV-SMqQllb"
   },
   "source": [
    "Usándolo para encontrar el camino entre el nodo 0 y el 7:"
   ]
  },
  {
   "cell_type": "code",
   "execution_count": null,
   "metadata": {
    "id": "XHAoBSAJQllb",
    "outputId": "0e419fd9-f914-4cc2-c65e-cedf27b0d806"
   },
   "source": [
    "path(G, 0, 7)"
   ],
   "outputs": []
  },
  {
   "cell_type": "markdown",
   "metadata": {
    "id": "ZxLG9fujQllb"
   },
   "source": [
    "Y entre el 4 y el 7 (que no se encuentran en la misma componente conexa):"
   ]
  },
  {
   "cell_type": "code",
   "execution_count": null,
   "metadata": {
    "id": "S3i6D568Qllb",
    "outputId": "fe69f758-a690-4945-e00b-996aa51f27cb"
   },
   "source": [
    "path(G, 4, 7)"
   ],
   "outputs": []
  },
  {
   "cell_type": "markdown",
   "metadata": {
    "id": "vEHkFNefQllb"
   },
   "source": [
    "# Árboles generadores\n",
    "\n",
    "El árbol generador de una gráfica $G$ es un árbol que contiene todos los vértices de $G$. Podemos usar DFS (o BFS) para producirlo de la siguiente manera:\n",
    "\n",
    "1. Caminamos toda la gráfica y obtenemos los padres de cada vértice.\n",
    "2. Insertamos una arista entre hijo y su padre.\n",
    "\n",
    "Al árbol resultante se le conoce como árbol DFS (BFS).\n",
    "\n",
    "Dado que ya tenemos una función para generar los padres con BFS (`bfs_parents`), escribimos una para hacerlo usando DFS:"
   ]
  },
  {
   "cell_type": "code",
   "execution_count": null,
   "metadata": {
    "id": "O40x548lQllb"
   },
   "source": [
    "def dfs_parents(g, v, parents=None):\n",
    "    if parents is None:\n",
    "        parents = [None] * len(g.nodes)\n",
    "        parents[v] = v\n",
    "\n",
    "    for u in g.adj[v]:\n",
    "        if parents[u] is None:\n",
    "            parents[u] = v\n",
    "            dfs_parents(g, u, parents)\n",
    "    return parents"
   ],
   "outputs": []
  },
  {
   "cell_type": "markdown",
   "metadata": {
    "id": "HggKNmzLQllb"
   },
   "source": [
    "Luego, escribimos una función para generar un árbol dada una lista de parentezco:"
   ]
  },
  {
   "cell_type": "code",
   "execution_count": null,
   "metadata": {
    "id": "6_75fXifQllc"
   },
   "source": [
    "def tree_from_parents(g, parents):\n",
    "    tree = nx.Graph()\n",
    "    tree.add_nodes_from(g.nodes)\n",
    "    for child, parent in enumerate(parents):\n",
    "        if child is not None and parent is not None and child != parent:\n",
    "            tree.add_edge(child, parent)\n",
    "    return tree"
   ],
   "outputs": []
  },
  {
   "cell_type": "markdown",
   "metadata": {
    "id": "0Ygqx1GsQllc"
   },
   "source": [
    "Generamos una gráfica de prueba:"
   ]
  },
  {
   "cell_type": "code",
   "execution_count": null,
   "metadata": {
    "id": "kOPv9dZTQllc",
    "outputId": "72adf451-86d9-482f-b206-cf3b5c08458e"
   },
   "source": [
    "G = nx.gnp_random_graph(15, 1/5, seed=42)\n",
    "nx.draw(G, with_labels=True, font_weight='bold')"
   ],
   "outputs": []
  },
  {
   "cell_type": "markdown",
   "metadata": {
    "id": "vBxTpzjIQllc"
   },
   "source": [
    "Calculamos sus parentezcos con BFS y DFS:"
   ]
  },
  {
   "cell_type": "code",
   "execution_count": null,
   "metadata": {
    "id": "BUcT_2BHQllc"
   },
   "source": [
    "bfs_par = bfs_parents(G, 0)\n",
    "dfs_par = dfs_parents(G, 0)"
   ],
   "outputs": []
  },
  {
   "cell_type": "markdown",
   "metadata": {
    "id": "3VOPpViPQllc"
   },
   "source": [
    "Generamos los árboles:"
   ]
  },
  {
   "cell_type": "code",
   "execution_count": null,
   "metadata": {
    "id": "SrDMn3GfQllc"
   },
   "source": [
    "bfs_tree = tree_from_parents(G, bfs_par)\n",
    "dfs_tree = tree_from_parents(G, dfs_par)"
   ],
   "outputs": []
  },
  {
   "cell_type": "markdown",
   "metadata": {
    "id": "m9iuUSixQllc"
   },
   "source": [
    "Y graficamos:"
   ]
  },
  {
   "cell_type": "code",
   "execution_count": null,
   "metadata": {
    "id": "6x8X7jXpQllc",
    "outputId": "632ec8de-e567-4e90-a6f2-3dba3f9e472d"
   },
   "source": [
    "fig, (ax1, ax2) = plt.subplots(1, 2, figsize=(14, 6))\n",
    "nx.draw(bfs_tree, ax=ax1, with_labels=True, font_weight=\"bold\")\n",
    "nx.draw(dfs_tree, ax=ax2, with_labels=True, font_weight=\"bold\")"
   ],
   "outputs": []
  },
  {
   "cell_type": "markdown",
   "metadata": {
    "id": "ed9BFYpaQllc"
   },
   "source": [
    "# Ejercicios"
   ]
  },
  {
   "cell_type": "markdown",
   "metadata": {
    "id": "daItrl6LQlld"
   },
   "source": [
    "## Ejercicio 1\n",
    "\n",
    "Escribe un algoritmo `num_connected(G)` que, dada una gráfica `G`, regrese el número de componentes conexas que tiene."
   ]
  },
  {
   "cell_type": "markdown",
   "metadata": {
    "id": "gf5iUS_fQlld"
   },
   "source": [
    "*Aquí va la descripción y explicación de tu algoritmo*"
   ]
  },
  {
   "cell_type": "code",
   "execution_count": null,
   "metadata": {
    "id": "gm4Qzzo0Qlld"
   },
   "source": [
    "# Aquí va tu código"
   ],
   "outputs": []
  },
  {
   "cell_type": "markdown",
   "metadata": {
    "id": "1nExJUv4Qlld"
   },
   "source": [
    "## Ejercicio 2\n",
    "\n",
    "Dada una matriz de 0s y 1s, donde los 0s representan agua y los 1s tierra, escribe un algoritmo de NetworkX que cuente el número de *islas* que hay. Una isla se define como un conjunto de celdas de tierra conectadas por alguno de sus cuatro lados. Deberás escribir una función para convertir la matriz a una gráfica que la represente adecuadamente.\n",
    "\n",
    "Por ejemplo, consideremos la siguiente matriz:"
   ]
  },
  {
   "cell_type": "code",
   "execution_count": null,
   "metadata": {
    "id": "nCJiVcxlQlld",
    "outputId": "5ae4002a-8fed-41b2-c89e-9a8ee351982d"
   },
   "source": [
    "M = np.zeros((10, 10))\n",
    "M[0, 0] = M[1, 0] = M[2, 0] = M[3, 0] = M[3, 1] = M[4, 1] = 1\n",
    "M[5, 5] = 1\n",
    "M[7, 0] = M[8, 0] = M[9, 0] = 1\n",
    "M[6, 6] = 1\n",
    "\n",
    "plt.imshow(M)"
   ],
   "outputs": []
  },
  {
   "cell_type": "markdown",
   "metadata": {
    "id": "IWR5tGWHQlld"
   },
   "source": [
    "Tu función debe de regresar **4** islas (nota que las dos islas de la derecha están separadas, ya que solo se tocan diagonalmente)."
   ]
  },
  {
   "cell_type": "markdown",
   "metadata": {
    "id": "Utxe8GTPQlld"
   },
   "source": [
    "*Aquí va la descripción y explicación de tu algoritmo*"
   ]
  },
  {
   "cell_type": "code",
   "execution_count": null,
   "metadata": {
    "id": "B5-0n1yIQlld"
   },
   "source": [
    "# Aquí va tu función"
   ],
   "outputs": []
  }
 ],
 "metadata": {
  "colab": {
   "provenance": []
  },
  "kernelspec": {
   "display_name": "Python 3 (ipykernel)",
   "language": "python",
   "name": "python3"
  },
  "language_info": {
   "codemirror_mode": {
    "name": "ipython",
    "version": 3
   },
   "file_extension": ".py",
   "mimetype": "text/x-python",
   "name": "python",
   "nbconvert_exporter": "python",
   "pygments_lexer": "ipython3",
   "version": "3.9.13"
  }
 },
 "nbformat": 4,
 "nbformat_minor": 0
}
