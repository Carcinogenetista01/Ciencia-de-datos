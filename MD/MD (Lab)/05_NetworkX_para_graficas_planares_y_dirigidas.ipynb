{
 "cells": [
  {
   "cell_type": "markdown",
   "metadata": {
    "id": "view-in-github"
   },
   "source": [
    "<a href=\"https://colab.research.google.com/github/RodolfoFigueroa/madi2024/blob/main/Unidad_1/05_NetworkX_para_graficas_planares_y_dirigidas.ipynb\" target=\"_parent\"><img src=\"https://colab.research.google.com/assets/colab-badge.svg\" alt=\"Open In Colab\"/></a>"
   ]
  },
  {
   "cell_type": "code",
   "execution_count": null,
   "metadata": {
    "id": "2TUZkoNz6G8Y"
   },
   "source": [
    "import matplotlib.pyplot as plt\n",
    "import networkx as nx\n",
    "from collections import deque"
   ],
   "outputs": []
  },
  {
   "cell_type": "markdown",
   "metadata": {
    "id": "th2nvOFL40S9"
   },
   "source": [
    "En esta sesión veremos cómo trabajar aspectos de planaridad y gráficas dirigidas usando la librería NetworkX.\n",
    "\n",
    "# DFS y BFS\n",
    "\n",
    "Como las gráficas ahora son dirigidas, hay que tomar en consideración la dirección de las aristas si queremos recorrerlas con DFS o BFS. Por suerte, en el caso de gráficas dirigidas, `g.adj[i]` solo regresa los vértices sucesores de `i`:"
   ]
  },
  {
   "cell_type": "code",
   "execution_count": null,
   "metadata": {
    "colab": {
     "base_uri": "https://localhost:8080/",
     "height": 516
    },
    "id": "UInaLpy-T7rl",
    "outputId": "1acad442-e8a6-4b6b-95ac-4ad067d3b966"
   },
   "source": [
    "G = nx.gnp_random_graph(8, 0.2, directed=True)\n",
    "nx.draw(G, with_labels=True, font_weight='bold')"
   ],
   "outputs": []
  },
  {
   "cell_type": "code",
   "execution_count": null,
   "metadata": {
    "colab": {
     "base_uri": "https://localhost:8080/"
    },
    "id": "ssBGv38lT7rl",
    "outputId": "c7538561-60ef-4707-8dc4-6ddd56eeed06"
   },
   "source": [
    "print(f\"Vértices adyacentes a 0: {G.adj[0]}\")"
   ],
   "outputs": []
  },
  {
   "cell_type": "markdown",
   "metadata": {
    "id": "7yRE-n9aT7rm"
   },
   "source": [
    "De esta manera, podemos utilizar los algoritmos de DFS y BFS que escribimos en libretas pasadas sin hacer ningún cambio:"
   ]
  },
  {
   "cell_type": "code",
   "execution_count": null,
   "metadata": {
    "id": "bDMWxqinT7rn"
   },
   "source": [
    "def dfs(g, v, visited=None):\n",
    "    if visited is None:\n",
    "        visited = [False] * len(g.nodes)\n",
    "    visited[v] = True\n",
    "    print(v)\n",
    "    for u in g.adj[v]:\n",
    "        if not visited[u]:\n",
    "            dfs(g, u, visited)\n",
    "\n",
    "\n",
    "def bfs(g, v):\n",
    "    visited = [False] * len(g.nodes)\n",
    "    q = deque()\n",
    "    visited[v] = True\n",
    "    q.append(v)\n",
    "\n",
    "    while(q):\n",
    "        u = q.popleft()\n",
    "        print(u)\n",
    "        for w in g.adj[u]:\n",
    "            if not visited[w]:\n",
    "                visited[w] = True\n",
    "                q.append(w)"
   ],
   "outputs": []
  },
  {
   "cell_type": "markdown",
   "metadata": {
    "id": "GHQpq3-D5K6H"
   },
   "source": [
    "# Propiedades\n",
    "\n",
    "`networkx` tiene varias funciones para obtener distintas propiedades de las gráficas:"
   ]
  },
  {
   "cell_type": "code",
   "execution_count": null,
   "metadata": {
    "colab": {
     "base_uri": "https://localhost:8080/",
     "height": 516
    },
    "id": "o4_viy8w6EjS",
    "outputId": "82f9f340-673a-4b3a-cdd4-5b773af6e1b4"
   },
   "source": [
    "G = nx.gnp_random_graph(8, 0.2, directed=True)\n",
    "nx.draw(G, with_labels=True, font_weight='bold')"
   ],
   "outputs": []
  },
  {
   "cell_type": "code",
   "execution_count": null,
   "metadata": {
    "colab": {
     "base_uri": "https://localhost:8080/"
    },
    "outputId": "a93a2b05-dab2-4a48-ef16-e8b81b3ba60d",
    "id": "WbiIYstrT7ro"
   },
   "source": [
    "print(\n",
    "f\"\"\"Los vértices de la digráfica son : {G.nodes}\n",
    "Las aristas de la digráfica son: {G.edges}\n",
    "Lista de los ingrados por cada vértice: {G.in_degree}\n",
    "Lista de los exgrados por cada vértice: {G.out_degree}\n",
    "Ingrado de un vértice en particular: {G.in_degree[1]}\n",
    "Lista de vértices ex-vecinos  1: {list(G.successors(1))}\n",
    "Lista de vértices ex-vecinos a 1, con atributos: {G.adj[1]}\n",
    "Lista de flechas que entran a 2: {G.in_edges(2)}\n",
    "Lista de in-vecinos de 2: {list(G.predecessors(2))}\"\"\"\n",
    ")"
   ],
   "outputs": []
  },
  {
   "cell_type": "markdown",
   "metadata": {
    "id": "vsPIoS9cT7rp"
   },
   "source": [
    "# Accesibilidad y conexidad\n",
    "\n",
    "Decimos que un vértice $v$ es **accesible** desde $u$ si existe un camino *dirigido* entre $u$ y $v$. Es importante notar dos cosas:\n",
    "\n",
    "1. $u$ y $v$ pueden estar en la misma componente conexa, pero no ser accesibles uno desde el otro.\n",
    "\n",
    "2. Que $v$ sea accesible desde $u$ no implica lo inverso.\n",
    "\n",
    "A continuación, demostramos dos gráficas que ilustran estos puntos:"
   ]
  },
  {
   "cell_type": "code",
   "execution_count": null,
   "metadata": {
    "colab": {
     "base_uri": "https://localhost:8080/",
     "height": 516
    },
    "id": "3aOLrSclT7rp",
    "outputId": "814a5157-186e-43fd-bbc0-94acedaa31a5"
   },
   "source": [
    "g = nx.DiGraph()\n",
    "g.add_edges_from([(0,1), (1,2), (3,2)])\n",
    "nx.draw(g, with_labels=True, font_weight='bold')"
   ],
   "outputs": []
  },
  {
   "cell_type": "markdown",
   "metadata": {
    "id": "-6uDIhnNT7rp"
   },
   "source": [
    "Podemos ver que todos los vértices están conectados, pero 0 no es accesible desde 3, y viceversa.\n",
    "\n",
    "Por otro lado:"
   ]
  },
  {
   "cell_type": "code",
   "execution_count": null,
   "metadata": {
    "colab": {
     "base_uri": "https://localhost:8080/",
     "height": 516
    },
    "id": "LF6tLs_dT7rp",
    "outputId": "6d2d2d68-ef2f-46f9-89b1-1cb3e8128bc8"
   },
   "source": [
    "g = nx.DiGraph()\n",
    "g.add_edges_from([(0,1), (1,2), (2,3)])\n",
    "nx.draw(g, with_labels=True, font_weight='bold')"
   ],
   "outputs": []
  },
  {
   "cell_type": "markdown",
   "metadata": {
    "id": "jFqAMxWdT7rp"
   },
   "source": [
    "3 es accesible desde 0, pero no lo opuesto.\n",
    "\n",
    "Se dice que $u$ y $v$ están *fuertemente conectados* si $u$ es accesible desde $v$, y $v$ desde $u$. Si cada par de vértices de una gráfica está fuertemente conectado, se dice que la gráfica entera es fuertemente conexa.\n",
    "\n",
    "Para determinar si $v$ es accesible desde $u$, basta con hacer DFS usando $u$ como el nodo raíz. Si eventualmente visitamos a $v$, significa que sí lo es:"
   ]
  },
  {
   "cell_type": "code",
   "execution_count": null,
   "metadata": {
    "id": "XuQzpiKwT7rq"
   },
   "source": [
    "def is_reachable(g, inicial, final, visited = None):\n",
    "    if visited is None:\n",
    "        visited = [False] * len(g.nodes)\n",
    "    visited[inicial] = True\n",
    "    for u in g.adj[inicial]:\n",
    "      if visited[final]:\n",
    "        return True\n",
    "      if not visited[u]:\n",
    "        is_reachable(g, u, final, visited)\n",
    "    return visited[final]\n"
   ],
   "outputs": []
  },
  {
   "cell_type": "markdown",
   "metadata": {
    "id": "L_iJgtLAT7rq"
   },
   "source": [
    "Usando nuestra gráfica anterior:"
   ]
  },
  {
   "cell_type": "code",
   "execution_count": null,
   "metadata": {
    "colab": {
     "base_uri": "https://localhost:8080/",
     "height": 516
    },
    "id": "v-XCSR0BT7rq",
    "outputId": "0f6b868d-44b1-4cfa-f520-7f134e72ba09"
   },
   "source": [
    "g = nx.DiGraph()\n",
    "g.add_edges_from([(0,1), (1,2), (2,3)])\n",
    "nx.draw(g, with_labels=True, font_weight='bold')"
   ],
   "outputs": []
  },
  {
   "cell_type": "code",
   "execution_count": null,
   "metadata": {
    "colab": {
     "base_uri": "https://localhost:8080/"
    },
    "id": "xUVGsS6cT7rq",
    "outputId": "f9fc2e93-46a9-48b2-eb95-30313d9f6594"
   },
   "source": [
    "print(f\"3 es accesible desde 0: {is_reachable(g, 0, 3)}\")\n",
    "print(f\"0 es accesible desde 3: {is_reachable(g, 3, 0)}\")"
   ],
   "outputs": []
  },
  {
   "cell_type": "markdown",
   "metadata": {
    "id": "NFFS37qtT7rq"
   },
   "source": [
    "# Ordenamientos topológicos\n",
    "\n",
    "Un ordenamiento topológico de los vértices de una gráfica dirigida cumple que, si existe una flecha del vértice $u$ al vértice $v$, entonces $u$ viene antes de $v$ en el ordenamiento.\n",
    "\n",
    "Por ejemplo, tomando la siguiente gráfica:"
   ]
  },
  {
   "cell_type": "code",
   "execution_count": null,
   "metadata": {
    "colab": {
     "base_uri": "https://localhost:8080/",
     "height": 516
    },
    "id": "TwsTkB_XT7rq",
    "outputId": "15c65666-092c-4b47-d47d-b65a9f20884c"
   },
   "source": [
    "g = nx.DiGraph()\n",
    "g.add_nodes_from([0,1,2,3,4,5,6,7,8])\n",
    "g.add_edges_from([(0, 4), (0, 3), (2, 5), (1, 4), (4, 5), (3, 6), (4, 7), (3, 7), (4, 2), (5, 8), (7, 8)])\n",
    "pos = {i: (i%3, 3-i//3*3) for i in g.nodes}\n",
    "nx.draw(g, with_labels=True, pos=pos)"
   ],
   "outputs": []
  },
  {
   "cell_type": "markdown",
   "metadata": {
    "id": "V8R7DZBVT7rq"
   },
   "source": [
    "Algunos ordenamientos posibles son:\n",
    "\n",
    "* 1, 0, 3, 6, 4, 2, 5, 7, 8\n",
    "* 0, 1, 3, 4, 6, 7, 2, 5, 8\n",
    "* 0, 3, 6, 1, 4, 2, 5, 7, 8\n",
    "\n",
    "Una manera sencilla de comprobar si un ordenamiento es válido es colocar a todos los vértices en una fila, siguiendo el ordenamiento de izquierda a derecha. Si todas las aristas apuntan hacia la derecha, entonces es válido.\n",
    "\n",
    "Definimos una pequeña función para generar un arreglo de posiciones para graficar dado un posible ordenamiento:"
   ]
  },
  {
   "cell_type": "code",
   "execution_count": null,
   "metadata": {
    "id": "usbWx-lPT7rr"
   },
   "source": [
    "def pos_order(order):\n",
    "    pos = {}\n",
    "    for i, v in enumerate(order):\n",
    "        pos[v] = (i,5)\n",
    "    return pos"
   ],
   "outputs": []
  },
  {
   "cell_type": "markdown",
   "metadata": {
    "id": "bXItfHa6T7rr"
   },
   "source": [
    "Aplicándolo a nuestros ordenamientos:"
   ]
  },
  {
   "cell_type": "code",
   "execution_count": null,
   "metadata": {
    "id": "QiLGlXZAT7rr"
   },
   "source": [
    "sorts = [\n",
    "    [1, 0, 3, 6, 4, 2, 5, 7, 8],\n",
    "    [0, 1, 3, 4, 6, 7, 2, 5, 8],\n",
    "    [0, 3, 6, 1, 4, 2, 5, 7, 8]\n",
    "]"
   ],
   "outputs": []
  },
  {
   "cell_type": "code",
   "execution_count": null,
   "metadata": {
    "colab": {
     "base_uri": "https://localhost:8080/",
     "height": 422
    },
    "id": "7CBcRbNGT7rr",
    "outputId": "c702f76d-f10a-491b-dcb7-74ecfb33d81e"
   },
   "source": [
    "fig, ax = plt.subplots(3, 1, figsize=(7, 5))\n",
    "for i in range(3):\n",
    "    pos = pos_order(sorts[i])\n",
    "    #print(pos)\n",
    "    nx.draw(g, pos=pos, connectionstyle=\"arc3,rad=-0.5\", with_labels=True, font_weight='bold', ax=ax[i])\n",
    "    ax[i].margins(0, 0.2)"
   ],
   "outputs": []
  },
  {
   "cell_type": "markdown",
   "metadata": {
    "id": "BXQDAlV5T7rr"
   },
   "source": [
    "Aplicándolo a un ordenamiento inválido:"
   ]
  },
  {
   "cell_type": "code",
   "execution_count": null,
   "metadata": {
    "id": "BDd6g2A2T7rr",
    "outputId": "f7187483-4856-45f5-88c2-842f19c175e9"
   },
   "source": [
    "pos = pos_order([3,0,1,2,4,5,6,7,8])\n",
    "nx.draw(g, pos=pos, connectionstyle=\"arc3,rad=-0.5\", with_labels=True, font_weight='bold')"
   ],
   "outputs": []
  },
  {
   "cell_type": "markdown",
   "metadata": {
    "id": "5wN-dO1dT7rr"
   },
   "source": [
    "## Ciclos\n",
    "\n",
    "Supongamos que tenemos una gráfica un ciclo de la forma $0\\rightarrow 1 \\rightarrow 2 \\rightarrow 0$. Si queremos generar un ordenamiento para esta gráfica, tendremos un problema, ya que por definición $0$ tiene que venir antes que $1$, $1$ antes que $2$, y $2$ antes que $0$, lo cual claramente no es posible.\n",
    "\n",
    "Por lo tanto, si una gráfica es ordenable, entonces no tiene ciclos. En la siguiente sección, veremos una prueba del converso (i.e., si la gráfica no tiene ciclos entonces es ordenable).\n",
    "\n",
    "**DAG: Directed acyclic graph**"
   ]
  },
  {
   "cell_type": "markdown",
   "metadata": {
    "id": "_wUT-UhgT7rr"
   },
   "source": [
    "## DFS y ordenamientos\n",
    "\n",
    "Como DFS visita cada vértice una única vez, es un candidato natural para generar órdenes topológicos. Tres maneras de listar (no ordenar!) los vértices usándolo son las siguientes:\n",
    "\n",
    "* **Preorder**: Visitamos a un nodo *antes* de visitar a sus hijos.\n",
    "\n",
    "* **Postorder**: Visitamos a un nodo *después* de visitar a sus hijos.\n",
    "\n",
    "* **Reverse postorder**: Invertimos los resultados de postorder.\n",
    "\n",
    "Implementamos el preorder y postorder:"
   ]
  },
  {
   "cell_type": "code",
   "execution_count": null,
   "metadata": {
    "id": "o7fJyoMXT7rs"
   },
   "source": [
    "def preorder_basic(g, v, visited=None, out=None):\n",
    "    if visited is None:\n",
    "        visited = [False] * len(g.nodes)\n",
    "    if out is None:\n",
    "        out = []\n",
    "\n",
    "    visited[v] = True\n",
    "    # Visitamos al vértice ANTES de hacer las llamadas recursivas\n",
    "    out.append(v)\n",
    "    for u in g.adj[v]:\n",
    "        if not visited[u]:\n",
    "            preorder_basic(g, u, visited, out)\n",
    "    return out\n",
    "\n",
    "def postorder_basic(g, v, visited=None, out=None):\n",
    "    if visited is None:\n",
    "        visited = [False] * len(g.nodes)\n",
    "    if out is None:\n",
    "        out = []\n",
    "\n",
    "    visited[v] = True\n",
    "    for u in g.adj[v]:\n",
    "        if not visited[u]:\n",
    "            postorder_basic(g, u, visited, out)\n",
    "    # Visitamos al vértice DESPUÉS de hacer las llamadas recursivas\n",
    "    out.append(v)\n",
    "    return out"
   ],
   "outputs": []
  },
  {
   "cell_type": "markdown",
   "metadata": {
    "id": "DeJne5V6T7rs"
   },
   "source": [
    "Ejecutándolos:"
   ]
  },
  {
   "cell_type": "code",
   "execution_count": null,
   "metadata": {
    "colab": {
     "base_uri": "https://localhost:8080/"
    },
    "id": "snzvWrRzT7rs",
    "outputId": "3b4e0347-2f4f-4d35-b19e-18332487683d"
   },
   "source": [
    "preorder_basic(g, 0)"
   ],
   "outputs": []
  },
  {
   "cell_type": "code",
   "execution_count": null,
   "metadata": {
    "colab": {
     "base_uri": "https://localhost:8080/"
    },
    "id": "N3gO39OJT7rs",
    "outputId": "03bc8b8d-6ad8-4391-de16-087f5a4b2632"
   },
   "source": [
    "postorder_basic(g, 0)"
   ],
   "outputs": []
  },
  {
   "cell_type": "markdown",
   "metadata": {
    "id": "Dw79wikZT7rs"
   },
   "source": [
    "Notamos que el vértice 1 no aparece en nuestros resultados. Esto se debe a que no es accesible desde el 0. Por lo tanto, escribimos un *wrapper* para asegurarnos que visite todos los vértices:"
   ]
  },
  {
   "cell_type": "code",
   "execution_count": null,
   "metadata": {
    "id": "SpLXx_nQT7rs"
   },
   "source": [
    "def preorder(g, v):\n",
    "    visited = [False] * len(g.nodes)\n",
    "    out = []\n",
    "    for v in g.nodes:\n",
    "      if not visited[v]:\n",
    "        preorder_basic(g, v, visited, out)\n",
    "    return out\n",
    "\n",
    "def postorder(g, v):\n",
    "    visited = [False] * len(g.nodes)\n",
    "    out = []\n",
    "    for v in g.nodes:\n",
    "      if not visited[v]:\n",
    "        postorder_basic(g, v, visited, out)\n",
    "    return out"
   ],
   "outputs": []
  },
  {
   "cell_type": "markdown",
   "metadata": {
    "id": "gxb4GOxqT7rs"
   },
   "source": [
    "Volviendo a ejecutarlo:"
   ]
  },
  {
   "cell_type": "code",
   "execution_count": null,
   "metadata": {
    "colab": {
     "base_uri": "https://localhost:8080/"
    },
    "id": "0uPFoxNJT7rs",
    "outputId": "48b8021b-f819-44ee-d02e-a345e1b77237"
   },
   "source": [
    "preorder(g, 0)"
   ],
   "outputs": []
  },
  {
   "cell_type": "code",
   "execution_count": null,
   "metadata": {
    "id": "xoJro9zVT7rs",
    "outputId": "59ca8260-412c-41ed-d9ac-540995778ba7"
   },
   "source": [
    "postorder(g, 0)"
   ],
   "outputs": []
  },
  {
   "cell_type": "markdown",
   "metadata": {
    "id": "AEgd0TuBT7rt"
   },
   "source": [
    "Con esto, podemos escribir una función para obtener el reverse postorder:"
   ]
  },
  {
   "cell_type": "code",
   "execution_count": null,
   "metadata": {
    "id": "HazfqO2cT7rt"
   },
   "source": [
    "def reverse_postorder(g, v):\n",
    "    out = postorder(g, v)[::-1]\n",
    "    return out"
   ],
   "outputs": []
  },
  {
   "cell_type": "code",
   "execution_count": null,
   "metadata": {
    "colab": {
     "base_uri": "https://localhost:8080/"
    },
    "id": "QSTdpbwmT7rt",
    "outputId": "bf9733d3-cd48-40fd-e58f-f23c3d3e6257"
   },
   "source": [
    "print(f\"\"\"Preorder: {preorder(g, 0)}\n",
    "Postorder: {postorder(g, 0)}\n",
    "Reverse postorder: {reverse_postorder(g, 0)}\"\"\")"
   ],
   "outputs": []
  },
  {
   "cell_type": "markdown",
   "metadata": {
    "id": "GDuk1oWRT7rt"
   },
   "source": [
    "**Proposición:** Reverse postorder genera un ordenamiento topológico para una gráfica acíclica.\n",
    "\n",
    "**Demostración:** Observemos el código de *postorder_basic* y supongamos que se está ejecutando *postorder_basic(x)*.\n",
    "\n",
    "Supongamos que la iteración sobre los ex-vecinos de $x$ ha terminado y $out = [v_{i_1}, ..., v_{i_j}]$.\n",
    "\n",
    "Eso significa que los ex-vecinos de $x$ deben encontrarse forsozamente en el conjunto $\\{v_{i_1}, ..., v_{i_j}\\}$.\n",
    "Así, al correr $out.append(x)$ terminamos con la lista\n",
    "$$out = [v_{i_1}, ..., v_{i_j}, x]$$\n",
    "\n",
    "De donde se sigue que todas las ex-flechas de $x$ apuntan a vértices detrás de él en la lista. Como esto sucede para cada vértice $x$ de la digráfica, al obtener la lista $out$ al finalizar el algoritmo, tenemos que para todo vértice $v$ se tiene que sus ex-flechas apuntan hacia atrás.\n",
    "\n",
    "Luego entonces, *reverse(out)* es un ordenamiendo donde todas las flechas apuntan hacia adelante.\n",
    "\n",
    "---\n",
    "\n",
    "Comprobemos de manera gráfica que el reverse postorder efectivamente genera un ordenamiento topológico válido. Lo comparamos con las otras maneras de listar los vértices:"
   ]
  },
  {
   "cell_type": "code",
   "execution_count": null,
   "metadata": {
    "colab": {
     "base_uri": "https://localhost:8080/",
     "height": 675
    },
    "id": "6g8QKJpNT7rt",
    "outputId": "b58fd404-fdcd-43a3-bd07-44444a713520"
   },
   "source": [
    "lists = [preorder(g, 0), postorder(g, 0), reverse_postorder(g, 0)]\n",
    "names = [\"Preorder\", \"Postorder\", \"Reverse postorder\"]\n",
    "\n",
    "fig, ax = plt.subplots(3, 1, figsize=(7, 8))\n",
    "for i in range(3):\n",
    "    pos = pos_order(lists[i])\n",
    "    nx.draw(g, pos=pos, connectionstyle=\"arc3,rad=-0.5\", with_labels=True, font_weight='bold', ax=ax[i])\n",
    "    ax[i].margins(0, 1)\n",
    "    ax[i].set_title(names[i])"
   ],
   "outputs": []
  },
  {
   "cell_type": "markdown",
   "metadata": {
    "id": "znLQ_rVZT7rt"
   },
   "source": [
    "Notamos que tanto en el postorder como el reverse postorder, todas las flechas apuntan hacia una misma dirección. Sin embargo, hay que recordar que en un ordenamiento válido, deben de apuntar hacia la **derecha**."
   ]
  },
  {
   "cell_type": "markdown",
   "metadata": {
    "id": "BxMoJ3iAT7rt"
   },
   "source": [
    "# Gráficas planares\n",
    "\n",
    "NetworkX tiene funciones ya integradas que nos permiten tanto checar si la gráfica es aplanable o no, y también nos muestra un encaje planar (del inglés, planar embedding) de la gráfica en caso de que esta sea aplanable."
   ]
  },
  {
   "cell_type": "code",
   "execution_count": null,
   "metadata": {
    "colab": {
     "base_uri": "https://localhost:8080/",
     "height": 534
    },
    "id": "XHqbSDuOS2BE",
    "outputId": "6d1656ac-57d8-439d-c2a3-b6085a290399"
   },
   "source": [
    "a = 5\n",
    "b = 0.8\n",
    "PL = nx.gnp_random_graph(a, b)\n",
    "\n",
    "if nx.check_planarity(PL)[0]:\n",
    "    print(\"Aplanable\")\n",
    "    nx.draw_planar(PL, with_labels=True, font_weight='bold')\n",
    "else:\n",
    "    print(\"No es aplanable\")\n",
    "    nx.draw(PL, with_labels=True, font_weight='bold')"
   ],
   "outputs": []
  },
  {
   "cell_type": "markdown",
   "metadata": {
    "id": "ITEPLp02T7ru"
   },
   "source": [
    "## Ejercicios"
   ]
  },
  {
   "cell_type": "markdown",
   "metadata": {
    "id": "t9qoQAnJT7ru"
   },
   "source": [
    "## Ejercicio 1\n",
    "\n",
    "Escribe una función para determinar si un ordenamiento dado en forma de una lista de vértices $[v_1, v_2, \\ldots, v_n]$ es un ordenamiento topológico."
   ]
  },
  {
   "cell_type": "markdown",
   "metadata": {
    "id": "47TpFLZLT7ru"
   },
   "source": [
    "*Aquí va la explicación de tu algoritmo*"
   ]
  },
  {
   "cell_type": "code",
   "metadata": {
    "id": "e0Wf7MuHT7ru",
    "ExecuteTime": {
     "end_time": "2024-09-17T20:47:58.537143Z",
     "start_time": "2024-09-17T20:47:57.394838Z"
    }
   },
   "source": [
    "import networkx as nx\n",
    "\n",
    "def is_topological_order(graph, order):\n",
    "    # Crear un diccionario que asocie cada vértice a su posición en el orden dado\n",
    "    position = {vertex: index for index, vertex in enumerate(order)}\n",
    "    \n",
    "    # Verificar si el orden respeta todas las aristas\n",
    "    for u, v in graph.edges():\n",
    "        if position[u] > position[v]:\n",
    "            return False\n",
    "    \n",
    "    return True\n",
    "\n",
    "# Ejemplo de uso\n",
    "a = 5\n",
    "b = 0.8\n",
    "PL = nx.gnp_random_graph(a, b, directed=True)\n",
    "\n",
    "if nx.check_planarity(PL)[0]:\n",
    "    print(\"Aplanable\")\n",
    "    nx.draw_planar(PL, with_labels=True, font_weight='bold')\n",
    "else:\n",
    "    print(\"No es aplanable\")\n",
    "    nx.draw(PL, with_labels=True, font_weight='bold')\n",
    "\n",
    "# Suponiendo que tienes un ordenamiento de vértices, por ejemplo:\n",
    "order = list(PL.nodes())\n",
    "# Verificar si es un ordenamiento topológico\n",
    "print(\"Es un ordenamiento topológico:\", is_topological_order(PL, order))\n"
   ],
   "execution_count": 1,
   "outputs": []
  },
  {
   "cell_type": "markdown",
   "metadata": {
    "id": "MHWwvjp6T7ru"
   },
   "source": [
    "## Ejercicio 2\n",
    "\n",
    "Como vimos anteriormente, una DAG (gráfica dirigida acíclica) puede tener múltiples ordenamientos topológicos. Escribe una función que determine si una DAG tiene un único ordenamiento. Compara tu resultado con lo obtenido con `nx.all_topological_sorts`."
   ]
  },
  {
   "cell_type": "markdown",
   "metadata": {
    "id": "nyVU7qLLT7ru"
   },
   "source": [
    "*Aquí va la explicación de tu algoritmo*"
   ]
  },
  {
   "cell_type": "code",
   "execution_count": null,
   "metadata": {
    "id": "CE11PoUnT7ru"
   },
   "source": [
    "# Aquí va tu código"
   ],
   "outputs": []
  }
 ],
 "metadata": {
  "colab": {
   "provenance": []
  },
  "kernelspec": {
   "display_name": "Python 3 (ipykernel)",
   "language": "python",
   "name": "python3"
  },
  "language_info": {
   "codemirror_mode": {
    "name": "ipython",
    "version": 3
   },
   "file_extension": ".py",
   "mimetype": "text/x-python",
   "name": "python",
   "nbconvert_exporter": "python",
   "pygments_lexer": "ipython3",
   "version": "3.9.13"
  }
 },
 "nbformat": 4,
 "nbformat_minor": 0
}
