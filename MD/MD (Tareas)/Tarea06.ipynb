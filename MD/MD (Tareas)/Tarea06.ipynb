{
 "cells": [
  {
   "metadata": {},
   "cell_type": "markdown",
   "source": "Estrada Montaño Abril Minerva",
   "id": "6ff119aad401722d"
  },
  {
   "metadata": {},
   "cell_type": "markdown",
   "source": [
    "## Ejercicio 1\n",
    "\n",
    "Como notamos en clase, la representación de matriz de adyacencia y lista de adyacencia es redundante para gráficas no-dirigidas. En el caso de la matriz de adyacencia, la siguiente matriz es equivalente a la de nuestro ejemplo:\n",
    "\n",
    "$$\n",
    "\\begin{pmatrix}\n",
    "0 & & & & \\\\\n",
    "1 & 0 & & & \\\\\n",
    "1 & 0 & 0 & & \\\\\n",
    "0 & 1 & 0 & 0 & \\\\\n",
    "1 & 0 & 0 & 1 & 0 \\\\\n",
    "\\end{pmatrix}\n",
    "$$\n",
    "\n",
    "Análogamente, nuestra lista de adyacencia puede reducirse a la siguiente forma:\n",
    "\n",
    "```\n",
    "0: 1, 2, 4\n",
    "1: 3\n",
    "2: \n",
    "3: 4\n",
    "4: \n",
    "```\n",
    "\n",
    "---\n",
    "\n",
    "Asumiendo que tenemos estas representaciones para una gráfica en general, explica cómo cambiaría (si es que lo hace) la complejidad en tiempo y espacio del algoritmo DFS."
   ],
   "id": "63b8fe731ae7d6c6"
  },
  {
   "metadata": {},
   "cell_type": "markdown",
   "source": [
    "# Complejidad en tiempo y espacio del algoritmo DFS\n",
    "**matriz de adyacencia** y **lista de adyacencia**.\n",
    "\n",
    "## 1. Matriz de Adyacencia\n",
    "\n",
    "### Representación:\n",
    "- La matriz de adyacencia es una tabla \\( V \\times V \\) donde \\( V \\) es el número de vértices. \n",
    "- Si hay una arista entre el vértice \\( i \\) y el vértice \\( j \\), entonces \\( \\text{matriz}[i][j] = 1 \\); de lo contrario, es \\( 0 \\).\n",
    "\n",
    "### Complejidad temporal:\n",
    "- Para verificar si existe una arista entre dos vértices, el acceso a la matriz es \\( O(1) \\).\n",
    "- Sin embargo, para explorar todos los vecinos de un vértice, debemos revisar toda su fila, lo que toma \\( O(V) \\).\n",
    "- En el peor caso, si visitamos todos los vértices, la complejidad total de DFS se convierte en \\( O(V^2) \\) debido a que exploramos todas las posibles conexiones.\n",
    "\n",
    "### Complejidad espacial:\n",
    "- La matriz ocupa \\( O(V^2) \\) espacio, ya que se almacenan todas las posibles conexiones, incluso si muchas son ceros (sin conexión).\n",
    "\n",
    "---\n",
    "\n",
    "## 2. Lista de Adyacencia\n",
    "\n",
    "### Representación:\n",
    "- La lista de adyacencia consiste en una colección de listas, donde cada lista contiene los vecinos de un vértice.\n",
    "- Solo se almacenan las conexiones reales, haciendo esta representación más eficiente.\n",
    "\n",
    "### Complejidad temporal:\n",
    "- Para verificar si existe una arista, debemos recorrer la lista de vecinos, lo que en el peor caso toma \\( O(E) \\) (donde \\( E \\) es el número de aristas).\n",
    "- Sin embargo, como cada vértice se visita solo una vez y cada arista se explora una vez, la complejidad total de DFS en este caso es \\( O(V + E) \\).\n",
    "\n",
    "### Complejidad espacial:\n",
    "- La lista de adyacencia ocupa \\( O(V + E) \\) espacio, ya que solo almacena las conexiones existentes, lo que es mucho más eficiente para gráficos dispersos.\n",
    "\n",
    "---\n",
    "\n",
    "## Conclusión\n",
    "\n",
    "- **Matriz de Adyacencia**:\n",
    "  - **Tiempo**: \\( O(V^2) \\)\n",
    "  - **Espacio**: \\( O(V^2) \\)\n",
    "  \n",
    "- **Lista de Adyacencia**:\n",
    "  - **Tiempo**: \\( O(V + E) \\)\n",
    "  - **Espacio**: \\( O(V + E) \\)\n",
    "\n",
    "En resumen, la lista de adyacencia es más eficiente en tiempo y espacio, especialmente para gráficos dispersos, mientras que la matriz de adyacencia puede ser ineficiente y consumir mucho espacio cuando hay muchos vértices y pocas conexiones.\n"
   ],
   "id": "9b87bd6c1b630302"
  },
  {
   "metadata": {},
   "cell_type": "markdown",
   "source": [
    "## Ejercicio 2\n",
    "\n",
    "Podemos definir el máximo común divisor de $a$ y $b$ de manera recursiva de la siguiente manera:\n",
    "\n",
    "$$\n",
    "\\text{mcd}(a, b) = \n",
    "\\begin{cases}\n",
    "a, & \\text{si}\\ b=0 \\\\\n",
    "\\text{mcd}(b, a\\mod b), & \\text{en otro caso} \n",
    "\\end{cases}\n",
    "$$\n",
    "\n",
    "Escribe una función que utilice esta definición para calcular el MCD de manera recursiva. Posteriormente, escribe otra que lo haga de manera iterativa. Explica la complejidad en tiempo y espacio de ambas."
   ],
   "id": "1b88861e549c1c8"
  },
  {
   "metadata": {},
   "cell_type": "code",
   "outputs": [],
   "execution_count": null,
   "source": [
    "def mcd_recursivo(a, b):\n",
    "    if b == 0:\n",
    "        return a\n",
    "    return mcd_recursivo(b, a % b)\n"
   ],
   "id": "66fcea734cb99332"
  },
  {
   "metadata": {},
   "cell_type": "code",
   "outputs": [],
   "execution_count": null,
   "source": [
    "def mcd_iterativo(a, b):\n",
    "    while b != 0:\n",
    "        a, b = b, a % b \n",
    "    return a\n"
   ],
   "id": "fb3ea51bc06d492d"
  },
  {
   "metadata": {},
   "cell_type": "markdown",
   "source": [
    "# Complejidad del Algoritmo\n",
    "\n",
    "## Complejidad Temporal (Recursiva e Iterativa)\n",
    "\n",
    "El número de pasos que realiza el algoritmo es proporcional al número de divisiones que se hacen. En cada paso, el tamaño de los números decrece de acuerdo a la relación \\( a \\mod b \\).\n",
    "\n",
    "**Tiempo de ejecución:** El número de pasos está acotado por \\( O(\\log(\\min(a, b))) \\), porque la función \\( a \\mod b \\) reduce el tamaño del problema en cada paso de forma considerable (división por el módulo). Por lo tanto, tanto la versión recursiva como la iterativa tienen una complejidad temporal de \n",
    "\n",
    "\\[\n",
    "O(\\log(\\min(a, b)))\n",
    "\\]\n",
    "\n",
    "## Complejidad Espacial\n",
    "\n",
    "**Solución recursiva:** La versión recursiva utiliza espacio en la pila de llamadas debido a las múltiples invocaciones recursivas. En el peor de los casos, puede haber hasta \\( O(\\log(\\min(a, b))) \\) llamadas recursivas, lo que hace que la complejidad espacial sea \n",
    "\n",
    "\\[\n",
    "O(\\log(\\min(a, b)))\n",
    "\\]\n",
    "\n",
    "**Solución iterativa:** La versión iterativa no requiere espacio adicional para la pila de llamadas, ya que se ejecuta en un solo ciclo. Por lo tanto, la complejidad espacial de la versión iterativa es \n",
    "\n",
    "\\[\n",
    "O(1)\n",
    "\\]\n",
    "\n",
    "ya que solo necesita almacenar un número constante de variables (en este caso, \\( a \\) y \\( b \\)).\n",
    "\n",
    "## Conclusión\n",
    "\n",
    "La versión recursiva tiene una complejidad temporal de \\( O(\\log(\\min(a, b))) \\) y una complejidad espacial de \\( O(\\log(\\min(a, b))) \\) debido a la pila de recursión. La versión iterativa tiene la misma complejidad temporal de \\( O(\\log(\\min(a, b))) \\), pero es más eficiente en términos de espacio, con una complejidad espacial de \\( O(1) \\).\n"
   ],
   "id": "4db21a735aea6386"
  },
  {
   "metadata": {},
   "cell_type": "markdown",
   "source": [
    "## Ejercicio 3\n",
    "\n",
    "Escribe una función recursiva que determine si un *string* dado es un palíndromo o no. Luego, haz lo mismo de manera iterativa. Analiza la complejidad en tiempo y espacio de ambas."
   ],
   "id": "5501f22b1333e660"
  },
  {
   "metadata": {
    "ExecuteTime": {
     "end_time": "2024-09-27T18:47:19.106303Z",
     "start_time": "2024-09-27T18:47:19.091317Z"
    }
   },
   "cell_type": "code",
   "source": [
    "import re\n",
    "def limpiar_string(s: str) -> str:\n",
    "    return re.sub(r'[^a-zA-Z0-9]', '', s).lower()"
   ],
   "id": "a821909dd2799590",
   "outputs": [],
   "execution_count": null
  },
  {
   "metadata": {},
   "cell_type": "code",
   "outputs": [],
   "execution_count": null,
   "source": [
    "def es_palindromo_recursivo(s: str) -> bool:\n",
    "    s = limpiar_string(s)  # Limpiamos el string\n",
    "    if len(s) <= 1:\n",
    "        return True\n",
    "    if s[0] != s[-1]:\n",
    "        return False\n",
    "    return es_palindromo_recursivo(s[1:-1])"
   ],
   "id": "94ca6eab28f14e57"
  },
  {
   "metadata": {
    "ExecuteTime": {
     "end_time": "2024-09-27T18:50:15.051512Z",
     "start_time": "2024-09-27T18:50:15.034737Z"
    }
   },
   "cell_type": "code",
   "source": [
    "\n",
    "def es_palindromo_iterativo(s: str) -> bool:\n",
    "    s = limpiar_string(s)  \n",
    "    izquierda, derecha = 0, len(s) - 1\n",
    "    while izquierda < derecha:\n",
    "        if s[izquierda] != s[derecha]:\n",
    "            return False\n",
    "        izquierda += 1\n",
    "        derecha -= 1\n",
    "    return True"
   ],
   "id": "191842a061bb4264",
   "outputs": [],
   "execution_count": 18
  }
 ],
 "metadata": {
  "kernelspec": {
   "display_name": "Python 3",
   "language": "python",
   "name": "python3"
  },
  "language_info": {
   "codemirror_mode": {
    "name": "ipython",
    "version": 2
   },
   "file_extension": ".py",
   "mimetype": "text/x-python",
   "name": "python",
   "nbconvert_exporter": "python",
   "pygments_lexer": "ipython2",
   "version": "2.7.6"
  }
 },
 "nbformat": 4,
 "nbformat_minor": 5
}
