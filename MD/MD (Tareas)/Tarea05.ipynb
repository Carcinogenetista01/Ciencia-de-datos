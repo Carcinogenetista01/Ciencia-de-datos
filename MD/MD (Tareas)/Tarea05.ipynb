{
 "cells": [
  {
   "metadata": {},
   "cell_type": "markdown",
   "source": [
    "## Ejercicio 1\n",
    "\n",
    "Escribe una función para determinar si un ordenamiento dado en forma de una lista de vértices $[v_1, v_2, \\ldots, v_n]$ es un ordenamiento topológico."
   ],
   "id": "2e766b4380188d7d"
  },
  {
   "metadata": {
    "ExecuteTime": {
     "end_time": "2024-09-17T20:48:36.032749Z",
     "start_time": "2024-09-17T20:48:35.582469Z"
    }
   },
   "cell_type": "code",
   "source": [
    "import networkx as nx\n",
    "\n",
    "def topologico(graph, order):\n",
    "    # Crear un diccionario que asocie cada vértice a su posición en el orden dado\n",
    "    posicion = {vertex: index for index, vertex in enumerate(order)}\n",
    "    \n",
    "    # Verificar si el orden respeta todas las aristas\n",
    "    for u, v in graph.edges():\n",
    "        if posicion[u] > posicion[v]:\n",
    "            return False\n",
    "    \n",
    "    return True\n",
    "\n",
    "a = 5\n",
    "b = 0.8\n",
    "PL = nx.gnp_random_graph(a, b, directed=True)\n",
    "\n",
    "if nx.check_planarity(PL)[0]:\n",
    "    print(\"Aplanable\")\n",
    "    nx.draw_planar(PL, with_labels=True, font_weight='bold')\n",
    "else:\n",
    "    print(\"No es aplanable\")\n",
    "    nx.draw(PL, with_labels=True, font_weight='bold')\n",
    "\n",
    "\n",
    "order = list(PL.nodes())\n",
    "print(\"Es un ordenamiento topológico:\", topologico(PL, order))\n"
   ],
   "id": "7324de24b23646fe",
   "execution_count": 1,
   "outputs": []
  },
  {
   "metadata": {},
   "cell_type": "markdown",
   "source": [
    "## Ejercicio 2\n",
    "\n",
    "Como vimos anteriormente, una DAG (gráfica dirigida acíclica) puede tener múltiples ordenamientos topológicos. Escribe una función que determine si una DAG tiene un único ordenamiento. Compara tu resultado con lo obtenido con `nx.all_topological_sorts`."
   ],
   "id": "facfb5eda11c1958"
  },
  {
   "metadata": {
    "ExecuteTime": {
     "end_time": "2024-09-17T20:53:15.029981Z",
     "start_time": "2024-09-17T20:53:15.018974Z"
    }
   },
   "cell_type": "code",
   "source": [
    "import networkx as nx\n",
    "\n",
    "def tiene_orden_topologico_unico(grafo):\n",
    "    # Contamos el número de predecesores de cada nodo\n",
    "    grado_entrada = {nodo: 0 for nodo in grafo.nodes()}\n",
    "    \n",
    "    # Actualizamos los grados de entrada basados en las aristas\n",
    "    for u, v in grafo.edges():\n",
    "        grado_entrada[v] += 1\n",
    "\n",
    "    # Encuentra todos los nodos sin predecesores (grado_entrada == 0)\n",
    "    sin_predecesores = [nodo for nodo in grado_entrada if grado_entrada[nodo] == 0]\n",
    "    \n",
    "    orden = []\n",
    "    \n",
    "    while sin_predecesores:\n",
    "        # Si hay más de un nodo sin predecesores, hay más de un ordenamiento posible\n",
    "        if len(sin_predecesores) > 1:\n",
    "            return False\n",
    "        \n",
    "        # Tomar el único nodo sin predecesores\n",
    "        actual = sin_predecesores.pop(0)\n",
    "        orden.append(actual)\n",
    "        \n",
    "        # Para cada vecino del nodo actual\n",
    "        for vecino in grafo.neighbors(actual):\n",
    "            # Reducir el grado de entrada de sus vecinos\n",
    "            grado_entrada[vecino] -= 1\n",
    "            if grado_entrada[vecino] == 0:\n",
    "                sin_predecesores.append(vecino)\n",
    "    \n",
    "    # Si se pudo generar un ordenamiento topológico completo, tiene uno único\n",
    "    return len(orden) == len(grafo.nodes())\n",
    "\n",
    "# Comparación con nx.all_topological_sorts\n",
    "def comparar_con_todos_los_ordenamientos(grafo):\n",
    "    todos_ordenamientos = list(nx.all_topological_sorts(grafo))\n",
    "    orden_unico = tiene_orden_topologico_unico(grafo)\n",
    "    \n",
    "    if orden_unico:\n",
    "        print(\"El grafo tiene un único ordenamiento topológico.\")\n",
    "    else:\n",
    "        print(f\"El grafo tiene {len(todos_ordenamientos)} ordenamientos topológicos distintos.\")\n",
    "\n",
    "# Ejemplo de uso\n",
    "n = 5\n",
    "p = 0.8\n",
    "grafo = nx.gnp_random_graph(n, p, directed=True)\n",
    "\n",
    "# Asegurarse de que sea un DAG\n",
    "if nx.is_directed_acyclic_graph(grafo):\n",
    "    comparar_con_todos_los_ordenamientos(grafo)\n",
    "else:\n",
    "    print(\"El grafo no es un DAG.\")\n"
   ],
   "id": "f4f24b60c447e469",
   "execution_count": 3,
   "outputs": []
  }
 ],
 "metadata": {
  "kernelspec": {
   "display_name": "Python 3",
   "language": "python",
   "name": "python3"
  },
  "language_info": {
   "codemirror_mode": {
    "name": "ipython",
    "version": 2
   },
   "file_extension": ".py",
   "mimetype": "text/x-python",
   "name": "python",
   "nbconvert_exporter": "python",
   "pygments_lexer": "ipython2",
   "version": "2.7.6"
  }
 },
 "nbformat": 4,
 "nbformat_minor": 5
}
