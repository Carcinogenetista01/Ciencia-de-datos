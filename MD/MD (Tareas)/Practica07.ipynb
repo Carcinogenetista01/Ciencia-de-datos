{
 "cells": [
  {
   "metadata": {},
   "cell_type": "markdown",
   "source": "Estrada Montaño Abril Minerva",
   "id": "e9657213fb17d069"
  },
  {
   "metadata": {},
   "cell_type": "markdown",
   "source": "# Practica 07. Arboles binarios de busqueda",
   "id": "fc639fa691a89963"
  },
  {
   "metadata": {},
   "cell_type": "markdown",
   "source": "### Ejercicio 1: Insertar Nodos en un BST",
   "id": "edd6af7c03091b08"
  },
  {
   "metadata": {},
   "cell_type": "code",
   "outputs": [],
   "execution_count": null,
   "source": [
    "class Node:\n",
    "    def __init__(self, val):\n",
    "        self.val = val\n",
    "        self.left = None\n",
    "        self.right = None\n",
    "\n",
    "    def insert(self, val):\n",
    "        if val < self.val:\n",
    "            if self.left is None:\n",
    "                self.left = Node(val)\n",
    "            else:\n",
    "                self.left.insert(val)\n",
    "        else:\n",
    "            if self.right is None:\n",
    "                self.right = Node(val)\n",
    "            else:\n",
    "                self.right.insert(val)"
   ],
   "id": "ea3d746280a19dd5"
  },
  {
   "metadata": {},
   "cell_type": "code",
   "outputs": [],
   "execution_count": null,
   "source": [
    "\n",
    "def inorder_traversal(root, result=None):\n",
    "    if result is None:\n",
    "        result = []\n",
    "    if root:\n",
    "        inorder_traversal(root.left, result)\n",
    "        result.append(root.val)\n",
    "        inorder_traversal(root.right, result)\n",
    "    return result"
   ],
   "id": "bfc74d6141ba53e"
  },
  {
   "metadata": {},
   "cell_type": "code",
   "outputs": [],
   "execution_count": null,
   "source": [
    "\n",
    "# Prueba del Ejercicio 1\n",
    "tree_1 = Node(4)\n",
    "tree_1.insert(2)\n",
    "tree_1.insert(1)\n",
    "tree_1.insert(3)\n",
    "tree_1.insert(6)\n",
    "tree_1.insert(5)\n",
    "tree_1.insert(7)\n",
    "inorder_result_1 = inorder_traversal(tree_1)\n",
    "inorder_result_1"
   ],
   "id": "7e38d56e451ce994"
  },
  {
   "metadata": {},
   "cell_type": "markdown",
   "source": [
    "#### Explicación\n",
    "En este ejercicio, se insertaron varios valores en un Árbol Binario de Búsqueda (BST).  \n",
    "Valores: 4, 2, 1, 3, 6, 5, 7.  \n",
    "El recorrido **inorden** debería devolver los valores en orden ascendente.\n",
    "---"
   ],
   "id": "e09b2c357d961ce3"
  },
  {
   "metadata": {},
   "cell_type": "markdown",
   "source": [
    "\n",
    "\n",
    "### **Ejercicio 2: Búsqueda en un BST**\n"
   ],
   "id": "a64050475433ebec"
  },
  {
   "metadata": {},
   "cell_type": "code",
   "outputs": [],
   "execution_count": null,
   "source": [
    "def search_bst(root, target):\n",
    "    \"\"\"Busca un valor en el BST. Devuelve True si lo encuentra, de lo contrario False.\"\"\"\n",
    "    if not root:\n",
    "        return False\n",
    "    if root.val == target:\n",
    "        return True\n",
    "    elif target < root.val:\n",
    "        return search_bst(root.left, target)\n",
    "    else:\n",
    "        return search_bst(root.right, target)"
   ],
   "id": "2770521bf79b49b"
  },
  {
   "metadata": {},
   "cell_type": "code",
   "outputs": [],
   "execution_count": null,
   "source": [
    "# Prueba del Ejercicio 2\n",
    "result_2_found = search_bst(tree_1, 5)  # Debería ser True\n",
    "result_2_not_found = search_bst(tree_1, 8)  # Debería ser False"
   ],
   "id": "587e15930e4278e0"
  },
  {
   "metadata": {},
   "cell_type": "markdown",
   "source": [
    "\n",
    "#### Explicación\n",
    "Se implementa una función de búsqueda en el BST.  \n",
    "- **Valor 5:** Existe en el árbol, por lo que devuelve `True`.\n",
    "- **Valor 8:** No está en el árbol, devuelve `False`.\n",
    "\n",
    "---"
   ],
   "id": "d2a4e8e5d0efc31c"
  },
  {
   "metadata": {},
   "cell_type": "markdown",
   "source": [
    "\n",
    "### **Ejercicio 3: Corrección de un BST con Nodos Intercambiados**"
   ],
   "id": "bb956b453c6c0ec7"
  },
  {
   "metadata": {},
   "cell_type": "code",
   "outputs": [],
   "execution_count": null,
   "source": [
    "def find_swapped_nodes(inorder_nodes):\n",
    "    first, second = None, None\n",
    "    for i in range(len(inorder_nodes) - 1):\n",
    "        if inorder_nodes[i].val > inorder_nodes[i + 1].val:\n",
    "            if not first:\n",
    "                first = inorder_nodes[i]\n",
    "            second = inorder_nodes[i + 1]\n",
    "    return first, second\n",
    "\n",
    "def fix_bst(root):\n",
    "    inorder_nodes = inorder_traversal(root, [])\n",
    "    first, second = find_swapped_nodes(inorder_nodes)\n",
    "    if first and second:\n",
    "        first.val, second.val = second.val, first.val\n",
    "\n",
    "# Árbol con nodos intercambiados\n",
    "tree_3 = Node(4)\n",
    "tree_3.insert(2)\n",
    "tree_3.insert(7)  # Nodo incorrecto\n",
    "tree_3.insert(0)\n",
    "tree_3.insert(3)\n",
    "tree_3.insert(6)\n",
    "tree_3.insert(5)\n",
    "tree_3.insert(1)  # Nodo incorrecto\n",
    "tree_3.insert(8)\n",
    "\n",
    "fix_bst(tree_3)  # Arreglar el árbol\n",
    "\n",
    "# Imprimir el árbol corregido en inorden\n",
    "inorder_traversal(tree_3)"
   ],
   "id": "2ded0a078acbf66a"
  },
  {
   "metadata": {},
   "cell_type": "markdown",
   "source": [
    "\n",
    "\n",
    "#### Explicación\n",
    "Este ejercicio corrige dos nodos mal colocados en el BST. Originalmente, los nodos 1 y 7 estaban intercambiados.\n",
    "\n",
    "**Árbol Original (Incorrecto):**\n",
    "```\n",
    "          4\n",
    "        /   \\\n",
    "       2     6\n",
    "      / \\   / \\\n",
    "     7   3  5   1\n",
    "    /           \\\n",
    "   0             8\n",
    "```\n",
    "\n",
    "**Árbol Corregido:**\n",
    "```\n",
    "          4\n",
    "        /   \\\n",
    "       2     6\n",
    "      / \\   / \\\n",
    "     1   3  5   7\n",
    "    /           \\\n",
    "   0             8\n",
    "```\n",
    "\n",
    "**Recorrido Inorden del Árbol Corregido:**\n",
    "```\n",
    "[0, 1, 2, 3, 4, 5, 6, 7, 8]\n",
    "```\n",
    "\n",
    "---\n"
   ],
   "id": "71dda17b8f2398d4"
  }
 ],
 "metadata": {
  "kernelspec": {
   "display_name": "Python 3",
   "language": "python",
   "name": "python3"
  },
  "language_info": {
   "codemirror_mode": {
    "name": "ipython",
    "version": 2
   },
   "file_extension": ".py",
   "mimetype": "text/x-python",
   "name": "python",
   "nbconvert_exporter": "python",
   "pygments_lexer": "ipython2",
   "version": "2.7.6"
  }
 },
 "nbformat": 4,
 "nbformat_minor": 5
}
