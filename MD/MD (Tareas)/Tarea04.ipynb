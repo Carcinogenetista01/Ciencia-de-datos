{
 "cells": [
  {
   "metadata": {},
   "cell_type": "markdown",
   "source": "# Ejercicios",
   "id": "a17f942fbff7d07f"
  },
  {
   "metadata": {},
   "cell_type": "markdown",
   "source": [
    "## Ejercicio 1\n",
    "\n",
    "Escribe un algoritmo `num_connected(G)` que, dada una gráfica `G`, regrese el número de componentes conexas que tiene."
   ],
   "id": "e6fde07ba110cafe"
  },
  {
   "metadata": {},
   "cell_type": "code",
   "outputs": [],
   "execution_count": 11,
   "source": [
    "import numpy as np\n",
    "import matplotlib.pyplot as plt\n",
    "import networkx as nx"
   ],
   "id": "7454af18cd576c49"
  },
  {
   "metadata": {
    "ExecuteTime": {
     "end_time": "2024-09-10T23:28:48.198329Z",
     "start_time": "2024-09-10T23:28:48.092462Z"
    }
   },
   "cell_type": "code",
   "source": [
    "G = nx.gnp_random_graph(8, 1/3)\n",
    "nx.draw(G, with_labels=True, font_weight='bold')"
   ],
   "id": "8c264b0c08fffa4a",
   "outputs": [
    {
     "data": {
      "text/plain": [
       "<Figure size 640x480 with 1 Axes>"
      ],
      "image/png": "[encoded data removed]"
     },
     "metadata": {},
     "output_type": "display_data"
    }
   ],
   "execution_count": 12
  },
  {
   "metadata": {
    "ExecuteTime": {
     "end_time": "2024-09-11T02:46:02.826772Z",
     "start_time": "2024-09-11T02:46:02.818140Z"
    }
   },
   "cell_type": "code",
   "source": [
    "def dfs(G, v, visited):\n",
    "    visited[v] = True  # Marca el nodo actual como visitado\n",
    "    \n",
    "    for u in G.neighbors(v):\n",
    "        if not visited[u]:\n",
    "            dfs(G, u, visited)\n",
    "\n",
    "def num_connected(G):\n",
    "    # Inicializa el diccionario de nodos visitados\n",
    "    visited = {node: False for node in G.nodes}\n",
    "    \n",
    "    num_componentes_conexas = 0\n",
    "    \n",
    "    # Recorre todos los nodos del grafo\n",
    "    for v in G.nodes:\n",
    "        if not visited[v]:\n",
    "            # Si el nodo no ha sido visitado, es el comienzo de una nueva componente conexa\n",
    "            num_componentes_conexas += 1\n",
    "            # Llama a DFS para marcar todos los nodos en esta componente conexa\n",
    "            dfs(G, v, visited)\n",
    "    \n",
    "    return num_componentes_conexas\n",
    "\n",
    "# Generar un grafo aleatorio\n",
    "G = nx.gnp_random_graph(8, 1/3)\n",
    "\n",
    "# Contar el número de componentes conexas\n",
    "num = num_connected(G)\n",
    "print(f\"componentes conexas: {num}\")\n"
   ],
   "id": "initial_id",
   "outputs": [
    {
     "name": "stdout",
     "output_type": "stream",
     "text": [
      "componentes conexas: 2\n"
     ]
    }
   ],
   "execution_count": 32
  },
  {
   "metadata": {},
   "cell_type": "markdown",
   "source": [
    "## Ejercicio 2\n",
    "\n",
    "Dada una matriz de 0s y 1s, donde los 0s representan agua y los 1s tierra, escribe un algoritmo de NetworkX que cuente el número de *islas* que hay. Una isla se define como un conjunto de celdas de tierra conectadas por alguno de sus cuatro lados. Deberás escribir una función para convertir la matriz a una gráfica que la represente adecuadamente.\n",
    "\n",
    "Por ejemplo, consideremos la siguiente matriz:"
   ],
   "id": "ac1233723ae4e14e"
  },
  {
   "metadata": {
    "ExecuteTime": {
     "end_time": "2024-09-10T23:34:51.285537Z",
     "start_time": "2024-09-10T23:34:51.178084Z"
    }
   },
   "cell_type": "code",
   "source": [
    "M = np.zeros((10, 10))\n",
    "M[0, 0] = M[1, 0] = M[2, 0] = M[3, 0] = M[3, 1] = M[4, 1] = 1\n",
    "M[5, 5] = 1\n",
    "M[7, 0] = M[8, 0] = M[9, 0] = 1\n",
    "M[6, 6] = 1\n",
    "\n",
    "plt.imshow(M)"
   ],
   "id": "79e1f7f2b9a063ad",
   "outputs": [
    {
     "data": {
      "text/plain": [
       "<matplotlib.image.AxesImage at 0x11e0c0250>"
      ]
     },
     "execution_count": 23,
     "metadata": {},
     "output_type": "execute_result"
    },
    {
     "data": {
      "text/plain": [
       "<Figure size 640x480 with 1 Axes>"
      ],
      "image/png": "[encoded data removed]"
     },
     "metadata": {},
     "output_type": "display_data"
    }
   ],
   "execution_count": 23
  },
  {
   "metadata": {},
   "cell_type": "markdown",
   "source": "Tu función debe de regresar **4** islas (nota que las dos islas de la derecha están separadas, ya que solo se tocan diagonalmente).",
   "id": "204a0db2ba6c225d"
  },
  {
   "metadata": {
    "ExecuteTime": {
     "end_time": "2024-09-10T23:36:42.212877Z",
     "start_time": "2024-09-10T23:36:42.205176Z"
    }
   },
   "cell_type": "code",
   "source": [
    "def matriz_a_grafo(matriz):\n",
    "    G = nx.Graph()\n",
    "    filas, columnas = matriz.shape\n",
    "\n",
    "    for i in range(filas):\n",
    "        for j in range(columnas):\n",
    "            if matriz[i, j] == 1:\n",
    "                # Agregar el nodo correspondiente\n",
    "                G.add_node((i, j))\n",
    "\n",
    "                # Conectar con nodos adyacentes (arriba, abajo, izquierda, derecha)\n",
    "                if i > 0 and matriz[i-1, j] == 1:\n",
    "                    G.add_edge((i, j), (i-1, j))\n",
    "                if i < filas-1 and matriz[i+1, j] == 1:\n",
    "                    G.add_edge((i, j), (i+1, j))\n",
    "                if j > 0 and matriz[i, j-1] == 1:\n",
    "                    G.add_edge((i, j), (i, j-1))\n",
    "                if j < columnas-1 and matriz[i, j+1] == 1:\n",
    "                    G.add_edge((i, j), (i, j+1))\n",
    "                    \n",
    "    return G\n",
    "\n",
    "def contar_islas(matriz):\n",
    "    G = matriz_a_grafo(matriz)\n",
    "    \n",
    "    # Encontrar las componentes conexas en el grafo\n",
    "    componentes = list(nx.connected_components(G))\n",
    "    \n",
    "    return len(componentes)\n",
    "\n",
    "# Contar el número de islas\n",
    "num_islas = contar_islas(M)\n",
    "print(f\"El número de islas es: {num_islas}\")\n"
   ],
   "id": "56831ca90f9b8214",
   "outputs": [
    {
     "name": "stdout",
     "output_type": "stream",
     "text": [
      "El número de islas es: 4\n"
     ]
    }
   ],
   "execution_count": 27
  }
 ],
 "metadata": {
  "kernelspec": {
   "display_name": "Python 3",
   "language": "python",
   "name": "python3"
  },
  "language_info": {
   "codemirror_mode": {
    "name": "ipython",
    "version": 2
   },
   "file_extension": ".py",
   "mimetype": "text/x-python",
   "name": "python",
   "nbconvert_exporter": "python",
   "pygments_lexer": "ipython2",
   "version": "2.7.6"
  }
 },
 "nbformat": 4,
 "nbformat_minor": 5
}
