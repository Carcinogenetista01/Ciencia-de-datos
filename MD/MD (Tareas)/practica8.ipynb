{
 "cells": [
  {
   "metadata": {},
   "cell_type": "markdown",
   "source": [
    "## 1\n",
    "\n",
    "Para un arreglo $A$, decimos que ocurre un *volteo* si para un par de índices $i, j$ con $i<j$, ocurre que $A[i] > A[j]$. \n",
    "\n",
    "Escribe un algoritmo que cuente el número de volteos. Debe de tener complejidad en tiempo $O(n\\log n)$, donde $n$ es el número de elementos del arreglo. Calcula su complejidad en espacio."
   ],
   "id": "47c4f52b93591035"
  },
  {
   "metadata": {},
   "cell_type": "markdown",
   "source": [
    "\n",
    "Podemos modificar el algoritmo de Merge Sort para contar los volteos mientras ordenamos el arreglo. Esta solución tiene una complejidad temporal de O(n log n).\n",
    "\n",
    "### Algoritmo\n",
    "\n",
    "1. Dividir el arreglo en dos mitades.\n",
    "2. Contar recursivamente los volteos en cada mitad.\n",
    "3. Contar los volteos durante el proceso de combinación (merge).\n",
    "4. Sumar los conteos de las dos mitades y el conteo del proceso de combinación.\n"
   ],
   "id": "1a59dc41b320cd2a"
  },
  {
   "cell_type": "code",
   "execution_count": null,
   "id": "initial_id",
   "metadata": {
    "collapsed": true
   },
   "outputs": [],
   "source": [
    "def merge_and_count(left, right):\n",
    "    result = []\n",
    "    i, j, count = 0, 0, 0\n",
    "    while i < len(left) and j < len(right):\n",
    "        if left[i] <= right[j]:\n",
    "            result.append(left[i])\n",
    "            i += 1\n",
    "        else:\n",
    "            result.append(right[j])\n",
    "            count += len(left) - i  # Contamos los volteos\n",
    "            j += 1\n",
    "    result.extend(left[i:])\n",
    "    result.extend(right[j:])\n",
    "    return result, count\n",
    "\n",
    "\n",
    "def count_inversions(arr):\n",
    "    if len(arr) <= 1:\n",
    "        return arr, 0\n",
    "    mid = len(arr) // 2\n",
    "    left, left_count = count_inversions(arr[:mid])\n",
    "    right, right_count = count_inversions(arr[mid:])\n",
    "    merged, merge_count = merge_and_count(left, right)\n",
    "    return merged, left_count + right_count + merge_count\n",
    "\n",
    "\n",
    "# Ejemplo de uso\n",
    "A = [5, 2, 8, 1, 9, 3]\n",
    "sorted_A, inversions = count_inversions(A)\n",
    "print(f\"Número de volteos: {inversions}\")"
   ]
  },
  {
   "metadata": {},
   "cell_type": "markdown",
   "source": [
    "## 2\n",
    "\n",
    "Dado un arreglo $A$ de números enteros, y un entero $k>0$, escribe un algoritmo que regrese todos los pares $(a,b)$ con $a,b\\in A$ que cumplen $a-b=k$. Este debe de correr en tiempo lineal, y el resultado no debe de tener pares repetidos."
   ],
   "id": "be9c3183625c00b4"
  },
  {
   "metadata": {},
   "cell_type": "markdown",
   "source": [
    "\n",
    "Utilizaremos un conjunto (set) para lograr una búsqueda eficiente y eliminar duplicados. El algoritmo sigue estos pasos:\n",
    "\n",
    "1. Crear un conjunto con todos los elementos de A.\n",
    "2. Iterar sobre cada elemento 'a' en A.\n",
    "3. Para cada 'a', calcular 'b' como a - k.\n",
    "4. Verificar si 'b' existe en el conjunto.\n",
    "5. Si existe, añadir el par (a,b) al resultado.\n",
    "\n"
   ],
   "id": "ead76e19cc7294d7"
  },
  {
   "metadata": {},
   "cell_type": "code",
   "outputs": [],
   "execution_count": null,
   "source": [
    "def find_pairs_with_difference(A, k):\n",
    "    num_set = set(A)\n",
    "    result_set = set()\n",
    "    \n",
    "    for a in A:\n",
    "        b = a - k\n",
    "        if b in num_set:\n",
    "            # Ordenamos el par para evitar duplicados como (5,2) y (2,5)\n",
    "            result_set.add((max(a, b), min(a, b)))\n",
    "    \n",
    "    return list(result_set)\n",
    "\n",
    "# Ejemplo de uso\n",
    "A = [1, 7, 5, 9, 2, 12, 3]\n",
    "k = 2\n",
    "pairs = find_pairs_with_difference(A, k)\n",
    "print(f\"Pares (a,b) donde a - b = {k}:\")\n",
    "for pair in pairs:\n",
    "    print(pair)"
   ],
   "id": "de4acd33de775ae8"
  },
  {
   "metadata": {},
   "cell_type": "markdown",
   "source": [
    "## 3\n",
    "\n",
    "Dado un arreglo $A$, escribe un algoritmo que determine la tupla $(a, b, c)$ con $a, b, c\\in A$ tal que el producto $a\\cdot b\\cdot c$ es máximo. Este debe de correr en tiempo lineal.\n"
   ],
   "id": "df1c4f544581868e"
  },
  {
   "metadata": {},
   "cell_type": "markdown",
   "source": [
    "\n",
    "Para resolver este problema en tiempo lineal, podemos seguir estos pasos:\n",
    "\n",
    "1. Encontrar los tres números más grandes del arreglo.\n",
    "2. Encontrar los dos números más pequeños del arreglo.\n",
    "3. Comparar el producto de los tres números más grandes con el producto de los dos números más pequeños y el número más grande.\n",
    "\n",
    "La razón para hacer esto es que el producto máximo puede venir de:\n",
    "- Los tres números positivos más grandes.\n",
    "- Los dos números negativos más pequeños (que al multiplicarse dan un positivo) y el número positivo más grande.\n",
    "\n",
    "Este enfoque funciona porque cubre todos los casos posibles:\n",
    "- Si todos los números son positivos, tomará los tres más grandes.\n",
    "- Si hay números negativos, considerará si dos negativos grandes multiplicados por el positivo más grande dan un resultado mayor.\n",
    "\n"
   ],
   "id": "4f28d0d90214b08e"
  },
  {
   "metadata": {},
   "cell_type": "code",
   "outputs": [],
   "execution_count": null,
   "source": [
    "def max_triple_product(A):\n",
    "    if len(A) < 3:\n",
    "        raise ValueError(\"El arreglo debe tener al menos 3 elementos\")\n",
    "\n",
    "    # Inicializamos con los primeros tres elementos\n",
    "    max1 = max2 = max3 = float('-inf')\n",
    "    min1 = min2 = float('inf')\n",
    "\n",
    "    for num in A:\n",
    "        # Actualizamos los máximos\n",
    "        if num > max1:\n",
    "            max3, max2, max1 = max2, max1, num\n",
    "        elif num > max2:\n",
    "            max3, max2 = max2, num\n",
    "        elif num > max3:\n",
    "            max3 = num\n",
    "\n",
    "        # Actualizamos los mínimos\n",
    "        if num < min1:\n",
    "            min2, min1 = min1, num\n",
    "        elif num < min2:\n",
    "            min2 = num\n",
    "\n",
    "    # Comparamos los dos productos posibles\n",
    "    product1 = max1 * max2 * max3\n",
    "    product2 = max1 * min1 * min2\n",
    "\n",
    "    if product1 > product2:\n",
    "        return (max1, max2, max3)\n",
    "    else:\n",
    "        return (max1, min1, min2)\n",
    "\n",
    "# Ejemplo de uso\n",
    "A = [1, -4, 3, -6, 7, 0]\n",
    "result = max_triple_product(A)\n",
    "print(f\"La tupla con el máximo producto es: {result}\")\n",
    "print(f\"El producto máximo es: {result[0] * result[1] * result[2]}\")"
   ],
   "id": "f6e850a2d62e1ae9"
  }
 ],
 "metadata": {
  "kernelspec": {
   "display_name": "Python 3",
   "language": "python",
   "name": "python3"
  },
  "language_info": {
   "codemirror_mode": {
    "name": "ipython",
    "version": 2
   },
   "file_extension": ".py",
   "mimetype": "text/x-python",
   "name": "python",
   "nbconvert_exporter": "python",
   "pygments_lexer": "ipython2",
   "version": "2.7.6"
  }
 },
 "nbformat": 4,
 "nbformat_minor": 5
}
