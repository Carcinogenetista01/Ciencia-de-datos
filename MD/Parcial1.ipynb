{
 "cells": [
  {
   "cell_type": "code",
   "id": "initial_id",
   "metadata": {
    "collapsed": true,
    "ExecuteTime": {
     "end_time": "2024-10-17T20:24:12.683588Z",
     "start_time": "2024-10-17T20:24:12.671812Z"
    }
   },
   "source": [
    "def mult(list_L: list) -> list:\n",
    "    suma = []\n",
    "    acumulado = 0\n",
    "    for n in list_L:\n",
    "        acumulado += n\n",
    "        suma.append(acumulado)\n",
    "    return suma\n",
    "\n",
    "L = [1, 2, 3, 4, 5]\n",
    "print(mult(L))  # Resultado: [1, 3, 6, 10, 15]\n"
   ],
   "outputs": [
    {
     "name": "stdout",
     "output_type": "stream",
     "text": [
      "[1, 3, 6, 10, 15]\n"
     ]
    }
   ],
   "execution_count": 14
  },
  {
   "metadata": {},
   "cell_type": "code",
   "outputs": [],
   "execution_count": null,
   "source": "",
   "id": "2cfeebfba3675643"
  }
 ],
 "metadata": {
  "kernelspec": {
   "display_name": "Python 3",
   "language": "python",
   "name": "python3"
  },
  "language_info": {
   "codemirror_mode": {
    "name": "ipython",
    "version": 2
   },
   "file_extension": ".py",
   "mimetype": "text/x-python",
   "name": "python",
   "nbconvert_exporter": "python",
   "pygments_lexer": "ipython2",
   "version": "2.7.6"
  }
 },
 "nbformat": 4,
 "nbformat_minor": 5
}
